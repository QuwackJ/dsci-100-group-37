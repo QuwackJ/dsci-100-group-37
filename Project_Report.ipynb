{
 "cells": [
  {
   "cell_type": "markdown",
   "id": "9704ab68-e8ad-48e3-b8bb-91cb7db82be7",
   "metadata": {},
   "source": [
    "## Classifying Exoplanets: Exploring NASA's Kepler Space Observatory Dataset"
   ]
  },
  {
   "cell_type": "markdown",
   "id": "6e98bb8b-f8bc-4efb-a805-0d3b94196126",
   "metadata": {},
   "source": [
    "## Introduction"
   ]
  },
  {
   "cell_type": "markdown",
   "id": "b10228b4-d07b-4293-beff-d9ad31b433ee",
   "metadata": {
    "tags": []
   },
   "source": [
    "One of the most fascinating subjects in astronomical research is finding exoplanets, planets that orbit stars beyond our solar system. The Kepler Space Observatory, a NASA space telescope for finding exoplanets, has analyzed thousands of planets, especially ones that are roughly Earth-sized and within habitable zones. From 2009 to 2018, Kepler revolutionized our understanding of extrasolar systems by cross-checking previous observations of exoplanets and labeling them as confirmed planets, candidates, or false positives.\n",
    "Our primary question is: *Can we accurately classify celestial bodies as exoplanets based on their observed characteristics using the Kepler exoplanet dataset?*\n",
    "Our project will analyze the NASA Kepler exoplanet dataset. This dataset contains details about celestial objects, including their radius, transit, stellar luminosity, and other essential attributes. By analyzing this dataset, we hope to develop a predictive classification model that discerns exoplanets from other extrasolar entities."
   ]
  },
  {
   "cell_type": "code",
   "execution_count": null,
   "id": "071c9f81-9b18-431d-9bf3-7c7827fdc078",
   "metadata": {
    "tags": []
   },
   "outputs": [],
   "source": [
    "install.packages(\"devtools\")\n",
    "library(devtools)\n",
    "install_github(\"ggobi/ggally\")"
   ]
  },
  {
   "cell_type": "code",
   "execution_count": null,
   "id": "ce77fc2b-71ee-49e8-b700-1b1298d62697",
   "metadata": {
    "tags": []
   },
   "outputs": [],
   "source": [
    "install.packages(\"recipes\")\n",
    "install.packages(\"kknn\")"
   ]
  },
  {
   "cell_type": "code",
   "execution_count": null,
   "id": "e69aab02-7920-4c96-bde2-2fc4d047aa4c",
   "metadata": {
    "tags": []
   },
   "outputs": [],
   "source": [
    "library(tidyverse)\n",
    "library(tidymodels)\n",
    "library(GGally)\n",
    "library(repr)\n",
    "library(recipes)\n",
    "library(kknn)\n",
    "options(repr.matrix.max.rows = 6)"
   ]
  },
  {
   "cell_type": "markdown",
   "id": "6638b6d5-2ced-48d4-b88a-8bb4736c03c6",
   "metadata": {},
   "source": [
    "## Loading Original Data"
   ]
  },
  {
   "cell_type": "code",
   "execution_count": null,
   "id": "da17381d-b216-433b-8c43-9126be735bfd",
   "metadata": {
    "tags": []
   },
   "outputs": [],
   "source": [
    "## Reading the original data from Kaggle\n",
    "exoplanet <- read_csv(\"https://raw.githubusercontent.com/QuwackJ/dsci-100-group-37/main/Data/cumulative.csv\")\n",
    "cat(\"\\n↓ Table 1. First 6 rows of the Exoplanet dataset ↓\\n\")\n",
    "head(exoplanet)"
   ]
  },
  {
   "cell_type": "markdown",
   "id": "796991ca-eee6-44cd-a6d0-7db77f39a722",
   "metadata": {},
   "source": [
    "## Wrangling Original Data"
   ]
  },
  {
   "cell_type": "code",
   "execution_count": null,
   "id": "da6f0d80-aac8-4e21-bca5-872f6d168cf1",
   "metadata": {
    "tags": []
   },
   "outputs": [],
   "source": [
    "## Counting NA values in original data\n",
    "na_in_exoplanet <- exoplanet |>\n",
    "                   summarize_all(~ sum(is.na(.)))\n",
    "cat(\"\\n↓ Table 2. NA values in the Exoplanet dataset ↓\\n\")\n",
    "na_in_exoplanet\n",
    "\n",
    "## Selecting for our predictors and removing planets with less confidence\n",
    "exoplanet_selected <- exoplanet |>\n",
    "                        mutate(koi_disposition = as_factor(koi_disposition)) |>\n",
    "                        mutate(koi_disposition = fct_recode(koi_disposition, \"NOT EXOPLANET\" = \"FALSE POSITIVE\")) |>\n",
    "                        filter((koi_disposition == \"NOT EXOPLANET\" & koi_score <= 0.3) | (koi_disposition == \"CONFIRMED\" & koi_score >= 0.8)) |>\n",
    "                        select(koi_disposition, koi_score, koi_period, koi_depth, koi_duration, koi_impact)\n",
    "cat(\"\\n↓ Table 3. First 6 rows of the selected Exoplanet dataset ↓\\n\")\n",
    "head(exoplanet_selected)\n",
    "\n",
    "## Counting the number of rows in the selected data\n",
    "row_count_exoplanet_selected <- count(exoplanet_selected)\n",
    "cat(\"\\n↓ Table 4. Counts of rows in the selected Exoplanet dataset ↓\\n\")\n",
    "row_count_exoplanet_selected\n",
    "\n",
    "## Counting NA values in selected data\n",
    "na_in_exoplanet_selected <- exoplanet_selected |>\n",
    "                            summarize_all(~ sum(is.na(.)))\n",
    "cat(\"\\n↓ Table 5. NA values in the selected Exoplanet dataset ↓\\n\")\n",
    "na_in_exoplanet_selected\n",
    "\n",
    "## Removing NA values in exoplanet_selected\n",
    "exoplanet_selected <- exoplanet_selected |>\n",
    "                      drop_na()  \n",
    "cat(\"\\n↓ Table 6. First 6 rows of the selected Exoplanet dataset without NA values ↓\\n\")\n",
    "head(exoplanet_selected)\n",
    "\n",
    "## Splitting into training and testing data\n",
    "exoplanet_split <- initial_split(exoplanet_selected, prop = 0.75, strata = koi_disposition)\n",
    "training_data <- training(exoplanet_split)   \n",
    "testing_data <- testing(exoplanet_split)"
   ]
  },
  {
   "cell_type": "markdown",
   "id": "cc5fb989-05b1-4790-afd6-395c6b5d724b",
   "metadata": {},
   "source": [
    "## Classification"
   ]
  },
  {
   "cell_type": "code",
   "execution_count": null,
   "id": "7edef374-4797-44f1-a043-6525afafb898",
   "metadata": {
    "tags": []
   },
   "outputs": [],
   "source": [
    "set.seed(1234) \n",
    "\n",
    "options(repr.plot.height = 6, repr.plot.width = 6)\n",
    "\n",
    "recipe <- recipe(koi_disposition ~ ., data = training_data) |>\n",
    "          step_rm(koi_score) |>\n",
    "          step_scale(all_predictors()) |>\n",
    "          step_center(all_predictors())  \n",
    "\n",
    "knn_tune <- nearest_neighbor(weight_func = \"rectangular\", neighbors = tune()) |>\n",
    "           set_engine(\"kknn\") |>\n",
    "           set_mode(\"classification\")\n",
    "\n",
    "vfold <- vfold_cv(training_data, v = 5, strata = koi_disposition)\n",
    "\n",
    "k_vals <- tibble(neighbors = seq(from = 1, to = 15, by = 1))\n",
    "\n",
    "knn_fit <- workflow() |>\n",
    "          add_recipe(recipe) |>\n",
    "          add_model(knn_tune) |>\n",
    "          tune_grid(resamples = vfold, grid = k_vals) |>\n",
    "          collect_metrics()\n",
    "      \n",
    "accuracies <- knn_fit |> \n",
    "            filter(.metric == \"accuracy\")\n",
    "\n",
    "cross_val_plot <- ggplot(accuracies, aes(x = neighbors, y = mean)) +\n",
    "                  geom_point() +\n",
    "                  geom_line() +\n",
    "                  labs(x = \"Neighbors\", y = \"Accuracy Estimate\") + \n",
    "                  ggtitle(\"Figure 1. Estimated accuracy versus number of neighbors for the training data\") +\n",
    "                  theme(text = element_text(size = 12))\n",
    "\n",
    "cross_val_plot"
   ]
  },
  {
   "cell_type": "code",
   "execution_count": null,
   "id": "5a3fa8b0-deba-44ab-85a5-e3466b20960a",
   "metadata": {
    "tags": []
   },
   "outputs": [],
   "source": [
    "exo_spec <- nearest_neighbor(weight_func = \"rectangular\", neighbors = 6)|>\n",
    "          set_engine(\"kknn\") |>\n",
    "          set_mode(\"classification\")\n",
    "\n",
    "exo_fit <- workflow() |>\n",
    "          add_recipe(recipe) |>\n",
    "          add_model(exo_spec) |>\n",
    "          fit(data = training_data)\n",
    "\n",
    "final_prediction <- predict(exo_fit, testing_data)|>\n",
    "                    bind_cols(testing_data)\n",
    "\n",
    "final_prediction_accuracy <- final_prediction |>\n",
    "                            metrics(truth=koi_disposition,estimate=.pred_class)\n",
    "cat(\"\\n↓ Table 7. Accuracies of predicting the testing data ↓\\n\")\n",
    "\n",
    "final_prediction_accuracy"
   ]
  },
  {
   "cell_type": "markdown",
   "id": "13cf6b77-865a-4b80-a4ef-816e30ec57f8",
   "metadata": {},
   "source": [
    "**Classification analysis**\n",
    "\n",
    "After we observed relationships between our chosen predictors, we tried to solve the predictive question of accurately classifying celestial bodies as exoplanets based on the predictors selected from the Kepler exoplanet dataset.\n",
    "\n",
    "We used the K-Nearest Neighbors (KNN) algorithm for this classification analysis, with the dataset split into 75% training data and 25% testing data. This step is essential for assessing the performance and generalization capabilities of the KNN model. It allows for an unbiased evaluation and helps prevent overfitting, which is critical for developing reliable machine-learning models. Next, we created a model recipe and a specification for the training data and implemented 5-fold cross-validation to optimize the hyperparameter K. We tuned the KNN classifier with these predictors and collected the accuracy for the best K. By creating a plot with estimated accuracy versus the number of neighbors from 1 to 15, we found the best K value to be 5 or 6 (Fig. 1). The plot shows the accuracy estimates increase with K value from 1 to 6, followed by a slight decrease. Since the dataset is relatively large as shown in Table 9, choosing a large K value has its advantages, such as lower variance to avoid overfitting and reduced sensitivity to noise. However, it also introduces drawbacks, including potential loss of local detail and increased bias. The optimal K value depends on the specific characteristics of the dataset and the balance between bias and variance that is suitable for the given problem. \n",
    "\n",
    "According to the accuracy plot, we picked K = 10 for the KNN classifier model of the testing data. We used the metrics function to assess the model's performance, with the final accuracy achieved as 0.8538360, and the Kappa (kap) statistic was 0.6885618 (Table 8). The accuracy of 85.38% suggests that our classification model is performing well. This metric represents the proportion of correctly classified instances among the total instances in the testing set. In the context of our predictive question, this high accuracy indicates that the observed characteristics in the Kepler exoplanet dataset are informative and discriminatory enough to distinguish between exoplanets and other celestial bodies. The Kappa statistic measures the agreement between the predicted and actual classifications while accounting for the possibility of agreement occurring by chance. A Kappa value of 0.6885618 suggests substantial agreement beyond what would be expected by random chance. In the context of our analysis, this indicates that our classification model is accurate and robust, as it considers the possibility of random agreement and still demonstrates significant predictive power."
   ]
  },
  {
   "cell_type": "markdown",
   "id": "6701c7cb-c99f-4d30-9f08-16a9cadec806",
   "metadata": {},
   "source": [
    "## Predictor Correlation Plot"
   ]
  },
  {
   "cell_type": "code",
   "execution_count": null,
   "id": "4a395f11-dea0-4802-98f6-126c13e6ccee",
   "metadata": {
    "tags": []
   },
   "outputs": [],
   "source": [
    "options(repr.plot.width = 11, repr.plot.height = 11)\n",
    "predictor_plot <- ggpairs(exoplanet_selected, columns = 2:5, \n",
    "                          ggplot2::aes(colour = koi_disposition), \n",
    "                          upper = list(continuous = wrap(\"cor\", size = 4)), \n",
    "                          lower = list(continuous = wrap(\"points\", alpha = 0.6)))\n",
    "predictor_plot + theme(axis.text = element_text(size = 12), \n",
    "                       strip.text.x = element_text(size = 15), \n",
    "                       strip.text.y = element_text(size = 15)) +\n",
    "                       ggtitle(\"Figure 2. Correlation between all the predictors in the selected Exoplanet dataset\")"
   ]
  },
  {
   "cell_type": "code",
   "execution_count": null,
   "id": "45f7b41a-8d5b-48c0-908c-4656f268db13",
   "metadata": {
    "tags": []
   },
   "outputs": [],
   "source": [
    "#Summary Tables:-\n",
    "\n",
    "\n",
    "\n",
    "\n",
    "##Count the number of confirmed and not exoplanet\n",
    "\n",
    "\n",
    "\n",
    "disposition_count <- exoplanet_selected |>\n",
    "                     group_by(koi_disposition) |>\n",
    "                     summarize(count = n())\n",
    "\n",
    "cat(\"\\n↓ Table 8. Disposition Count ↓\\n\")\n",
    "\n",
    "disposition_count\n",
    "\n",
    "\n",
    "\n",
    "##Mean and SD for predictor values for confirmed\n",
    "\n",
    "\n",
    "exoplanet_filter_confirmed_mean <- exoplanet_selected |>\n",
    "                                filter(koi_disposition == \"CONFIRMED\") |>\n",
    "                                select(-koi_disposition, -koi_score) |>\n",
    "                                map_df(mean, na.rm = TRUE)\n",
    "\n",
    "\n",
    "exoplanet_filter_confirmed_sd <- exoplanet_selected |>\n",
    "                                filter(koi_disposition == \"CONFIRMED\") |>\n",
    "                                select(-koi_disposition, -koi_score) |>\n",
    "                                map_df(sd, na.rm = TRUE)\n",
    "\n",
    "\n",
    "\n",
    "cat(\"\\n↓ Table 9. Means of all predictors for CONFIRMED exoplanets ↓\\n\")\n",
    "\n",
    "exoplanet_filter_confirmed_mean\n",
    "\n",
    "cat(\"\\n↓ Table 10. Standard deviation of all predictors for CONFIRMED exoplanets ↓\\n\")\n",
    "\n",
    "exoplanet_filter_confirmed_sd\n",
    "##Mean and SD for predictor values for not exoplanet\n",
    "\n",
    "\n",
    "exoplanet_filter_not_exoplanet_mean <- exoplanet_selected |>\n",
    "                                filter(koi_disposition == \"NOT EXOPLANET\") |>\n",
    "                                select(-koi_disposition, -koi_score) |>\n",
    "                                map_df(mean, na.rm = TRUE)\n",
    "\n",
    "\n",
    "\n",
    "exoplanet_filter_not_exoplanet_sd <- exoplanet_selected |>\n",
    "                                filter(koi_disposition == \"NOT EXOPLANET\") |>\n",
    "                                select(-koi_disposition, -koi_score) |>\n",
    "                                map_df(sd, na.rm = TRUE)\n",
    "\n",
    "cat(\"\\n↓ Table 11. Means of all predictors for NOT EXOPLANETS ↓\\n\")\n",
    "\n",
    "exoplanet_filter_not_exoplanet_mean\n",
    "\n",
    "cat(\"\\n↓ Table 12. Standard deviation of all predictors for NOT EXOPLANETS ↓\\n\")\n",
    "\n",
    "exoplanet_filter_not_exoplanet_sd"
   ]
  },
  {
   "cell_type": "markdown",
   "id": "6e4a1dee-cea7-4006-afea-0678a6853051",
   "metadata": {},
   "source": [
    "## References"
   ]
  },
  {
   "cell_type": "markdown",
   "id": "af516328-2d27-487c-ac4a-16d4f20d2acb",
   "metadata": {},
   "source": [
    "Dataset: https://www.kaggle.com/datasets/nasa/kepler-exoplanet-search-results\n",
    "\n",
    "Column Explanation: https://exoplanetarchive.ipac.caltech.edu/docs/API_kepcandidate_columns.html\n"
   ]
  }
 ],
 "metadata": {
  "kernelspec": {
   "display_name": "R",
   "language": "R",
   "name": "ir"
  },
  "language_info": {
   "codemirror_mode": "r",
   "file_extension": ".r",
   "mimetype": "text/x-r-source",
   "name": "R",
   "pygments_lexer": "r",
   "version": "4.2.2"
  },
  "widgets": {
   "application/vnd.jupyter.widget-state+json": {
    "state": {},
    "version_major": 2,
    "version_minor": 0
   }
  }
 },
 "nbformat": 4,
 "nbformat_minor": 5
}
