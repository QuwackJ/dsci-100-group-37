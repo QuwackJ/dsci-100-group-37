{
 "cells": [
  {
   "cell_type": "markdown",
   "id": "9704ab68-e8ad-48e3-b8bb-91cb7db82be7",
   "metadata": {},
   "source": [
    "## Classifying Exoplanets: Exploring NASA's Kepler Space Observatory Dataset"
   ]
  },
  {
   "cell_type": "markdown",
   "id": "6e98bb8b-f8bc-4efb-a805-0d3b94196126",
   "metadata": {},
   "source": [
    "## Introduction"
   ]
  },
  {
   "cell_type": "markdown",
   "id": "b10228b4-d07b-4293-beff-d9ad31b433ee",
   "metadata": {
    "tags": []
   },
   "source": [
    "One of the most fascinating subjects in astronomical research is finding exoplanets, planets that orbit stars beyond our solar system. The Kepler Space Observatory, a NASA space telescope for finding exoplanets, has analyzed thousands of planets, especially ones that are roughly Earth-sized and within habitable zones. From 2009 to 2018, Kepler revolutionized our understanding of extrasolar systems by cross-checking previous observations of exoplanets and labeling them as confirmed planets, candidates, or false positives.\n",
    "Our primary question is: *Can we accurately classify celestial bodies as exoplanets based on their observed characteristics using the Kepler exoplanet dataset?*\n",
    "Our project will analyze the NASA Kepler exoplanet dataset. This dataset contains details about celestial objects, including their radius, transit, stellar luminosity, and other essential attributes. By analyzing this dataset, we hope to develop a predictive classification model that discerns exoplanets from other extrasolar entities."
   ]
  },
  {
   "cell_type": "code",
   "execution_count": 1,
   "id": "071c9f81-9b18-431d-9bf3-7c7827fdc078",
   "metadata": {
    "tags": []
   },
   "outputs": [
    {
     "name": "stderr",
     "output_type": "stream",
     "text": [
      "also installing the dependencies ‘broom.helpers’, ‘ggplot2’, ‘ggstats’\n",
      "\n",
      "\n",
      "Warning message in install.packages(\"GGally\"):\n",
      "“installation of package ‘broom.helpers’ had non-zero exit status”\n",
      "Warning message in install.packages(\"GGally\"):\n",
      "“installation of package ‘ggstats’ had non-zero exit status”\n",
      "Warning message in install.packages(\"GGally\"):\n",
      "“installation of package ‘GGally’ had non-zero exit status”\n",
      "Updating HTML index of packages in '.Library'\n",
      "\n",
      "Making 'packages.html' ...\n",
      " done\n",
      "\n"
     ]
    }
   ],
   "source": [
    "install.packages(\"GGally\")"
   ]
  },
  {
   "cell_type": "code",
   "execution_count": 2,
   "id": "ce77fc2b-71ee-49e8-b700-1b1298d62697",
   "metadata": {
    "tags": []
   },
   "outputs": [
    {
     "name": "stderr",
     "output_type": "stream",
     "text": [
      "also installing the dependency ‘hardhat’\n",
      "\n",
      "\n",
      "Updating HTML index of packages in '.Library'\n",
      "\n",
      "Making 'packages.html' ...\n",
      " done\n",
      "\n",
      "Updating HTML index of packages in '.Library'\n",
      "\n",
      "Making 'packages.html' ...\n",
      " done\n",
      "\n"
     ]
    }
   ],
   "source": [
    "install.packages(\"recipes\")\n",
    "install.packages(\"kknn\")"
   ]
  },
  {
   "cell_type": "code",
   "execution_count": 3,
   "id": "e69aab02-7920-4c96-bde2-2fc4d047aa4c",
   "metadata": {
    "tags": []
   },
   "outputs": [
    {
     "name": "stderr",
     "output_type": "stream",
     "text": [
      "── \u001b[1mAttaching packages\u001b[22m ─────────────────────────────────────── tidyverse 1.3.2 ──\n",
      "\u001b[32m✔\u001b[39m \u001b[34mggplot2\u001b[39m 3.4.4     \u001b[32m✔\u001b[39m \u001b[34mpurrr  \u001b[39m 1.0.1\n",
      "\u001b[32m✔\u001b[39m \u001b[34mtibble \u001b[39m 3.2.1     \u001b[32m✔\u001b[39m \u001b[34mdplyr  \u001b[39m 1.1.1\n",
      "\u001b[32m✔\u001b[39m \u001b[34mtidyr  \u001b[39m 1.3.0     \u001b[32m✔\u001b[39m \u001b[34mstringr\u001b[39m 1.5.0\n",
      "\u001b[32m✔\u001b[39m \u001b[34mreadr  \u001b[39m 2.1.3     \u001b[32m✔\u001b[39m \u001b[34mforcats\u001b[39m 0.5.2\n",
      "── \u001b[1mConflicts\u001b[22m ────────────────────────────────────────── tidyverse_conflicts() ──\n",
      "\u001b[31m✖\u001b[39m \u001b[34mdplyr\u001b[39m::\u001b[32mfilter()\u001b[39m masks \u001b[34mstats\u001b[39m::filter()\n",
      "\u001b[31m✖\u001b[39m \u001b[34mdplyr\u001b[39m::\u001b[32mlag()\u001b[39m    masks \u001b[34mstats\u001b[39m::lag()\n",
      "── \u001b[1mAttaching packages\u001b[22m ────────────────────────────────────── tidymodels 1.0.0 ──\n",
      "\n",
      "\u001b[32m✔\u001b[39m \u001b[34mbroom       \u001b[39m 1.0.2     \u001b[32m✔\u001b[39m \u001b[34mrsample     \u001b[39m 1.1.1\n",
      "\u001b[32m✔\u001b[39m \u001b[34mdials       \u001b[39m 1.1.0     \u001b[32m✔\u001b[39m \u001b[34mtune        \u001b[39m 1.0.1\n",
      "\u001b[32m✔\u001b[39m \u001b[34minfer       \u001b[39m 1.0.4     \u001b[32m✔\u001b[39m \u001b[34mworkflows   \u001b[39m 1.1.2\n",
      "\u001b[32m✔\u001b[39m \u001b[34mmodeldata   \u001b[39m 1.0.1     \u001b[32m✔\u001b[39m \u001b[34mworkflowsets\u001b[39m 1.0.0\n",
      "\u001b[32m✔\u001b[39m \u001b[34mparsnip     \u001b[39m 1.0.3     \u001b[32m✔\u001b[39m \u001b[34myardstick   \u001b[39m 1.1.0\n",
      "\u001b[32m✔\u001b[39m \u001b[34mrecipes     \u001b[39m 1.0.8     \n",
      "\n",
      "── \u001b[1mConflicts\u001b[22m ───────────────────────────────────────── tidymodels_conflicts() ──\n",
      "\u001b[31m✖\u001b[39m \u001b[34mscales\u001b[39m::\u001b[32mdiscard()\u001b[39m masks \u001b[34mpurrr\u001b[39m::discard()\n",
      "\u001b[31m✖\u001b[39m \u001b[34mdplyr\u001b[39m::\u001b[32mfilter()\u001b[39m   masks \u001b[34mstats\u001b[39m::filter()\n",
      "\u001b[31m✖\u001b[39m \u001b[34mrecipes\u001b[39m::\u001b[32mfixed()\u001b[39m  masks \u001b[34mstringr\u001b[39m::fixed()\n",
      "\u001b[31m✖\u001b[39m \u001b[34mdplyr\u001b[39m::\u001b[32mlag()\u001b[39m      masks \u001b[34mstats\u001b[39m::lag()\n",
      "\u001b[31m✖\u001b[39m \u001b[34myardstick\u001b[39m::\u001b[32mspec()\u001b[39m masks \u001b[34mreadr\u001b[39m::spec()\n",
      "\u001b[31m✖\u001b[39m \u001b[34mrecipes\u001b[39m::\u001b[32mstep()\u001b[39m   masks \u001b[34mstats\u001b[39m::step()\n",
      "\u001b[34m•\u001b[39m Use \u001b[32mtidymodels_prefer()\u001b[39m to resolve common conflicts.\n",
      "\n"
     ]
    },
    {
     "ename": "ERROR",
     "evalue": "Error in library(GGally): there is no package called ‘GGally’\n",
     "output_type": "error",
     "traceback": [
      "Error in library(GGally): there is no package called ‘GGally’\nTraceback:\n",
      "1. library(GGally)"
     ]
    }
   ],
   "source": [
    "library(tidyverse)\n",
    "library(tidymodels)\n",
    "library(GGally)\n",
    "library(repr)\n",
    "library(recipes)\n",
    "library(kknn)\n",
    "options(repr.matrix.max.rows = 6)"
   ]
  },
  {
   "cell_type": "markdown",
   "id": "6638b6d5-2ced-48d4-b88a-8bb4736c03c6",
   "metadata": {},
   "source": [
    "## Loading Original Data"
   ]
  },
  {
   "cell_type": "code",
   "execution_count": 4,
   "id": "da17381d-b216-433b-8c43-9126be735bfd",
   "metadata": {
    "tags": []
   },
   "outputs": [
    {
     "name": "stderr",
     "output_type": "stream",
     "text": [
      "\u001b[1mRows: \u001b[22m\u001b[34m9564\u001b[39m \u001b[1mColumns: \u001b[22m\u001b[34m50\u001b[39m\n",
      "\u001b[36m──\u001b[39m \u001b[1mColumn specification\u001b[22m \u001b[36m────────────────────────────────────────────────────────\u001b[39m\n",
      "\u001b[1mDelimiter:\u001b[22m \",\"\n",
      "\u001b[31mchr\u001b[39m  (5): kepoi_name, kepler_name, koi_disposition, koi_pdisposition, koi_tc...\n",
      "\u001b[32mdbl\u001b[39m (43): rowid, kepid, koi_score, koi_fpflag_nt, koi_fpflag_ss, koi_fpflag_...\n",
      "\u001b[33mlgl\u001b[39m  (2): koi_teq_err1, koi_teq_err2\n",
      "\n",
      "\u001b[36mℹ\u001b[39m Use `spec()` to retrieve the full column specification for this data.\n",
      "\u001b[36mℹ\u001b[39m Specify the column types or set `show_col_types = FALSE` to quiet this message.\n"
     ]
    },
    {
     "name": "stdout",
     "output_type": "stream",
     "text": [
      "\n",
      "↓ Table 1. First 6 rows of the Exoplanet dataset ↓\n"
     ]
    },
    {
     "data": {
      "text/html": [
       "<table class=\"dataframe\">\n",
       "<caption>A tibble: 6 × 50</caption>\n",
       "<thead>\n",
       "\t<tr><th scope=col>rowid</th><th scope=col>kepid</th><th scope=col>kepoi_name</th><th scope=col>kepler_name</th><th scope=col>koi_disposition</th><th scope=col>koi_pdisposition</th><th scope=col>koi_score</th><th scope=col>koi_fpflag_nt</th><th scope=col>koi_fpflag_ss</th><th scope=col>koi_fpflag_co</th><th scope=col>⋯</th><th scope=col>koi_steff_err2</th><th scope=col>koi_slogg</th><th scope=col>koi_slogg_err1</th><th scope=col>koi_slogg_err2</th><th scope=col>koi_srad</th><th scope=col>koi_srad_err1</th><th scope=col>koi_srad_err2</th><th scope=col>ra</th><th scope=col>dec</th><th scope=col>koi_kepmag</th></tr>\n",
       "\t<tr><th scope=col>&lt;dbl&gt;</th><th scope=col>&lt;dbl&gt;</th><th scope=col>&lt;chr&gt;</th><th scope=col>&lt;chr&gt;</th><th scope=col>&lt;chr&gt;</th><th scope=col>&lt;chr&gt;</th><th scope=col>&lt;dbl&gt;</th><th scope=col>&lt;dbl&gt;</th><th scope=col>&lt;dbl&gt;</th><th scope=col>&lt;dbl&gt;</th><th scope=col>⋯</th><th scope=col>&lt;dbl&gt;</th><th scope=col>&lt;dbl&gt;</th><th scope=col>&lt;dbl&gt;</th><th scope=col>&lt;dbl&gt;</th><th scope=col>&lt;dbl&gt;</th><th scope=col>&lt;dbl&gt;</th><th scope=col>&lt;dbl&gt;</th><th scope=col>&lt;dbl&gt;</th><th scope=col>&lt;dbl&gt;</th><th scope=col>&lt;dbl&gt;</th></tr>\n",
       "</thead>\n",
       "<tbody>\n",
       "\t<tr><td>1</td><td>10797460</td><td>K00752.01</td><td>Kepler-227 b</td><td>CONFIRMED     </td><td>CANDIDATE     </td><td>1.000</td><td>0</td><td>0</td><td>0</td><td>⋯</td><td> -81</td><td>4.467</td><td>0.064</td><td>-0.096</td><td>0.927</td><td>0.105</td><td>-0.061</td><td>291.9342</td><td>48.14165</td><td>15.347</td></tr>\n",
       "\t<tr><td>2</td><td>10797460</td><td>K00752.02</td><td>Kepler-227 c</td><td>CONFIRMED     </td><td>CANDIDATE     </td><td>0.969</td><td>0</td><td>0</td><td>0</td><td>⋯</td><td> -81</td><td>4.467</td><td>0.064</td><td>-0.096</td><td>0.927</td><td>0.105</td><td>-0.061</td><td>291.9342</td><td>48.14165</td><td>15.347</td></tr>\n",
       "\t<tr><td>3</td><td>10811496</td><td>K00753.01</td><td>NA          </td><td>FALSE POSITIVE</td><td>FALSE POSITIVE</td><td>0.000</td><td>0</td><td>1</td><td>0</td><td>⋯</td><td>-176</td><td>4.544</td><td>0.044</td><td>-0.176</td><td>0.868</td><td>0.233</td><td>-0.078</td><td>297.0048</td><td>48.13413</td><td>15.436</td></tr>\n",
       "\t<tr><td>4</td><td>10848459</td><td>K00754.01</td><td>NA          </td><td>FALSE POSITIVE</td><td>FALSE POSITIVE</td><td>0.000</td><td>0</td><td>1</td><td>0</td><td>⋯</td><td>-174</td><td>4.564</td><td>0.053</td><td>-0.168</td><td>0.791</td><td>0.201</td><td>-0.067</td><td>285.5346</td><td>48.28521</td><td>15.597</td></tr>\n",
       "\t<tr><td>5</td><td>10854555</td><td>K00755.01</td><td>Kepler-664 b</td><td>CONFIRMED     </td><td>CANDIDATE     </td><td>1.000</td><td>0</td><td>0</td><td>0</td><td>⋯</td><td>-211</td><td>4.438</td><td>0.070</td><td>-0.210</td><td>1.046</td><td>0.334</td><td>-0.133</td><td>288.7549</td><td>48.22620</td><td>15.509</td></tr>\n",
       "\t<tr><td>6</td><td>10872983</td><td>K00756.01</td><td>Kepler-228 d</td><td>CONFIRMED     </td><td>CANDIDATE     </td><td>1.000</td><td>0</td><td>0</td><td>0</td><td>⋯</td><td>-232</td><td>4.486</td><td>0.054</td><td>-0.229</td><td>0.972</td><td>0.315</td><td>-0.105</td><td>296.2861</td><td>48.22467</td><td>15.714</td></tr>\n",
       "</tbody>\n",
       "</table>\n"
      ],
      "text/latex": [
       "A tibble: 6 × 50\n",
       "\\begin{tabular}{lllllllllllllllllllll}\n",
       " rowid & kepid & kepoi\\_name & kepler\\_name & koi\\_disposition & koi\\_pdisposition & koi\\_score & koi\\_fpflag\\_nt & koi\\_fpflag\\_ss & koi\\_fpflag\\_co & ⋯ & koi\\_steff\\_err2 & koi\\_slogg & koi\\_slogg\\_err1 & koi\\_slogg\\_err2 & koi\\_srad & koi\\_srad\\_err1 & koi\\_srad\\_err2 & ra & dec & koi\\_kepmag\\\\\n",
       " <dbl> & <dbl> & <chr> & <chr> & <chr> & <chr> & <dbl> & <dbl> & <dbl> & <dbl> & ⋯ & <dbl> & <dbl> & <dbl> & <dbl> & <dbl> & <dbl> & <dbl> & <dbl> & <dbl> & <dbl>\\\\\n",
       "\\hline\n",
       "\t 1 & 10797460 & K00752.01 & Kepler-227 b & CONFIRMED      & CANDIDATE      & 1.000 & 0 & 0 & 0 & ⋯ &  -81 & 4.467 & 0.064 & -0.096 & 0.927 & 0.105 & -0.061 & 291.9342 & 48.14165 & 15.347\\\\\n",
       "\t 2 & 10797460 & K00752.02 & Kepler-227 c & CONFIRMED      & CANDIDATE      & 0.969 & 0 & 0 & 0 & ⋯ &  -81 & 4.467 & 0.064 & -0.096 & 0.927 & 0.105 & -0.061 & 291.9342 & 48.14165 & 15.347\\\\\n",
       "\t 3 & 10811496 & K00753.01 & NA           & FALSE POSITIVE & FALSE POSITIVE & 0.000 & 0 & 1 & 0 & ⋯ & -176 & 4.544 & 0.044 & -0.176 & 0.868 & 0.233 & -0.078 & 297.0048 & 48.13413 & 15.436\\\\\n",
       "\t 4 & 10848459 & K00754.01 & NA           & FALSE POSITIVE & FALSE POSITIVE & 0.000 & 0 & 1 & 0 & ⋯ & -174 & 4.564 & 0.053 & -0.168 & 0.791 & 0.201 & -0.067 & 285.5346 & 48.28521 & 15.597\\\\\n",
       "\t 5 & 10854555 & K00755.01 & Kepler-664 b & CONFIRMED      & CANDIDATE      & 1.000 & 0 & 0 & 0 & ⋯ & -211 & 4.438 & 0.070 & -0.210 & 1.046 & 0.334 & -0.133 & 288.7549 & 48.22620 & 15.509\\\\\n",
       "\t 6 & 10872983 & K00756.01 & Kepler-228 d & CONFIRMED      & CANDIDATE      & 1.000 & 0 & 0 & 0 & ⋯ & -232 & 4.486 & 0.054 & -0.229 & 0.972 & 0.315 & -0.105 & 296.2861 & 48.22467 & 15.714\\\\\n",
       "\\end{tabular}\n"
      ],
      "text/markdown": [
       "\n",
       "A tibble: 6 × 50\n",
       "\n",
       "| rowid &lt;dbl&gt; | kepid &lt;dbl&gt; | kepoi_name &lt;chr&gt; | kepler_name &lt;chr&gt; | koi_disposition &lt;chr&gt; | koi_pdisposition &lt;chr&gt; | koi_score &lt;dbl&gt; | koi_fpflag_nt &lt;dbl&gt; | koi_fpflag_ss &lt;dbl&gt; | koi_fpflag_co &lt;dbl&gt; | ⋯ ⋯ | koi_steff_err2 &lt;dbl&gt; | koi_slogg &lt;dbl&gt; | koi_slogg_err1 &lt;dbl&gt; | koi_slogg_err2 &lt;dbl&gt; | koi_srad &lt;dbl&gt; | koi_srad_err1 &lt;dbl&gt; | koi_srad_err2 &lt;dbl&gt; | ra &lt;dbl&gt; | dec &lt;dbl&gt; | koi_kepmag &lt;dbl&gt; |\n",
       "|---|---|---|---|---|---|---|---|---|---|---|---|---|---|---|---|---|---|---|---|---|\n",
       "| 1 | 10797460 | K00752.01 | Kepler-227 b | CONFIRMED      | CANDIDATE      | 1.000 | 0 | 0 | 0 | ⋯ |  -81 | 4.467 | 0.064 | -0.096 | 0.927 | 0.105 | -0.061 | 291.9342 | 48.14165 | 15.347 |\n",
       "| 2 | 10797460 | K00752.02 | Kepler-227 c | CONFIRMED      | CANDIDATE      | 0.969 | 0 | 0 | 0 | ⋯ |  -81 | 4.467 | 0.064 | -0.096 | 0.927 | 0.105 | -0.061 | 291.9342 | 48.14165 | 15.347 |\n",
       "| 3 | 10811496 | K00753.01 | NA           | FALSE POSITIVE | FALSE POSITIVE | 0.000 | 0 | 1 | 0 | ⋯ | -176 | 4.544 | 0.044 | -0.176 | 0.868 | 0.233 | -0.078 | 297.0048 | 48.13413 | 15.436 |\n",
       "| 4 | 10848459 | K00754.01 | NA           | FALSE POSITIVE | FALSE POSITIVE | 0.000 | 0 | 1 | 0 | ⋯ | -174 | 4.564 | 0.053 | -0.168 | 0.791 | 0.201 | -0.067 | 285.5346 | 48.28521 | 15.597 |\n",
       "| 5 | 10854555 | K00755.01 | Kepler-664 b | CONFIRMED      | CANDIDATE      | 1.000 | 0 | 0 | 0 | ⋯ | -211 | 4.438 | 0.070 | -0.210 | 1.046 | 0.334 | -0.133 | 288.7549 | 48.22620 | 15.509 |\n",
       "| 6 | 10872983 | K00756.01 | Kepler-228 d | CONFIRMED      | CANDIDATE      | 1.000 | 0 | 0 | 0 | ⋯ | -232 | 4.486 | 0.054 | -0.229 | 0.972 | 0.315 | -0.105 | 296.2861 | 48.22467 | 15.714 |\n",
       "\n"
      ],
      "text/plain": [
       "  rowid kepid    kepoi_name kepler_name  koi_disposition koi_pdisposition\n",
       "1 1     10797460 K00752.01  Kepler-227 b CONFIRMED       CANDIDATE       \n",
       "2 2     10797460 K00752.02  Kepler-227 c CONFIRMED       CANDIDATE       \n",
       "3 3     10811496 K00753.01  NA           FALSE POSITIVE  FALSE POSITIVE  \n",
       "4 4     10848459 K00754.01  NA           FALSE POSITIVE  FALSE POSITIVE  \n",
       "5 5     10854555 K00755.01  Kepler-664 b CONFIRMED       CANDIDATE       \n",
       "6 6     10872983 K00756.01  Kepler-228 d CONFIRMED       CANDIDATE       \n",
       "  koi_score koi_fpflag_nt koi_fpflag_ss koi_fpflag_co ⋯ koi_steff_err2\n",
       "1 1.000     0             0             0             ⋯  -81          \n",
       "2 0.969     0             0             0             ⋯  -81          \n",
       "3 0.000     0             1             0             ⋯ -176          \n",
       "4 0.000     0             1             0             ⋯ -174          \n",
       "5 1.000     0             0             0             ⋯ -211          \n",
       "6 1.000     0             0             0             ⋯ -232          \n",
       "  koi_slogg koi_slogg_err1 koi_slogg_err2 koi_srad koi_srad_err1 koi_srad_err2\n",
       "1 4.467     0.064          -0.096         0.927    0.105         -0.061       \n",
       "2 4.467     0.064          -0.096         0.927    0.105         -0.061       \n",
       "3 4.544     0.044          -0.176         0.868    0.233         -0.078       \n",
       "4 4.564     0.053          -0.168         0.791    0.201         -0.067       \n",
       "5 4.438     0.070          -0.210         1.046    0.334         -0.133       \n",
       "6 4.486     0.054          -0.229         0.972    0.315         -0.105       \n",
       "  ra       dec      koi_kepmag\n",
       "1 291.9342 48.14165 15.347    \n",
       "2 291.9342 48.14165 15.347    \n",
       "3 297.0048 48.13413 15.436    \n",
       "4 285.5346 48.28521 15.597    \n",
       "5 288.7549 48.22620 15.509    \n",
       "6 296.2861 48.22467 15.714    "
      ]
     },
     "metadata": {},
     "output_type": "display_data"
    }
   ],
   "source": [
    "## Reading the original data from Kaggle\n",
    "exoplanet <- read_csv(\"https://raw.githubusercontent.com/QuwackJ/dsci-100-group-37/main/Data/cumulative.csv\")\n",
    "cat(\"\\n↓ Table 1. First 6 rows of the Exoplanet dataset ↓\\n\")\n",
    "head(exoplanet)"
   ]
  },
  {
   "cell_type": "markdown",
   "id": "796991ca-eee6-44cd-a6d0-7db77f39a722",
   "metadata": {},
   "source": [
    "## Wrangling Original Data"
   ]
  },
  {
   "cell_type": "code",
   "execution_count": 5,
   "id": "da6f0d80-aac8-4e21-bca5-872f6d168cf1",
   "metadata": {
    "tags": []
   },
   "outputs": [
    {
     "name": "stdout",
     "output_type": "stream",
     "text": [
      "\n",
      "↓ Table 2. NA values in the Exoplanet dataset ↓\n"
     ]
    },
    {
     "data": {
      "text/html": [
       "<table class=\"dataframe\">\n",
       "<caption>A tibble: 1 × 50</caption>\n",
       "<thead>\n",
       "\t<tr><th scope=col>rowid</th><th scope=col>kepid</th><th scope=col>kepoi_name</th><th scope=col>kepler_name</th><th scope=col>koi_disposition</th><th scope=col>koi_pdisposition</th><th scope=col>koi_score</th><th scope=col>koi_fpflag_nt</th><th scope=col>koi_fpflag_ss</th><th scope=col>koi_fpflag_co</th><th scope=col>⋯</th><th scope=col>koi_steff_err2</th><th scope=col>koi_slogg</th><th scope=col>koi_slogg_err1</th><th scope=col>koi_slogg_err2</th><th scope=col>koi_srad</th><th scope=col>koi_srad_err1</th><th scope=col>koi_srad_err2</th><th scope=col>ra</th><th scope=col>dec</th><th scope=col>koi_kepmag</th></tr>\n",
       "\t<tr><th scope=col>&lt;int&gt;</th><th scope=col>&lt;int&gt;</th><th scope=col>&lt;int&gt;</th><th scope=col>&lt;int&gt;</th><th scope=col>&lt;int&gt;</th><th scope=col>&lt;int&gt;</th><th scope=col>&lt;int&gt;</th><th scope=col>&lt;int&gt;</th><th scope=col>&lt;int&gt;</th><th scope=col>&lt;int&gt;</th><th scope=col>⋯</th><th scope=col>&lt;int&gt;</th><th scope=col>&lt;int&gt;</th><th scope=col>&lt;int&gt;</th><th scope=col>&lt;int&gt;</th><th scope=col>&lt;int&gt;</th><th scope=col>&lt;int&gt;</th><th scope=col>&lt;int&gt;</th><th scope=col>&lt;int&gt;</th><th scope=col>&lt;int&gt;</th><th scope=col>&lt;int&gt;</th></tr>\n",
       "</thead>\n",
       "<tbody>\n",
       "\t<tr><td>0</td><td>0</td><td>0</td><td>7270</td><td>0</td><td>0</td><td>1510</td><td>0</td><td>0</td><td>0</td><td>⋯</td><td>483</td><td>363</td><td>468</td><td>468</td><td>363</td><td>468</td><td>468</td><td>0</td><td>0</td><td>1</td></tr>\n",
       "</tbody>\n",
       "</table>\n"
      ],
      "text/latex": [
       "A tibble: 1 × 50\n",
       "\\begin{tabular}{lllllllllllllllllllll}\n",
       " rowid & kepid & kepoi\\_name & kepler\\_name & koi\\_disposition & koi\\_pdisposition & koi\\_score & koi\\_fpflag\\_nt & koi\\_fpflag\\_ss & koi\\_fpflag\\_co & ⋯ & koi\\_steff\\_err2 & koi\\_slogg & koi\\_slogg\\_err1 & koi\\_slogg\\_err2 & koi\\_srad & koi\\_srad\\_err1 & koi\\_srad\\_err2 & ra & dec & koi\\_kepmag\\\\\n",
       " <int> & <int> & <int> & <int> & <int> & <int> & <int> & <int> & <int> & <int> & ⋯ & <int> & <int> & <int> & <int> & <int> & <int> & <int> & <int> & <int> & <int>\\\\\n",
       "\\hline\n",
       "\t 0 & 0 & 0 & 7270 & 0 & 0 & 1510 & 0 & 0 & 0 & ⋯ & 483 & 363 & 468 & 468 & 363 & 468 & 468 & 0 & 0 & 1\\\\\n",
       "\\end{tabular}\n"
      ],
      "text/markdown": [
       "\n",
       "A tibble: 1 × 50\n",
       "\n",
       "| rowid &lt;int&gt; | kepid &lt;int&gt; | kepoi_name &lt;int&gt; | kepler_name &lt;int&gt; | koi_disposition &lt;int&gt; | koi_pdisposition &lt;int&gt; | koi_score &lt;int&gt; | koi_fpflag_nt &lt;int&gt; | koi_fpflag_ss &lt;int&gt; | koi_fpflag_co &lt;int&gt; | ⋯ ⋯ | koi_steff_err2 &lt;int&gt; | koi_slogg &lt;int&gt; | koi_slogg_err1 &lt;int&gt; | koi_slogg_err2 &lt;int&gt; | koi_srad &lt;int&gt; | koi_srad_err1 &lt;int&gt; | koi_srad_err2 &lt;int&gt; | ra &lt;int&gt; | dec &lt;int&gt; | koi_kepmag &lt;int&gt; |\n",
       "|---|---|---|---|---|---|---|---|---|---|---|---|---|---|---|---|---|---|---|---|---|\n",
       "| 0 | 0 | 0 | 7270 | 0 | 0 | 1510 | 0 | 0 | 0 | ⋯ | 483 | 363 | 468 | 468 | 363 | 468 | 468 | 0 | 0 | 1 |\n",
       "\n"
      ],
      "text/plain": [
       "  rowid kepid kepoi_name kepler_name koi_disposition koi_pdisposition koi_score\n",
       "1 0     0     0          7270        0               0                1510     \n",
       "  koi_fpflag_nt koi_fpflag_ss koi_fpflag_co ⋯ koi_steff_err2 koi_slogg\n",
       "1 0             0             0             ⋯ 483            363      \n",
       "  koi_slogg_err1 koi_slogg_err2 koi_srad koi_srad_err1 koi_srad_err2 ra dec\n",
       "1 468            468            363      468           468           0  0  \n",
       "  koi_kepmag\n",
       "1 1         "
      ]
     },
     "metadata": {},
     "output_type": "display_data"
    },
    {
     "name": "stdout",
     "output_type": "stream",
     "text": [
      "\n",
      "↓ Table 3. First 6 rows of the selected Exoplanet dataset ↓\n"
     ]
    },
    {
     "data": {
      "text/html": [
       "<table class=\"dataframe\">\n",
       "<caption>A tibble: 6 × 6</caption>\n",
       "<thead>\n",
       "\t<tr><th scope=col>koi_disposition</th><th scope=col>koi_score</th><th scope=col>koi_period</th><th scope=col>koi_depth</th><th scope=col>koi_duration</th><th scope=col>koi_impact</th></tr>\n",
       "\t<tr><th scope=col>&lt;fct&gt;</th><th scope=col>&lt;dbl&gt;</th><th scope=col>&lt;dbl&gt;</th><th scope=col>&lt;dbl&gt;</th><th scope=col>&lt;dbl&gt;</th><th scope=col>&lt;dbl&gt;</th></tr>\n",
       "</thead>\n",
       "<tbody>\n",
       "\t<tr><td>CONFIRMED    </td><td>1.000</td><td> 9.488036</td><td>  615.8</td><td>2.95750</td><td>0.146</td></tr>\n",
       "\t<tr><td>CONFIRMED    </td><td>0.969</td><td>54.418383</td><td>  874.8</td><td>4.50700</td><td>0.586</td></tr>\n",
       "\t<tr><td>NOT EXOPLANET</td><td>0.000</td><td>19.899140</td><td>10829.0</td><td>1.78220</td><td>0.969</td></tr>\n",
       "\t<tr><td>NOT EXOPLANET</td><td>0.000</td><td> 1.736952</td><td> 8079.2</td><td>2.40641</td><td>1.276</td></tr>\n",
       "\t<tr><td>CONFIRMED    </td><td>1.000</td><td> 2.525592</td><td>  603.3</td><td>1.65450</td><td>0.701</td></tr>\n",
       "\t<tr><td>CONFIRMED    </td><td>1.000</td><td>11.094321</td><td> 1517.5</td><td>4.59450</td><td>0.538</td></tr>\n",
       "</tbody>\n",
       "</table>\n"
      ],
      "text/latex": [
       "A tibble: 6 × 6\n",
       "\\begin{tabular}{llllll}\n",
       " koi\\_disposition & koi\\_score & koi\\_period & koi\\_depth & koi\\_duration & koi\\_impact\\\\\n",
       " <fct> & <dbl> & <dbl> & <dbl> & <dbl> & <dbl>\\\\\n",
       "\\hline\n",
       "\t CONFIRMED     & 1.000 &  9.488036 &   615.8 & 2.95750 & 0.146\\\\\n",
       "\t CONFIRMED     & 0.969 & 54.418383 &   874.8 & 4.50700 & 0.586\\\\\n",
       "\t NOT EXOPLANET & 0.000 & 19.899140 & 10829.0 & 1.78220 & 0.969\\\\\n",
       "\t NOT EXOPLANET & 0.000 &  1.736952 &  8079.2 & 2.40641 & 1.276\\\\\n",
       "\t CONFIRMED     & 1.000 &  2.525592 &   603.3 & 1.65450 & 0.701\\\\\n",
       "\t CONFIRMED     & 1.000 & 11.094321 &  1517.5 & 4.59450 & 0.538\\\\\n",
       "\\end{tabular}\n"
      ],
      "text/markdown": [
       "\n",
       "A tibble: 6 × 6\n",
       "\n",
       "| koi_disposition &lt;fct&gt; | koi_score &lt;dbl&gt; | koi_period &lt;dbl&gt; | koi_depth &lt;dbl&gt; | koi_duration &lt;dbl&gt; | koi_impact &lt;dbl&gt; |\n",
       "|---|---|---|---|---|---|\n",
       "| CONFIRMED     | 1.000 |  9.488036 |   615.8 | 2.95750 | 0.146 |\n",
       "| CONFIRMED     | 0.969 | 54.418383 |   874.8 | 4.50700 | 0.586 |\n",
       "| NOT EXOPLANET | 0.000 | 19.899140 | 10829.0 | 1.78220 | 0.969 |\n",
       "| NOT EXOPLANET | 0.000 |  1.736952 |  8079.2 | 2.40641 | 1.276 |\n",
       "| CONFIRMED     | 1.000 |  2.525592 |   603.3 | 1.65450 | 0.701 |\n",
       "| CONFIRMED     | 1.000 | 11.094321 |  1517.5 | 4.59450 | 0.538 |\n",
       "\n"
      ],
      "text/plain": [
       "  koi_disposition koi_score koi_period koi_depth koi_duration koi_impact\n",
       "1 CONFIRMED       1.000      9.488036    615.8   2.95750      0.146     \n",
       "2 CONFIRMED       0.969     54.418383    874.8   4.50700      0.586     \n",
       "3 NOT EXOPLANET   0.000     19.899140  10829.0   1.78220      0.969     \n",
       "4 NOT EXOPLANET   0.000      1.736952   8079.2   2.40641      1.276     \n",
       "5 CONFIRMED       1.000      2.525592    603.3   1.65450      0.701     \n",
       "6 CONFIRMED       1.000     11.094321   1517.5   4.59450      0.538     "
      ]
     },
     "metadata": {},
     "output_type": "display_data"
    },
    {
     "name": "stdout",
     "output_type": "stream",
     "text": [
      "\n",
      "↓ Table 4. Counts for the categorical variable ↓\n"
     ]
    },
    {
     "data": {
      "text/html": [
       "<table class=\"dataframe\">\n",
       "<caption>A tibble: 2 × 2</caption>\n",
       "<thead>\n",
       "\t<tr><th scope=col>koi_disposition</th><th scope=col>count</th></tr>\n",
       "\t<tr><th scope=col>&lt;fct&gt;</th><th scope=col>&lt;int&gt;</th></tr>\n",
       "</thead>\n",
       "<tbody>\n",
       "\t<tr><td>CONFIRMED    </td><td>2183</td></tr>\n",
       "\t<tr><td>NOT EXOPLANET</td><td>3916</td></tr>\n",
       "</tbody>\n",
       "</table>\n"
      ],
      "text/latex": [
       "A tibble: 2 × 2\n",
       "\\begin{tabular}{ll}\n",
       " koi\\_disposition & count\\\\\n",
       " <fct> & <int>\\\\\n",
       "\\hline\n",
       "\t CONFIRMED     & 2183\\\\\n",
       "\t NOT EXOPLANET & 3916\\\\\n",
       "\\end{tabular}\n"
      ],
      "text/markdown": [
       "\n",
       "A tibble: 2 × 2\n",
       "\n",
       "| koi_disposition &lt;fct&gt; | count &lt;int&gt; |\n",
       "|---|---|\n",
       "| CONFIRMED     | 2183 |\n",
       "| NOT EXOPLANET | 3916 |\n",
       "\n"
      ],
      "text/plain": [
       "  koi_disposition count\n",
       "1 CONFIRMED       2183 \n",
       "2 NOT EXOPLANET   3916 "
      ]
     },
     "metadata": {},
     "output_type": "display_data"
    },
    {
     "name": "stdout",
     "output_type": "stream",
     "text": [
      "\n",
      "↓ Table 5. Counts of rows in the selected Exoplanet dataset ↓\n"
     ]
    },
    {
     "data": {
      "text/html": [
       "<table class=\"dataframe\">\n",
       "<caption>A tibble: 1 × 1</caption>\n",
       "<thead>\n",
       "\t<tr><th scope=col>n</th></tr>\n",
       "\t<tr><th scope=col>&lt;int&gt;</th></tr>\n",
       "</thead>\n",
       "<tbody>\n",
       "\t<tr><td>6099</td></tr>\n",
       "</tbody>\n",
       "</table>\n"
      ],
      "text/latex": [
       "A tibble: 1 × 1\n",
       "\\begin{tabular}{l}\n",
       " n\\\\\n",
       " <int>\\\\\n",
       "\\hline\n",
       "\t 6099\\\\\n",
       "\\end{tabular}\n"
      ],
      "text/markdown": [
       "\n",
       "A tibble: 1 × 1\n",
       "\n",
       "| n &lt;int&gt; |\n",
       "|---|\n",
       "| 6099 |\n",
       "\n"
      ],
      "text/plain": [
       "  n   \n",
       "1 6099"
      ]
     },
     "metadata": {},
     "output_type": "display_data"
    },
    {
     "name": "stdout",
     "output_type": "stream",
     "text": [
      "\n",
      "↓ Table 6. NA values in the selected Exoplanet dataset ↓\n"
     ]
    },
    {
     "data": {
      "text/html": [
       "<table class=\"dataframe\">\n",
       "<caption>A tibble: 1 × 6</caption>\n",
       "<thead>\n",
       "\t<tr><th scope=col>koi_disposition</th><th scope=col>koi_score</th><th scope=col>koi_period</th><th scope=col>koi_depth</th><th scope=col>koi_duration</th><th scope=col>koi_impact</th></tr>\n",
       "\t<tr><th scope=col>&lt;int&gt;</th><th scope=col>&lt;int&gt;</th><th scope=col>&lt;int&gt;</th><th scope=col>&lt;int&gt;</th><th scope=col>&lt;int&gt;</th><th scope=col>&lt;int&gt;</th></tr>\n",
       "</thead>\n",
       "<tbody>\n",
       "\t<tr><td>0</td><td>0</td><td>0</td><td>54</td><td>0</td><td>54</td></tr>\n",
       "</tbody>\n",
       "</table>\n"
      ],
      "text/latex": [
       "A tibble: 1 × 6\n",
       "\\begin{tabular}{llllll}\n",
       " koi\\_disposition & koi\\_score & koi\\_period & koi\\_depth & koi\\_duration & koi\\_impact\\\\\n",
       " <int> & <int> & <int> & <int> & <int> & <int>\\\\\n",
       "\\hline\n",
       "\t 0 & 0 & 0 & 54 & 0 & 54\\\\\n",
       "\\end{tabular}\n"
      ],
      "text/markdown": [
       "\n",
       "A tibble: 1 × 6\n",
       "\n",
       "| koi_disposition &lt;int&gt; | koi_score &lt;int&gt; | koi_period &lt;int&gt; | koi_depth &lt;int&gt; | koi_duration &lt;int&gt; | koi_impact &lt;int&gt; |\n",
       "|---|---|---|---|---|---|\n",
       "| 0 | 0 | 0 | 54 | 0 | 54 |\n",
       "\n"
      ],
      "text/plain": [
       "  koi_disposition koi_score koi_period koi_depth koi_duration koi_impact\n",
       "1 0               0         0          54        0            54        "
      ]
     },
     "metadata": {},
     "output_type": "display_data"
    },
    {
     "name": "stdout",
     "output_type": "stream",
     "text": [
      "\n",
      "↓ Table 7. First 6 rows of the selected Exoplanet dataset without NA values ↓\n"
     ]
    },
    {
     "data": {
      "text/html": [
       "<table class=\"dataframe\">\n",
       "<caption>A tibble: 6 × 6</caption>\n",
       "<thead>\n",
       "\t<tr><th scope=col>koi_disposition</th><th scope=col>koi_score</th><th scope=col>koi_period</th><th scope=col>koi_depth</th><th scope=col>koi_duration</th><th scope=col>koi_impact</th></tr>\n",
       "\t<tr><th scope=col>&lt;fct&gt;</th><th scope=col>&lt;dbl&gt;</th><th scope=col>&lt;dbl&gt;</th><th scope=col>&lt;dbl&gt;</th><th scope=col>&lt;dbl&gt;</th><th scope=col>&lt;dbl&gt;</th></tr>\n",
       "</thead>\n",
       "<tbody>\n",
       "\t<tr><td>CONFIRMED    </td><td>1.000</td><td> 9.488036</td><td>  615.8</td><td>2.95750</td><td>0.146</td></tr>\n",
       "\t<tr><td>CONFIRMED    </td><td>0.969</td><td>54.418383</td><td>  874.8</td><td>4.50700</td><td>0.586</td></tr>\n",
       "\t<tr><td>NOT EXOPLANET</td><td>0.000</td><td>19.899140</td><td>10829.0</td><td>1.78220</td><td>0.969</td></tr>\n",
       "\t<tr><td>NOT EXOPLANET</td><td>0.000</td><td> 1.736952</td><td> 8079.2</td><td>2.40641</td><td>1.276</td></tr>\n",
       "\t<tr><td>CONFIRMED    </td><td>1.000</td><td> 2.525592</td><td>  603.3</td><td>1.65450</td><td>0.701</td></tr>\n",
       "\t<tr><td>CONFIRMED    </td><td>1.000</td><td>11.094321</td><td> 1517.5</td><td>4.59450</td><td>0.538</td></tr>\n",
       "</tbody>\n",
       "</table>\n"
      ],
      "text/latex": [
       "A tibble: 6 × 6\n",
       "\\begin{tabular}{llllll}\n",
       " koi\\_disposition & koi\\_score & koi\\_period & koi\\_depth & koi\\_duration & koi\\_impact\\\\\n",
       " <fct> & <dbl> & <dbl> & <dbl> & <dbl> & <dbl>\\\\\n",
       "\\hline\n",
       "\t CONFIRMED     & 1.000 &  9.488036 &   615.8 & 2.95750 & 0.146\\\\\n",
       "\t CONFIRMED     & 0.969 & 54.418383 &   874.8 & 4.50700 & 0.586\\\\\n",
       "\t NOT EXOPLANET & 0.000 & 19.899140 & 10829.0 & 1.78220 & 0.969\\\\\n",
       "\t NOT EXOPLANET & 0.000 &  1.736952 &  8079.2 & 2.40641 & 1.276\\\\\n",
       "\t CONFIRMED     & 1.000 &  2.525592 &   603.3 & 1.65450 & 0.701\\\\\n",
       "\t CONFIRMED     & 1.000 & 11.094321 &  1517.5 & 4.59450 & 0.538\\\\\n",
       "\\end{tabular}\n"
      ],
      "text/markdown": [
       "\n",
       "A tibble: 6 × 6\n",
       "\n",
       "| koi_disposition &lt;fct&gt; | koi_score &lt;dbl&gt; | koi_period &lt;dbl&gt; | koi_depth &lt;dbl&gt; | koi_duration &lt;dbl&gt; | koi_impact &lt;dbl&gt; |\n",
       "|---|---|---|---|---|---|\n",
       "| CONFIRMED     | 1.000 |  9.488036 |   615.8 | 2.95750 | 0.146 |\n",
       "| CONFIRMED     | 0.969 | 54.418383 |   874.8 | 4.50700 | 0.586 |\n",
       "| NOT EXOPLANET | 0.000 | 19.899140 | 10829.0 | 1.78220 | 0.969 |\n",
       "| NOT EXOPLANET | 0.000 |  1.736952 |  8079.2 | 2.40641 | 1.276 |\n",
       "| CONFIRMED     | 1.000 |  2.525592 |   603.3 | 1.65450 | 0.701 |\n",
       "| CONFIRMED     | 1.000 | 11.094321 |  1517.5 | 4.59450 | 0.538 |\n",
       "\n"
      ],
      "text/plain": [
       "  koi_disposition koi_score koi_period koi_depth koi_duration koi_impact\n",
       "1 CONFIRMED       1.000      9.488036    615.8   2.95750      0.146     \n",
       "2 CONFIRMED       0.969     54.418383    874.8   4.50700      0.586     \n",
       "3 NOT EXOPLANET   0.000     19.899140  10829.0   1.78220      0.969     \n",
       "4 NOT EXOPLANET   0.000      1.736952   8079.2   2.40641      1.276     \n",
       "5 CONFIRMED       1.000      2.525592    603.3   1.65450      0.701     \n",
       "6 CONFIRMED       1.000     11.094321   1517.5   4.59450      0.538     "
      ]
     },
     "metadata": {},
     "output_type": "display_data"
    }
   ],
   "source": [
    "## Counting NA values in original data\n",
    "na_in_exoplanet <- exoplanet |>\n",
    "                   summarize_all(~ sum(is.na(.)))\n",
    "cat(\"\\n↓ Table 2. NA values in the Exoplanet dataset ↓\\n\")\n",
    "na_in_exoplanet\n",
    "\n",
    "## Selecting for our predictors and removing planets with less confidence\n",
    "exoplanet_selected <- exoplanet |>\n",
    "                        mutate(koi_disposition = as_factor(koi_disposition)) |>\n",
    "                        mutate(koi_disposition = fct_recode(koi_disposition, \"NOT EXOPLANET\" = \"FALSE POSITIVE\")) |>\n",
    "                        filter((koi_disposition == \"NOT EXOPLANET\" & koi_score <= 0.3) | (koi_disposition == \"CONFIRMED\" & koi_score >= 0.8)) |>\n",
    "                        select(koi_disposition, koi_score, koi_period, koi_depth, koi_duration, koi_impact)\n",
    "cat(\"\\n↓ Table 3. First 6 rows of the selected Exoplanet dataset ↓\\n\")\n",
    "head(exoplanet_selected)\n",
    "\n",
    "disposition_count <- exoplanet_selected |>\n",
    "                     group_by(koi_disposition) |>\n",
    "                     summarize(count = n())\n",
    "cat(\"\\n↓ Table 4. Counts for the categorical variable ↓\\n\")\n",
    "disposition_count\n",
    "\n",
    "## Counting the number of rows in the selected data\n",
    "row_count_exoplanet_selected <- count(exoplanet_selected)\n",
    "cat(\"\\n↓ Table 5. Counts of rows in the selected Exoplanet dataset ↓\\n\")\n",
    "row_count_exoplanet_selected\n",
    "\n",
    "## Counting NA values in selected data\n",
    "na_in_exoplanet_selected <- exoplanet_selected |>\n",
    "                            summarize_all(~ sum(is.na(.)))\n",
    "cat(\"\\n↓ Table 6. NA values in the selected Exoplanet dataset ↓\\n\")\n",
    "na_in_exoplanet_selected\n",
    "\n",
    "## Removing NA values in exoplanet_selected\n",
    "exoplanet_selected <- exoplanet_selected |>\n",
    "                      drop_na()  \n",
    "cat(\"\\n↓ Table 7. First 6 rows of the selected Exoplanet dataset without NA values ↓\\n\")\n",
    "head(exoplanet_selected)\n",
    "\n",
    "## Splitting into training and testing data\n",
    "exoplanet_split <- initial_split(exoplanet_selected, prop = 0.75, strata = koi_disposition)\n",
    "training_data <- training(exoplanet_split)   \n",
    "testing_data <- testing(exoplanet_split)"
   ]
  },
  {
   "cell_type": "markdown",
   "id": "cc5fb989-05b1-4790-afd6-395c6b5d724b",
   "metadata": {},
   "source": [
    "## Classification"
   ]
  },
  {
   "cell_type": "code",
   "execution_count": 17,
   "id": "7edef374-4797-44f1-a043-6525afafb898",
   "metadata": {
    "tags": []
   },
   "outputs": [
    {
     "name": "stderr",
     "output_type": "stream",
     "text": [
      "\u001b[33m!\u001b[39m \u001b[33mFold1: internal:\n",
      "  \u001b[1m\u001b[22mThere were 15 warnings in `dplyr::summarise()`.\n",
      "  The first warning was:\n",
      "  \u001b[1m\u001b[22m\u001b[36mℹ\u001b[33m In argument: `.estimate = metric_fn(...)`.\n",
      "  \u001b[36mℹ\u001b[33m In group 1: `neighbors = 1`.\n",
      "  Caused by warning:\n",
      "  \u001b[33m!\u001b[33m No observations were detected in `truth` for level(s): 'CA...\n",
      "  Computation will proceed by ignoring those levels.\n",
      "  \u001b[1m\u001b[22m\u001b[36mℹ\u001b[33m Run `dplyr::last_dplyr_warnings()` to see the 14 ...\u001b[39m\n",
      "\n",
      "\u001b[33m!\u001b[39m \u001b[33mFold2: internal:\n",
      "  \u001b[1m\u001b[22mThere were 15 warnings in `dplyr::summarise()`.\n",
      "  The first warning was:\n",
      "  \u001b[1m\u001b[22m\u001b[36mℹ\u001b[33m In argument: `.estimate = metric_fn(...)`.\n",
      "  \u001b[36mℹ\u001b[33m In group 1: `neighbors = 1`.\n",
      "  Caused by warning:\n",
      "  \u001b[33m!\u001b[33m No observations were detected in `truth` for level(s): 'CA...\n",
      "  Computation will proceed by ignoring those levels.\n",
      "  \u001b[1m\u001b[22m\u001b[36mℹ\u001b[33m Run `dplyr::last_dplyr_warnings()` to see the 14 ...\u001b[39m\n",
      "\n",
      "\u001b[33m!\u001b[39m \u001b[33mFold3: internal:\n",
      "  \u001b[1m\u001b[22mThere were 15 warnings in `dplyr::summarise()`.\n",
      "  The first warning was:\n",
      "  \u001b[1m\u001b[22m\u001b[36mℹ\u001b[33m In argument: `.estimate = metric_fn(...)`.\n",
      "  \u001b[36mℹ\u001b[33m In group 1: `neighbors = 1`.\n",
      "  Caused by warning:\n",
      "  \u001b[33m!\u001b[33m No observations were detected in `truth` for level(s): 'CA...\n",
      "  Computation will proceed by ignoring those levels.\n",
      "  \u001b[1m\u001b[22m\u001b[36mℹ\u001b[33m Run `dplyr::last_dplyr_warnings()` to see the 14 ...\u001b[39m\n",
      "\n",
      "\u001b[33m!\u001b[39m \u001b[33mFold4: internal:\n",
      "  \u001b[1m\u001b[22mThere were 15 warnings in `dplyr::summarise()`.\n",
      "  The first warning was:\n",
      "  \u001b[1m\u001b[22m\u001b[36mℹ\u001b[33m In argument: `.estimate = metric_fn(...)`.\n",
      "  \u001b[36mℹ\u001b[33m In group 1: `neighbors = 1`.\n",
      "  Caused by warning:\n",
      "  \u001b[33m!\u001b[33m No observations were detected in `truth` for level(s): 'CA...\n",
      "  Computation will proceed by ignoring those levels.\n",
      "  \u001b[1m\u001b[22m\u001b[36mℹ\u001b[33m Run `dplyr::last_dplyr_warnings()` to see the 14 ...\u001b[39m\n",
      "\n",
      "\u001b[33m!\u001b[39m \u001b[33mFold5: internal:\n",
      "  \u001b[1m\u001b[22mThere were 15 warnings in `dplyr::summarise()`.\n",
      "  The first warning was:\n",
      "  \u001b[1m\u001b[22m\u001b[36mℹ\u001b[33m In argument: `.estimate = metric_fn(...)`.\n",
      "  \u001b[36mℹ\u001b[33m In group 1: `neighbors = 1`.\n",
      "  Caused by warning:\n",
      "  \u001b[33m!\u001b[33m No observations were detected in `truth` for level(s): 'CA...\n",
      "  Computation will proceed by ignoring those levels.\n",
      "  \u001b[1m\u001b[22m\u001b[36mℹ\u001b[33m Run `dplyr::last_dplyr_warnings()` to see the 14 ...\u001b[39m\n",
      "\n"
     ]
    },
    {
     "data": {
      "application/pdf": "[encoded data removed]",
      "image/jpeg": "[encoded data removed]",
      "image/png": "[encoded data removed]",
      "image/svg+xml": [
       "<?xml version=\"1.0\" encoding=\"UTF-8\"?>\n",
       "<svg xmlns=\"http://www.w3.org/2000/svg\" xmlns:xlink=\"http://www.w3.org/1999/xlink\" width=\"432pt\" height=\"432pt\" viewBox=\"0 0 432 432\" version=\"1.1\">\n",
       "<defs>\n",
       "<g>\n",
       "<symbol overflow=\"visible\" id=\"glyph0-0\">\n",
       "<path style=\"stroke:none;\" d=\"M 0.3125 0 L 0.3125 -6.390625 L 2.859375 -6.390625 L 2.859375 0 Z M 0.640625 -0.3125 L 2.546875 -0.3125 L 2.546875 -6.078125 L 0.640625 -6.078125 Z M 0.640625 -0.3125 \"/>\n",
       "</symbol>\n",
       "<symbol overflow=\"visible\" id=\"glyph0-1\">\n",
       "<path style=\"stroke:none;\" d=\"M 4.953125 -3.296875 C 4.953125 -2.671875 4.890625 -2.140625 4.765625 -1.703125 C 4.648438 -1.265625 4.488281 -0.910156 4.28125 -0.640625 C 4.082031 -0.378906 3.84375 -0.191406 3.5625 -0.078125 C 3.28125 0.0351562 2.976562 0.09375 2.65625 0.09375 C 2.332031 0.09375 2.03125 0.0351562 1.75 -0.078125 C 1.476562 -0.191406 1.238281 -0.378906 1.03125 -0.640625 C 0.820312 -0.910156 0.660156 -1.257812 0.546875 -1.6875 C 0.429688 -2.125 0.375 -2.660156 0.375 -3.296875 C 0.375 -3.960938 0.429688 -4.515625 0.546875 -4.953125 C 0.660156 -5.390625 0.820312 -5.738281 1.03125 -6 C 1.238281 -6.257812 1.484375 -6.441406 1.765625 -6.546875 C 2.046875 -6.648438 2.351562 -6.703125 2.6875 -6.703125 C 3 -6.703125 3.289062 -6.648438 3.5625 -6.546875 C 3.84375 -6.441406 4.085938 -6.257812 4.296875 -6 C 4.503906 -5.738281 4.664062 -5.390625 4.78125 -4.953125 C 4.894531 -4.515625 4.953125 -3.960938 4.953125 -3.296875 Z M 4.109375 -3.296875 C 4.109375 -3.828125 4.078125 -4.265625 4.015625 -4.609375 C 3.953125 -4.960938 3.859375 -5.238281 3.734375 -5.4375 C 3.609375 -5.644531 3.457031 -5.789062 3.28125 -5.875 C 3.101562 -5.96875 2.90625 -6.015625 2.6875 -6.015625 C 2.445312 -6.015625 2.234375 -5.96875 2.046875 -5.875 C 1.867188 -5.789062 1.71875 -5.644531 1.59375 -5.4375 C 1.476562 -5.226562 1.390625 -4.945312 1.328125 -4.59375 C 1.265625 -4.25 1.234375 -3.816406 1.234375 -3.296875 C 1.234375 -2.796875 1.265625 -2.367188 1.328125 -2.015625 C 1.390625 -1.671875 1.484375 -1.394531 1.609375 -1.1875 C 1.734375 -0.976562 1.882812 -0.828125 2.0625 -0.734375 C 2.238281 -0.640625 2.441406 -0.59375 2.671875 -0.59375 C 2.890625 -0.59375 3.085938 -0.640625 3.265625 -0.734375 C 3.441406 -0.828125 3.59375 -0.976562 3.71875 -1.1875 C 3.84375 -1.394531 3.9375 -1.671875 4 -2.015625 C 4.070312 -2.367188 4.109375 -2.796875 4.109375 -3.296875 Z M 4.109375 -3.296875 \"/>\n",
       "</symbol>\n",
       "<symbol overflow=\"visible\" id=\"glyph0-2\">\n",
       "<path style=\"stroke:none;\" d=\"M 0.875 0 L 0.875 -1.03125 L 1.796875 -1.03125 L 1.796875 0 Z M 0.875 0 \"/>\n",
       "</symbol>\n",
       "<symbol overflow=\"visible\" id=\"glyph0-3\">\n",
       "<path style=\"stroke:none;\" d=\"M 4.921875 -1.84375 C 4.921875 -1.5625 4.875 -1.300781 4.78125 -1.0625 C 4.695312 -0.832031 4.5625 -0.628906 4.375 -0.453125 C 4.195312 -0.285156 3.960938 -0.148438 3.671875 -0.046875 C 3.390625 0.046875 3.054688 0.09375 2.671875 0.09375 C 2.285156 0.09375 1.945312 0.046875 1.65625 -0.046875 C 1.375 -0.148438 1.140625 -0.285156 0.953125 -0.453125 C 0.773438 -0.617188 0.640625 -0.820312 0.546875 -1.0625 C 0.460938 -1.300781 0.421875 -1.554688 0.421875 -1.828125 C 0.421875 -2.066406 0.457031 -2.28125 0.53125 -2.46875 C 0.601562 -2.65625 0.695312 -2.816406 0.8125 -2.953125 C 0.9375 -3.085938 1.078125 -3.195312 1.234375 -3.28125 C 1.398438 -3.363281 1.566406 -3.421875 1.734375 -3.453125 L 1.734375 -3.46875 C 1.546875 -3.507812 1.378906 -3.578125 1.234375 -3.671875 C 1.085938 -3.773438 0.960938 -3.894531 0.859375 -4.03125 C 0.765625 -4.164062 0.691406 -4.316406 0.640625 -4.484375 C 0.597656 -4.648438 0.578125 -4.820312 0.578125 -5 C 0.578125 -5.238281 0.617188 -5.457031 0.703125 -5.65625 C 0.796875 -5.863281 0.925781 -6.046875 1.09375 -6.203125 C 1.269531 -6.359375 1.488281 -6.476562 1.75 -6.5625 C 2.007812 -6.65625 2.3125 -6.703125 2.65625 -6.703125 C 3.007812 -6.703125 3.316406 -6.65625 3.578125 -6.5625 C 3.847656 -6.46875 4.066406 -6.34375 4.234375 -6.1875 C 4.410156 -6.039062 4.539062 -5.863281 4.625 -5.65625 C 4.707031 -5.445312 4.75 -5.226562 4.75 -5 C 4.75 -4.820312 4.722656 -4.648438 4.671875 -4.484375 C 4.617188 -4.316406 4.546875 -4.164062 4.453125 -4.03125 C 4.359375 -3.894531 4.238281 -3.773438 4.09375 -3.671875 C 3.945312 -3.578125 3.773438 -3.515625 3.578125 -3.484375 L 3.578125 -3.46875 C 3.773438 -3.4375 3.953125 -3.378906 4.109375 -3.296875 C 4.273438 -3.210938 4.414062 -3.101562 4.53125 -2.96875 C 4.65625 -2.832031 4.75 -2.671875 4.8125 -2.484375 C 4.882812 -2.296875 4.921875 -2.082031 4.921875 -1.84375 Z M 3.875 -4.953125 C 3.875 -5.117188 3.851562 -5.269531 3.8125 -5.40625 C 3.769531 -5.539062 3.703125 -5.65625 3.609375 -5.75 C 3.515625 -5.851562 3.390625 -5.929688 3.234375 -5.984375 C 3.078125 -6.046875 2.882812 -6.078125 2.65625 -6.078125 C 2.425781 -6.078125 2.234375 -6.046875 2.078125 -5.984375 C 1.929688 -5.929688 1.804688 -5.851562 1.703125 -5.75 C 1.609375 -5.65625 1.539062 -5.539062 1.5 -5.40625 C 1.457031 -5.269531 1.4375 -5.117188 1.4375 -4.953125 C 1.4375 -4.816406 1.453125 -4.679688 1.484375 -4.546875 C 1.515625 -4.410156 1.578125 -4.285156 1.671875 -4.171875 C 1.765625 -4.054688 1.890625 -3.960938 2.046875 -3.890625 C 2.203125 -3.828125 2.40625 -3.796875 2.65625 -3.796875 C 2.925781 -3.796875 3.140625 -3.828125 3.296875 -3.890625 C 3.460938 -3.960938 3.585938 -4.054688 3.671875 -4.171875 C 3.753906 -4.285156 3.804688 -4.410156 3.828125 -4.546875 C 3.859375 -4.679688 3.875 -4.816406 3.875 -4.953125 Z M 4.046875 -1.921875 C 4.046875 -2.078125 4.019531 -2.226562 3.96875 -2.375 C 3.925781 -2.53125 3.851562 -2.664062 3.75 -2.78125 C 3.644531 -2.894531 3.5 -2.984375 3.3125 -3.046875 C 3.132812 -3.117188 2.914062 -3.15625 2.65625 -3.15625 C 2.40625 -3.15625 2.191406 -3.117188 2.015625 -3.046875 C 1.847656 -2.984375 1.707031 -2.890625 1.59375 -2.765625 C 1.488281 -2.648438 1.410156 -2.515625 1.359375 -2.359375 C 1.304688 -2.210938 1.28125 -2.0625 1.28125 -1.90625 C 1.28125 -1.695312 1.304688 -1.507812 1.359375 -1.34375 C 1.410156 -1.175781 1.488281 -1.03125 1.59375 -0.90625 C 1.707031 -0.789062 1.851562 -0.695312 2.03125 -0.625 C 2.207031 -0.5625 2.421875 -0.53125 2.671875 -0.53125 C 2.929688 -0.53125 3.148438 -0.5625 3.328125 -0.625 C 3.503906 -0.695312 3.644531 -0.789062 3.75 -0.90625 C 3.851562 -1.03125 3.925781 -1.175781 3.96875 -1.34375 C 4.019531 -1.519531 4.046875 -1.710938 4.046875 -1.921875 Z M 4.046875 -1.921875 \"/>\n",
       "</symbol>\n",
       "<symbol overflow=\"visible\" id=\"glyph0-4\">\n",
       "<path style=\"stroke:none;\" d=\"M 0.734375 0 L 0.734375 -0.71875 L 2.40625 -0.71875 L 2.40625 -5.796875 L 0.921875 -4.734375 L 0.921875 -5.53125 L 2.484375 -6.59375 L 3.265625 -6.59375 L 3.265625 -0.71875 L 4.859375 -0.71875 L 4.859375 0 Z M 0.734375 0 \"/>\n",
       "</symbol>\n",
       "<symbol overflow=\"visible\" id=\"glyph0-5\">\n",
       "<path style=\"stroke:none;\" d=\"M 0.484375 0 L 0.484375 -0.59375 C 0.640625 -0.957031 0.832031 -1.28125 1.0625 -1.5625 C 1.289062 -1.84375 1.53125 -2.09375 1.78125 -2.3125 C 2.039062 -2.539062 2.289062 -2.75 2.53125 -2.9375 C 2.78125 -3.132812 3.003906 -3.332031 3.203125 -3.53125 C 3.410156 -3.726562 3.578125 -3.929688 3.703125 -4.140625 C 3.828125 -4.347656 3.890625 -4.585938 3.890625 -4.859375 C 3.890625 -5.046875 3.859375 -5.207031 3.796875 -5.34375 C 3.742188 -5.488281 3.660156 -5.609375 3.546875 -5.703125 C 3.441406 -5.804688 3.316406 -5.878906 3.171875 -5.921875 C 3.023438 -5.972656 2.859375 -6 2.671875 -6 C 2.503906 -6 2.347656 -5.972656 2.203125 -5.921875 C 2.054688 -5.878906 1.925781 -5.8125 1.8125 -5.71875 C 1.695312 -5.625 1.601562 -5.507812 1.53125 -5.375 C 1.457031 -5.238281 1.40625 -5.078125 1.375 -4.890625 L 0.515625 -4.96875 C 0.546875 -5.207031 0.613281 -5.429688 0.71875 -5.640625 C 0.820312 -5.847656 0.960938 -6.03125 1.140625 -6.1875 C 1.328125 -6.34375 1.546875 -6.46875 1.796875 -6.5625 C 2.046875 -6.65625 2.335938 -6.703125 2.671875 -6.703125 C 3.003906 -6.703125 3.296875 -6.660156 3.546875 -6.578125 C 3.804688 -6.503906 4.023438 -6.390625 4.203125 -6.234375 C 4.378906 -6.078125 4.515625 -5.882812 4.609375 -5.65625 C 4.703125 -5.4375 4.75 -5.179688 4.75 -4.890625 C 4.75 -4.671875 4.707031 -4.457031 4.625 -4.25 C 4.550781 -4.050781 4.445312 -3.863281 4.3125 -3.6875 C 4.175781 -3.507812 4.019531 -3.332031 3.84375 -3.15625 C 3.675781 -2.988281 3.492188 -2.820312 3.296875 -2.65625 C 3.109375 -2.5 2.914062 -2.34375 2.71875 -2.1875 C 2.53125 -2.03125 2.347656 -1.867188 2.171875 -1.703125 C 2.003906 -1.546875 1.851562 -1.382812 1.71875 -1.21875 C 1.582031 -1.0625 1.476562 -0.894531 1.40625 -0.71875 L 4.859375 -0.71875 L 4.859375 0 Z M 0.484375 0 \"/>\n",
       "</symbol>\n",
       "<symbol overflow=\"visible\" id=\"glyph0-6\">\n",
       "<path style=\"stroke:none;\" d=\"M 4.90625 -1.828125 C 4.90625 -1.523438 4.859375 -1.253906 4.765625 -1.015625 C 4.671875 -0.773438 4.523438 -0.570312 4.328125 -0.40625 C 4.140625 -0.238281 3.90625 -0.113281 3.625 -0.03125 C 3.351562 0.0507812 3.035156 0.09375 2.671875 0.09375 C 2.265625 0.09375 1.921875 0.046875 1.640625 -0.046875 C 1.359375 -0.148438 1.125 -0.285156 0.9375 -0.453125 C 0.757812 -0.628906 0.625 -0.820312 0.53125 -1.03125 C 0.445312 -1.25 0.390625 -1.472656 0.359375 -1.703125 L 1.234375 -1.78125 C 1.265625 -1.601562 1.3125 -1.441406 1.375 -1.296875 C 1.4375 -1.148438 1.523438 -1.023438 1.640625 -0.921875 C 1.765625 -0.816406 1.910156 -0.738281 2.078125 -0.6875 C 2.242188 -0.632812 2.441406 -0.609375 2.671875 -0.609375 C 3.097656 -0.609375 3.429688 -0.710938 3.671875 -0.921875 C 3.910156 -1.128906 4.03125 -1.4375 4.03125 -1.84375 C 4.03125 -2.09375 3.976562 -2.289062 3.875 -2.4375 C 3.769531 -2.582031 3.632812 -2.695312 3.46875 -2.78125 C 3.3125 -2.863281 3.140625 -2.921875 2.953125 -2.953125 C 2.765625 -2.984375 2.585938 -3 2.421875 -3 L 1.953125 -3 L 1.953125 -3.71875 L 2.40625 -3.71875 C 2.5625 -3.71875 2.722656 -3.734375 2.890625 -3.765625 C 3.066406 -3.804688 3.226562 -3.867188 3.375 -3.953125 C 3.519531 -4.035156 3.632812 -4.148438 3.71875 -4.296875 C 3.8125 -4.441406 3.859375 -4.628906 3.859375 -4.859375 C 3.859375 -5.210938 3.753906 -5.488281 3.546875 -5.6875 C 3.335938 -5.894531 3.03125 -6 2.625 -6 C 2.257812 -6 1.957031 -5.90625 1.71875 -5.71875 C 1.488281 -5.53125 1.359375 -5.257812 1.328125 -4.90625 L 0.484375 -4.984375 C 0.515625 -5.273438 0.59375 -5.523438 0.71875 -5.734375 C 0.84375 -5.953125 1 -6.128906 1.1875 -6.265625 C 1.382812 -6.410156 1.601562 -6.519531 1.84375 -6.59375 C 2.09375 -6.664062 2.359375 -6.703125 2.640625 -6.703125 C 3.003906 -6.703125 3.316406 -6.65625 3.578125 -6.5625 C 3.847656 -6.46875 4.066406 -6.34375 4.234375 -6.1875 C 4.410156 -6.03125 4.535156 -5.84375 4.609375 -5.625 C 4.691406 -5.414062 4.734375 -5.191406 4.734375 -4.953125 C 4.734375 -4.753906 4.707031 -4.570312 4.65625 -4.40625 C 4.601562 -4.238281 4.519531 -4.085938 4.40625 -3.953125 C 4.289062 -3.816406 4.144531 -3.703125 3.96875 -3.609375 C 3.800781 -3.515625 3.59375 -3.441406 3.34375 -3.390625 L 3.34375 -3.375 C 3.613281 -3.34375 3.847656 -3.28125 4.046875 -3.1875 C 4.242188 -3.09375 4.40625 -2.976562 4.53125 -2.84375 C 4.65625 -2.707031 4.75 -2.550781 4.8125 -2.375 C 4.875 -2.195312 4.90625 -2.015625 4.90625 -1.828125 Z M 4.90625 -1.828125 \"/>\n",
       "</symbol>\n",
       "<symbol overflow=\"visible\" id=\"glyph0-7\">\n",
       "<path style=\"stroke:none;\" d=\"M 4.125 -1.5 L 4.125 0 L 3.328125 0 L 3.328125 -1.5 L 0.21875 -1.5 L 0.21875 -2.15625 L 3.234375 -6.59375 L 4.125 -6.59375 L 4.125 -2.15625 L 5.046875 -2.15625 L 5.046875 -1.5 Z M 3.328125 -5.65625 C 3.328125 -5.632812 3.3125 -5.597656 3.28125 -5.546875 C 3.257812 -5.503906 3.234375 -5.457031 3.203125 -5.40625 C 3.171875 -5.351562 3.132812 -5.296875 3.09375 -5.234375 C 3.0625 -5.171875 3.035156 -5.125 3.015625 -5.09375 L 1.328125 -2.59375 C 1.304688 -2.570312 1.28125 -2.539062 1.25 -2.5 C 1.226562 -2.457031 1.203125 -2.414062 1.171875 -2.375 C 1.140625 -2.332031 1.109375 -2.289062 1.078125 -2.25 C 1.046875 -2.207031 1.019531 -2.175781 1 -2.15625 L 3.328125 -2.15625 Z M 3.328125 -5.65625 \"/>\n",
       "</symbol>\n",
       "<symbol overflow=\"visible\" id=\"glyph1-0\">\n",
       "<path style=\"stroke:none;\" d=\"M 0.40625 0 L 0.40625 -8 L 3.59375 -8 L 3.59375 0 Z M 0.796875 -0.40625 L 3.1875 -0.40625 L 3.1875 -7.59375 L 0.796875 -7.59375 Z M 0.796875 -0.40625 \"/>\n",
       "</symbol>\n",
       "<symbol overflow=\"visible\" id=\"glyph1-1\">\n",
       "<path style=\"stroke:none;\" d=\"M 6.34375 0 L 1.921875 -7.03125 C 1.929688 -6.84375 1.941406 -6.65625 1.953125 -6.46875 C 1.960938 -6.300781 1.96875 -6.128906 1.96875 -5.953125 C 1.976562 -5.773438 1.984375 -5.617188 1.984375 -5.484375 L 1.984375 0 L 0.984375 0 L 0.984375 -8.25 L 2.28125 -8.25 L 6.75 -1.171875 C 6.738281 -1.367188 6.726562 -1.5625 6.71875 -1.75 C 6.707031 -1.914062 6.695312 -2.09375 6.6875 -2.28125 C 6.6875 -2.476562 6.6875 -2.664062 6.6875 -2.84375 L 6.6875 -8.25 L 7.6875 -8.25 L 7.6875 0 Z M 6.34375 0 \"/>\n",
       "</symbol>\n",
       "<symbol overflow=\"visible\" id=\"glyph1-2\">\n",
       "<path style=\"stroke:none;\" d=\"M 1.625 -2.953125 C 1.625 -2.617188 1.65625 -2.3125 1.71875 -2.03125 C 1.789062 -1.75 1.894531 -1.507812 2.03125 -1.3125 C 2.175781 -1.113281 2.359375 -0.957031 2.578125 -0.84375 C 2.804688 -0.726562 3.078125 -0.671875 3.390625 -0.671875 C 3.847656 -0.671875 4.210938 -0.757812 4.484375 -0.9375 C 4.765625 -1.125 4.953125 -1.359375 5.046875 -1.640625 L 5.96875 -1.390625 C 5.90625 -1.210938 5.8125 -1.035156 5.6875 -0.859375 C 5.570312 -0.679688 5.414062 -0.519531 5.21875 -0.375 C 5.019531 -0.226562 4.769531 -0.109375 4.46875 -0.015625 C 4.164062 0.078125 3.804688 0.125 3.390625 0.125 C 2.453125 0.125 1.738281 -0.15625 1.25 -0.71875 C 0.757812 -1.28125 0.515625 -2.113281 0.515625 -3.21875 C 0.515625 -3.8125 0.585938 -4.3125 0.734375 -4.71875 C 0.878906 -5.132812 1.082031 -5.46875 1.34375 -5.71875 C 1.601562 -5.976562 1.90625 -6.164062 2.25 -6.28125 C 2.59375 -6.394531 2.957031 -6.453125 3.34375 -6.453125 C 3.875 -6.453125 4.316406 -6.363281 4.671875 -6.1875 C 5.035156 -6.019531 5.320312 -5.785156 5.53125 -5.484375 C 5.75 -5.179688 5.90625 -4.820312 6 -4.40625 C 6.09375 -4 6.140625 -3.5625 6.140625 -3.09375 L 6.140625 -2.953125 Z M 5.046875 -3.75 C 4.992188 -4.425781 4.828125 -4.914062 4.546875 -5.21875 C 4.265625 -5.519531 3.859375 -5.671875 3.328125 -5.671875 C 3.148438 -5.671875 2.960938 -5.644531 2.765625 -5.59375 C 2.578125 -5.539062 2.398438 -5.441406 2.234375 -5.296875 C 2.078125 -5.148438 1.941406 -4.953125 1.828125 -4.703125 C 1.710938 -4.453125 1.644531 -4.132812 1.625 -3.75 Z M 5.046875 -3.75 \"/>\n",
       "</symbol>\n",
       "<symbol overflow=\"visible\" id=\"glyph1-3\">\n",
       "<path style=\"stroke:none;\" d=\"M 0.796875 -7.6875 L 0.796875 -8.703125 L 1.859375 -8.703125 L 1.859375 -7.6875 Z M 0.796875 0 L 0.796875 -6.34375 L 1.859375 -6.34375 L 1.859375 0 Z M 0.796875 0 \"/>\n",
       "</symbol>\n",
       "<symbol overflow=\"visible\" id=\"glyph1-4\">\n",
       "<path style=\"stroke:none;\" d=\"M 3.21875 2.484375 C 2.851562 2.484375 2.53125 2.445312 2.25 2.375 C 1.96875 2.300781 1.722656 2.195312 1.515625 2.0625 C 1.316406 1.925781 1.15625 1.757812 1.03125 1.5625 C 0.90625 1.375 0.816406 1.160156 0.765625 0.921875 L 1.828125 0.78125 C 1.898438 1.070312 2.054688 1.296875 2.296875 1.453125 C 2.535156 1.609375 2.847656 1.6875 3.234375 1.6875 C 3.472656 1.6875 3.691406 1.648438 3.890625 1.578125 C 4.085938 1.515625 4.253906 1.410156 4.390625 1.265625 C 4.523438 1.117188 4.628906 0.925781 4.703125 0.6875 C 4.773438 0.457031 4.8125 0.175781 4.8125 -0.15625 L 4.8125 -1.171875 C 4.726562 -1.015625 4.628906 -0.863281 4.515625 -0.71875 C 4.398438 -0.570312 4.257812 -0.441406 4.09375 -0.328125 C 3.925781 -0.210938 3.734375 -0.117188 3.515625 -0.046875 C 3.296875 0.015625 3.046875 0.046875 2.765625 0.046875 C 2.359375 0.046875 2.007812 -0.0195312 1.71875 -0.15625 C 1.4375 -0.289062 1.203125 -0.492188 1.015625 -0.765625 C 0.835938 -1.035156 0.707031 -1.367188 0.625 -1.765625 C 0.539062 -2.171875 0.5 -2.632812 0.5 -3.15625 C 0.5 -3.664062 0.539062 -4.125 0.625 -4.53125 C 0.707031 -4.9375 0.84375 -5.28125 1.03125 -5.5625 C 1.226562 -5.84375 1.476562 -6.054688 1.78125 -6.203125 C 2.082031 -6.359375 2.453125 -6.4375 2.890625 -6.4375 C 3.335938 -6.4375 3.722656 -6.332031 4.046875 -6.125 C 4.378906 -5.925781 4.632812 -5.632812 4.8125 -5.25 L 4.828125 -5.25 C 4.828125 -5.351562 4.828125 -5.460938 4.828125 -5.578125 C 4.835938 -5.703125 4.84375 -5.816406 4.84375 -5.921875 C 4.851562 -6.035156 4.863281 -6.128906 4.875 -6.203125 C 4.882812 -6.285156 4.894531 -6.332031 4.90625 -6.34375 L 5.90625 -6.34375 C 5.894531 -6.300781 5.890625 -6.238281 5.890625 -6.15625 C 5.890625 -6.070312 5.882812 -5.972656 5.875 -5.859375 C 5.875 -5.742188 5.867188 -5.613281 5.859375 -5.46875 C 5.859375 -5.320312 5.859375 -5.175781 5.859375 -5.03125 L 5.859375 -0.1875 C 5.859375 0.707031 5.640625 1.375 5.203125 1.8125 C 4.773438 2.257812 4.113281 2.484375 3.21875 2.484375 Z M 4.8125 -3.171875 C 4.8125 -3.609375 4.765625 -3.984375 4.671875 -4.296875 C 4.578125 -4.617188 4.453125 -4.878906 4.296875 -5.078125 C 4.140625 -5.273438 3.957031 -5.421875 3.75 -5.515625 C 3.550781 -5.609375 3.347656 -5.65625 3.140625 -5.65625 C 2.867188 -5.65625 2.632812 -5.609375 2.4375 -5.515625 C 2.25 -5.421875 2.09375 -5.269531 1.96875 -5.0625 C 1.84375 -4.863281 1.75 -4.609375 1.6875 -4.296875 C 1.625 -3.984375 1.59375 -3.609375 1.59375 -3.171875 C 1.59375 -2.710938 1.625 -2.328125 1.6875 -2.015625 C 1.75 -1.703125 1.84375 -1.453125 1.96875 -1.265625 C 2.09375 -1.078125 2.25 -0.941406 2.4375 -0.859375 C 2.625 -0.773438 2.851562 -0.734375 3.125 -0.734375 C 3.332031 -0.734375 3.535156 -0.773438 3.734375 -0.859375 C 3.941406 -0.953125 4.125 -1.097656 4.28125 -1.296875 C 4.445312 -1.492188 4.578125 -1.742188 4.671875 -2.046875 C 4.765625 -2.359375 4.8125 -2.734375 4.8125 -3.171875 Z M 4.8125 -3.171875 \"/>\n",
       "</symbol>\n",
       "<symbol overflow=\"visible\" id=\"glyph1-5\">\n",
       "<path style=\"stroke:none;\" d=\"M 1.859375 -5.25 C 1.972656 -5.46875 2.097656 -5.648438 2.234375 -5.796875 C 2.367188 -5.953125 2.519531 -6.078125 2.6875 -6.171875 C 2.851562 -6.273438 3.03125 -6.347656 3.21875 -6.390625 C 3.414062 -6.429688 3.640625 -6.453125 3.890625 -6.453125 C 4.296875 -6.453125 4.628906 -6.394531 4.890625 -6.28125 C 5.148438 -6.175781 5.351562 -6.023438 5.5 -5.828125 C 5.644531 -5.628906 5.742188 -5.394531 5.796875 -5.125 C 5.859375 -4.851562 5.890625 -4.550781 5.890625 -4.21875 L 5.890625 0 L 4.828125 0 L 4.828125 -4.015625 C 4.828125 -4.285156 4.8125 -4.519531 4.78125 -4.71875 C 4.75 -4.925781 4.6875 -5.097656 4.59375 -5.234375 C 4.5 -5.367188 4.363281 -5.46875 4.1875 -5.53125 C 4.019531 -5.601562 3.800781 -5.640625 3.53125 -5.640625 C 3.28125 -5.640625 3.050781 -5.59375 2.84375 -5.5 C 2.644531 -5.414062 2.472656 -5.289062 2.328125 -5.125 C 2.191406 -4.957031 2.082031 -4.753906 2 -4.515625 C 1.925781 -4.285156 1.890625 -4.023438 1.890625 -3.734375 L 1.890625 0 L 0.828125 0 L 0.828125 -8.703125 L 1.890625 -8.703125 L 1.890625 -6.4375 C 1.890625 -6.300781 1.882812 -6.171875 1.875 -6.046875 C 1.875 -5.921875 1.867188 -5.800781 1.859375 -5.6875 C 1.859375 -5.582031 1.851562 -5.488281 1.84375 -5.40625 C 1.84375 -5.332031 1.84375 -5.28125 1.84375 -5.25 Z M 1.859375 -5.25 \"/>\n",
       "</symbol>\n",
       "<symbol overflow=\"visible\" id=\"glyph1-6\">\n",
       "<path style=\"stroke:none;\" d=\"M 6.171875 -3.203125 C 6.171875 -0.984375 5.394531 0.125 3.84375 0.125 C 3.363281 0.125 2.960938 0.0351562 2.640625 -0.140625 C 2.316406 -0.316406 2.054688 -0.597656 1.859375 -0.984375 C 1.859375 -0.878906 1.851562 -0.769531 1.84375 -0.65625 C 1.832031 -0.550781 1.820312 -0.453125 1.8125 -0.359375 C 1.8125 -0.265625 1.804688 -0.1875 1.796875 -0.125 C 1.796875 -0.0625 1.796875 -0.0195312 1.796875 0 L 0.78125 0 C 0.78125 -0.03125 0.78125 -0.0859375 0.78125 -0.171875 C 0.789062 -0.265625 0.796875 -0.367188 0.796875 -0.484375 C 0.796875 -0.597656 0.796875 -0.722656 0.796875 -0.859375 C 0.804688 -1.003906 0.8125 -1.15625 0.8125 -1.3125 L 0.8125 -8.703125 L 1.859375 -8.703125 L 1.859375 -6.21875 C 1.859375 -6.101562 1.859375 -5.988281 1.859375 -5.875 C 1.859375 -5.769531 1.859375 -5.675781 1.859375 -5.59375 C 1.847656 -5.5 1.84375 -5.410156 1.84375 -5.328125 L 1.859375 -5.328125 C 2.054688 -5.734375 2.316406 -6.019531 2.640625 -6.1875 C 2.960938 -6.363281 3.363281 -6.453125 3.84375 -6.453125 C 4.644531 -6.453125 5.234375 -6.179688 5.609375 -5.640625 C 5.984375 -5.109375 6.171875 -4.296875 6.171875 -3.203125 Z M 5.0625 -3.171875 C 5.0625 -3.609375 5.035156 -3.984375 4.984375 -4.296875 C 4.929688 -4.609375 4.84375 -4.863281 4.71875 -5.0625 C 4.59375 -5.257812 4.4375 -5.40625 4.25 -5.5 C 4.0625 -5.59375 3.832031 -5.640625 3.5625 -5.640625 C 3.289062 -5.640625 3.046875 -5.59375 2.828125 -5.5 C 2.617188 -5.414062 2.441406 -5.273438 2.296875 -5.078125 C 2.160156 -4.878906 2.050781 -4.613281 1.96875 -4.28125 C 1.894531 -3.957031 1.859375 -3.5625 1.859375 -3.09375 C 1.859375 -2.644531 1.894531 -2.265625 1.96875 -1.953125 C 2.050781 -1.648438 2.160156 -1.398438 2.296875 -1.203125 C 2.441406 -1.015625 2.617188 -0.875 2.828125 -0.78125 C 3.035156 -0.695312 3.28125 -0.65625 3.5625 -0.65625 C 3.8125 -0.65625 4.03125 -0.703125 4.21875 -0.796875 C 4.40625 -0.890625 4.5625 -1.035156 4.6875 -1.234375 C 4.8125 -1.429688 4.90625 -1.6875 4.96875 -2 C 5.03125 -2.320312 5.0625 -2.710938 5.0625 -3.171875 Z M 5.0625 -3.171875 \"/>\n",
       "</symbol>\n",
       "<symbol overflow=\"visible\" id=\"glyph1-7\">\n",
       "<path style=\"stroke:none;\" d=\"M 6.171875 -3.171875 C 6.171875 -2.066406 5.925781 -1.238281 5.4375 -0.6875 C 4.945312 -0.144531 4.238281 0.125 3.3125 0.125 C 2.875 0.125 2.476562 0.0546875 2.125 -0.078125 C 1.78125 -0.210938 1.488281 -0.414062 1.25 -0.6875 C 1.007812 -0.96875 0.820312 -1.3125 0.6875 -1.71875 C 0.5625 -2.132812 0.5 -2.617188 0.5 -3.171875 C 0.5 -5.359375 1.445312 -6.453125 3.34375 -6.453125 C 3.832031 -6.453125 4.253906 -6.382812 4.609375 -6.25 C 4.972656 -6.113281 5.269531 -5.910156 5.5 -5.640625 C 5.726562 -5.367188 5.894531 -5.023438 6 -4.609375 C 6.113281 -4.203125 6.171875 -3.722656 6.171875 -3.171875 Z M 5.0625 -3.171875 C 5.0625 -3.671875 5.019531 -4.078125 4.9375 -4.390625 C 4.863281 -4.710938 4.753906 -4.96875 4.609375 -5.15625 C 4.460938 -5.351562 4.285156 -5.488281 4.078125 -5.5625 C 3.867188 -5.632812 3.628906 -5.671875 3.359375 -5.671875 C 3.085938 -5.671875 2.84375 -5.628906 2.625 -5.546875 C 2.414062 -5.472656 2.234375 -5.335938 2.078125 -5.140625 C 1.929688 -4.953125 1.816406 -4.695312 1.734375 -4.375 C 1.648438 -4.050781 1.609375 -3.648438 1.609375 -3.171875 C 1.609375 -2.679688 1.648438 -2.273438 1.734375 -1.953125 C 1.828125 -1.628906 1.945312 -1.367188 2.09375 -1.171875 C 2.25 -0.984375 2.425781 -0.847656 2.625 -0.765625 C 2.832031 -0.691406 3.054688 -0.65625 3.296875 -0.65625 C 3.566406 -0.65625 3.8125 -0.691406 4.03125 -0.765625 C 4.25 -0.847656 4.429688 -0.984375 4.578125 -1.171875 C 4.734375 -1.367188 4.851562 -1.628906 4.9375 -1.953125 C 5.019531 -2.273438 5.0625 -2.679688 5.0625 -3.171875 Z M 5.0625 -3.171875 \"/>\n",
       "</symbol>\n",
       "<symbol overflow=\"visible\" id=\"glyph1-8\">\n",
       "<path style=\"stroke:none;\" d=\"M 0.828125 0 L 0.828125 -4.859375 C 0.828125 -4.992188 0.828125 -5.128906 0.828125 -5.265625 C 0.828125 -5.410156 0.820312 -5.546875 0.8125 -5.671875 C 0.8125 -5.796875 0.804688 -5.914062 0.796875 -6.03125 C 0.796875 -6.144531 0.796875 -6.25 0.796875 -6.34375 L 1.796875 -6.34375 C 1.796875 -6.25 1.796875 -6.144531 1.796875 -6.03125 C 1.804688 -5.914062 1.8125 -5.796875 1.8125 -5.671875 C 1.820312 -5.554688 1.828125 -5.441406 1.828125 -5.328125 C 1.835938 -5.210938 1.84375 -5.117188 1.84375 -5.046875 L 1.859375 -5.046875 C 1.929688 -5.285156 2.007812 -5.492188 2.09375 -5.671875 C 2.1875 -5.847656 2.285156 -5.992188 2.390625 -6.109375 C 2.503906 -6.222656 2.640625 -6.304688 2.796875 -6.359375 C 2.953125 -6.421875 3.144531 -6.453125 3.375 -6.453125 C 3.457031 -6.453125 3.535156 -6.445312 3.609375 -6.4375 C 3.691406 -6.425781 3.753906 -6.414062 3.796875 -6.40625 L 3.796875 -5.4375 C 3.722656 -5.457031 3.640625 -5.46875 3.546875 -5.46875 C 3.453125 -5.476562 3.347656 -5.484375 3.234375 -5.484375 C 2.992188 -5.484375 2.785156 -5.425781 2.609375 -5.3125 C 2.441406 -5.207031 2.304688 -5.054688 2.203125 -4.859375 C 2.097656 -4.671875 2.019531 -4.441406 1.96875 -4.171875 C 1.914062 -3.910156 1.890625 -3.625 1.890625 -3.3125 L 1.890625 0 Z M 0.828125 0 \"/>\n",
       "</symbol>\n",
       "<symbol overflow=\"visible\" id=\"glyph1-9\">\n",
       "<path style=\"stroke:none;\" d=\"M 5.5625 -1.75 C 5.5625 -1.457031 5.503906 -1.191406 5.390625 -0.953125 C 5.273438 -0.722656 5.109375 -0.53125 4.890625 -0.375 C 4.671875 -0.21875 4.398438 -0.09375 4.078125 0 C 3.765625 0.0820312 3.40625 0.125 3 0.125 C 2.625 0.125 2.289062 0.09375 2 0.03125 C 1.707031 -0.0195312 1.445312 -0.109375 1.21875 -0.234375 C 1 -0.359375 0.8125 -0.523438 0.65625 -0.734375 C 0.507812 -0.941406 0.398438 -1.191406 0.328125 -1.484375 L 1.265625 -1.671875 C 1.359375 -1.328125 1.546875 -1.078125 1.828125 -0.921875 C 2.109375 -0.765625 2.5 -0.6875 3 -0.6875 C 3.21875 -0.6875 3.421875 -0.703125 3.609375 -0.734375 C 3.804688 -0.765625 3.972656 -0.816406 4.109375 -0.890625 C 4.242188 -0.972656 4.347656 -1.078125 4.421875 -1.203125 C 4.503906 -1.328125 4.546875 -1.484375 4.546875 -1.671875 C 4.546875 -1.859375 4.5 -2.015625 4.40625 -2.140625 C 4.3125 -2.265625 4.1875 -2.367188 4.03125 -2.453125 C 3.875 -2.535156 3.679688 -2.601562 3.453125 -2.65625 C 3.222656 -2.71875 2.972656 -2.785156 2.703125 -2.859375 C 2.441406 -2.929688 2.1875 -3.007812 1.9375 -3.09375 C 1.6875 -3.175781 1.460938 -3.28125 1.265625 -3.40625 C 1.066406 -3.539062 0.90625 -3.707031 0.78125 -3.90625 C 0.65625 -4.113281 0.59375 -4.367188 0.59375 -4.671875 C 0.59375 -5.242188 0.796875 -5.679688 1.203125 -5.984375 C 1.617188 -6.285156 2.21875 -6.4375 3 -6.4375 C 3.707031 -6.4375 4.265625 -6.3125 4.671875 -6.0625 C 5.085938 -5.820312 5.347656 -5.429688 5.453125 -4.890625 L 4.5 -4.765625 C 4.46875 -4.929688 4.40625 -5.066406 4.3125 -5.171875 C 4.21875 -5.285156 4.101562 -5.378906 3.96875 -5.453125 C 3.84375 -5.523438 3.695312 -5.570312 3.53125 -5.59375 C 3.363281 -5.625 3.1875 -5.640625 3 -5.640625 C 2.53125 -5.640625 2.179688 -5.566406 1.953125 -5.421875 C 1.722656 -5.273438 1.609375 -5.054688 1.609375 -4.765625 C 1.609375 -4.597656 1.648438 -4.457031 1.734375 -4.34375 C 1.816406 -4.226562 1.929688 -4.132812 2.078125 -4.0625 C 2.234375 -3.988281 2.414062 -3.921875 2.625 -3.859375 C 2.84375 -3.804688 3.078125 -3.75 3.328125 -3.6875 C 3.492188 -3.644531 3.664062 -3.597656 3.84375 -3.546875 C 4.019531 -3.492188 4.191406 -3.429688 4.359375 -3.359375 C 4.523438 -3.296875 4.679688 -3.21875 4.828125 -3.125 C 4.972656 -3.039062 5.097656 -2.929688 5.203125 -2.796875 C 5.316406 -2.671875 5.40625 -2.519531 5.46875 -2.34375 C 5.53125 -2.175781 5.5625 -1.976562 5.5625 -1.75 Z M 5.5625 -1.75 \"/>\n",
       "</symbol>\n",
       "<symbol overflow=\"visible\" id=\"glyph2-0\">\n",
       "<path style=\"stroke:none;\" d=\"M 0 -0.40625 L -8 -0.40625 L -8 -3.59375 L 0 -3.59375 Z M -0.40625 -0.796875 L -0.40625 -3.1875 L -7.59375 -3.1875 L -7.59375 -0.796875 Z M -0.40625 -0.796875 \"/>\n",
       "</symbol>\n",
       "<symbol overflow=\"visible\" id=\"glyph2-1\">\n",
       "<path style=\"stroke:none;\" d=\"M 0 -6.84375 L -2.421875 -5.890625 L -2.421875 -2.140625 L 0 -1.1875 L 0 -0.03125 L -8.25 -3.390625 L -8.25 -4.671875 L 0 -7.984375 Z M -6.015625 -4.5 C -6.171875 -4.4375 -6.328125 -4.375 -6.484375 -4.3125 C -6.648438 -4.257812 -6.796875 -4.210938 -6.921875 -4.171875 C -7.054688 -4.128906 -7.164062 -4.09375 -7.25 -4.0625 C -7.34375 -4.03125 -7.394531 -4.015625 -7.40625 -4.015625 C -7.394531 -4.003906 -7.34375 -3.984375 -7.25 -3.953125 C -7.15625 -3.929688 -7.039062 -3.894531 -6.90625 -3.84375 C -6.78125 -3.800781 -6.632812 -3.75 -6.46875 -3.6875 C -6.3125 -3.632812 -6.15625 -3.582031 -6 -3.53125 L -3.28125 -2.46875 L -3.28125 -5.5625 Z M -6.015625 -4.5 \"/>\n",
       "</symbol>\n",
       "<symbol overflow=\"visible\" id=\"glyph2-2\">\n",
       "<path style=\"stroke:none;\" d=\"M -3.203125 -1.609375 C -2.835938 -1.609375 -2.5 -1.632812 -2.1875 -1.6875 C -1.882812 -1.738281 -1.625 -1.828125 -1.40625 -1.953125 C -1.1875 -2.078125 -1.015625 -2.242188 -0.890625 -2.453125 C -0.773438 -2.660156 -0.71875 -2.914062 -0.71875 -3.21875 C -0.71875 -3.59375 -0.816406 -3.90625 -1.015625 -4.15625 C -1.222656 -4.40625 -1.535156 -4.5625 -1.953125 -4.625 L -1.890625 -5.6875 C -1.628906 -5.644531 -1.375 -5.566406 -1.125 -5.453125 C -0.882812 -5.335938 -0.671875 -5.175781 -0.484375 -4.96875 C -0.304688 -4.769531 -0.160156 -4.523438 -0.046875 -4.234375 C 0.0664062 -3.953125 0.125 -3.617188 0.125 -3.234375 C 0.125 -2.742188 0.0390625 -2.320312 -0.125 -1.96875 C -0.300781 -1.625 -0.535156 -1.34375 -0.828125 -1.125 C -1.117188 -0.90625 -1.460938 -0.75 -1.859375 -0.65625 C -2.265625 -0.5625 -2.703125 -0.515625 -3.171875 -0.515625 C -3.597656 -0.515625 -3.972656 -0.546875 -4.296875 -0.609375 C -4.628906 -0.679688 -4.914062 -0.78125 -5.15625 -0.90625 C -5.40625 -1.039062 -5.613281 -1.191406 -5.78125 -1.359375 C -5.945312 -1.535156 -6.078125 -1.722656 -6.171875 -1.921875 C -6.273438 -2.117188 -6.347656 -2.328125 -6.390625 -2.546875 C -6.429688 -2.773438 -6.453125 -3.003906 -6.453125 -3.234375 C -6.453125 -3.585938 -6.40625 -3.898438 -6.3125 -4.171875 C -6.21875 -4.453125 -6.082031 -4.691406 -5.90625 -4.890625 C -5.738281 -5.097656 -5.539062 -5.265625 -5.3125 -5.390625 C -5.082031 -5.515625 -4.832031 -5.601562 -4.5625 -5.65625 L -4.484375 -4.5625 C -4.835938 -4.507812 -5.113281 -4.367188 -5.3125 -4.140625 C -5.519531 -3.921875 -5.625 -3.609375 -5.625 -3.203125 C -5.625 -2.898438 -5.570312 -2.644531 -5.46875 -2.4375 C -5.375 -2.238281 -5.226562 -2.078125 -5.03125 -1.953125 C -4.832031 -1.828125 -4.578125 -1.738281 -4.265625 -1.6875 C -3.960938 -1.632812 -3.609375 -1.609375 -3.203125 -1.609375 Z M -3.203125 -1.609375 \"/>\n",
       "</symbol>\n",
       "<symbol overflow=\"visible\" id=\"glyph2-3\">\n",
       "<path style=\"stroke:none;\" d=\"M -6.34375 -1.84375 L -2.328125 -1.84375 C -2.015625 -1.84375 -1.753906 -1.863281 -1.546875 -1.90625 C -1.335938 -1.945312 -1.171875 -2.019531 -1.046875 -2.125 C -0.921875 -2.226562 -0.832031 -2.363281 -0.78125 -2.53125 C -0.726562 -2.695312 -0.703125 -2.898438 -0.703125 -3.140625 C -0.703125 -3.390625 -0.742188 -3.613281 -0.828125 -3.8125 C -0.921875 -4.019531 -1.046875 -4.191406 -1.203125 -4.328125 C -1.367188 -4.472656 -1.570312 -4.582031 -1.8125 -4.65625 C -2.0625 -4.738281 -2.347656 -4.78125 -2.671875 -4.78125 L -6.34375 -4.78125 L -6.34375 -5.84375 L -1.359375 -5.84375 C -1.222656 -5.84375 -1.082031 -5.84375 -0.9375 -5.84375 C -0.789062 -5.84375 -0.648438 -5.84375 -0.515625 -5.84375 C -0.390625 -5.851562 -0.28125 -5.859375 -0.1875 -5.859375 C -0.09375 -5.867188 -0.03125 -5.875 0 -5.875 L 0 -4.875 C -0.0195312 -4.875 -0.0703125 -4.867188 -0.15625 -4.859375 C -0.238281 -4.859375 -0.335938 -4.851562 -0.453125 -4.84375 C -0.566406 -4.84375 -0.679688 -4.835938 -0.796875 -4.828125 C -0.910156 -4.828125 -1.003906 -4.828125 -1.078125 -4.828125 L -1.078125 -4.8125 C -0.898438 -4.71875 -0.734375 -4.609375 -0.578125 -4.484375 C -0.429688 -4.359375 -0.304688 -4.21875 -0.203125 -4.0625 C -0.0976562 -3.90625 -0.0195312 -3.722656 0.03125 -3.515625 C 0.09375 -3.304688 0.125 -3.066406 0.125 -2.796875 C 0.125 -2.441406 0.0820312 -2.132812 0 -1.875 C -0.09375 -1.625 -0.226562 -1.414062 -0.40625 -1.25 C -0.59375 -1.09375 -0.828125 -0.972656 -1.109375 -0.890625 C -1.390625 -0.816406 -1.722656 -0.78125 -2.109375 -0.78125 L -6.34375 -0.78125 Z M -6.34375 -1.84375 \"/>\n",
       "</symbol>\n",
       "<symbol overflow=\"visible\" id=\"glyph2-4\">\n",
       "<path style=\"stroke:none;\" d=\"M 0 -0.828125 L -4.859375 -0.828125 C -4.992188 -0.828125 -5.128906 -0.828125 -5.265625 -0.828125 C -5.410156 -0.828125 -5.546875 -0.820312 -5.671875 -0.8125 C -5.796875 -0.8125 -5.914062 -0.804688 -6.03125 -0.796875 C -6.144531 -0.796875 -6.25 -0.796875 -6.34375 -0.796875 L -6.34375 -1.796875 C -6.25 -1.796875 -6.144531 -1.796875 -6.03125 -1.796875 C -5.914062 -1.804688 -5.796875 -1.8125 -5.671875 -1.8125 C -5.554688 -1.820312 -5.441406 -1.828125 -5.328125 -1.828125 C -5.210938 -1.835938 -5.117188 -1.84375 -5.046875 -1.84375 L -5.046875 -1.859375 C -5.285156 -1.929688 -5.492188 -2.007812 -5.671875 -2.09375 C -5.847656 -2.1875 -5.992188 -2.285156 -6.109375 -2.390625 C -6.222656 -2.503906 -6.304688 -2.640625 -6.359375 -2.796875 C -6.421875 -2.953125 -6.453125 -3.144531 -6.453125 -3.375 C -6.453125 -3.457031 -6.445312 -3.535156 -6.4375 -3.609375 C -6.425781 -3.691406 -6.414062 -3.753906 -6.40625 -3.796875 L -5.4375 -3.796875 C -5.457031 -3.722656 -5.46875 -3.640625 -5.46875 -3.546875 C -5.476562 -3.453125 -5.484375 -3.347656 -5.484375 -3.234375 C -5.484375 -2.992188 -5.425781 -2.785156 -5.3125 -2.609375 C -5.207031 -2.441406 -5.054688 -2.304688 -4.859375 -2.203125 C -4.671875 -2.097656 -4.441406 -2.019531 -4.171875 -1.96875 C -3.910156 -1.914062 -3.625 -1.890625 -3.3125 -1.890625 L 0 -1.890625 Z M 0 -0.828125 \"/>\n",
       "</symbol>\n",
       "<symbol overflow=\"visible\" id=\"glyph2-5\">\n",
       "<path style=\"stroke:none;\" d=\"M 0.125 -2.421875 C 0.125 -1.785156 -0.0390625 -1.304688 -0.375 -0.984375 C -0.71875 -0.671875 -1.179688 -0.515625 -1.765625 -0.515625 C -2.179688 -0.515625 -2.523438 -0.59375 -2.796875 -0.75 C -3.066406 -0.90625 -3.273438 -1.109375 -3.421875 -1.359375 C -3.578125 -1.617188 -3.679688 -1.910156 -3.734375 -2.234375 C -3.796875 -2.566406 -3.832031 -2.90625 -3.84375 -3.25 L -3.875 -4.671875 L -4.21875 -4.671875 C -4.476562 -4.671875 -4.695312 -4.640625 -4.875 -4.578125 C -5.0625 -4.523438 -5.210938 -4.441406 -5.328125 -4.328125 C -5.441406 -4.222656 -5.523438 -4.082031 -5.578125 -3.90625 C -5.628906 -3.738281 -5.65625 -3.539062 -5.65625 -3.3125 C -5.65625 -3.101562 -5.640625 -2.914062 -5.609375 -2.75 C -5.578125 -2.59375 -5.523438 -2.453125 -5.453125 -2.328125 C -5.378906 -2.210938 -5.273438 -2.113281 -5.140625 -2.03125 C -5.015625 -1.957031 -4.847656 -1.910156 -4.640625 -1.890625 L -4.75 -0.796875 C -5 -0.828125 -5.226562 -0.894531 -5.4375 -1 C -5.644531 -1.113281 -5.820312 -1.269531 -5.96875 -1.46875 C -6.125 -1.675781 -6.242188 -1.929688 -6.328125 -2.234375 C -6.410156 -2.535156 -6.453125 -2.898438 -6.453125 -3.328125 C -6.453125 -4.128906 -6.269531 -4.726562 -5.90625 -5.125 C -5.539062 -5.53125 -5.015625 -5.734375 -4.328125 -5.734375 L -1.59375 -5.734375 C -1.28125 -5.734375 -1.046875 -5.773438 -0.890625 -5.859375 C -0.734375 -5.941406 -0.65625 -6.097656 -0.65625 -6.328125 C -0.65625 -6.390625 -0.65625 -6.445312 -0.65625 -6.5 C -0.664062 -6.5625 -0.675781 -6.617188 -0.6875 -6.671875 L -0.03125 -6.671875 C 0 -6.535156 0.0195312 -6.398438 0.03125 -6.265625 C 0.0507812 -6.140625 0.0625 -6.003906 0.0625 -5.859375 C 0.0625 -5.660156 0.0351562 -5.488281 -0.015625 -5.34375 C -0.0664062 -5.207031 -0.144531 -5.09375 -0.25 -5 C -0.363281 -4.90625 -0.5 -4.832031 -0.65625 -4.78125 C -0.8125 -4.738281 -1 -4.710938 -1.21875 -4.703125 L -1.21875 -4.671875 C -1.007812 -4.554688 -0.820312 -4.429688 -0.65625 -4.296875 C -0.5 -4.160156 -0.363281 -4.003906 -0.25 -3.828125 C -0.132812 -3.648438 -0.046875 -3.445312 0.015625 -3.21875 C 0.0859375 -2.988281 0.125 -2.722656 0.125 -2.421875 Z M -0.671875 -2.671875 C -0.671875 -3.003906 -0.734375 -3.296875 -0.859375 -3.546875 C -0.984375 -3.796875 -1.140625 -4.003906 -1.328125 -4.171875 C -1.523438 -4.335938 -1.734375 -4.460938 -1.953125 -4.546875 C -2.179688 -4.628906 -2.398438 -4.671875 -2.609375 -4.671875 L -3.125 -4.671875 L -3.109375 -3.515625 C -3.097656 -3.253906 -3.078125 -3.007812 -3.046875 -2.78125 C -3.015625 -2.550781 -2.945312 -2.347656 -2.84375 -2.171875 C -2.75 -1.992188 -2.613281 -1.851562 -2.4375 -1.75 C -2.269531 -1.644531 -2.039062 -1.59375 -1.75 -1.59375 C -1.40625 -1.59375 -1.140625 -1.6875 -0.953125 -1.875 C -0.765625 -2.0625 -0.671875 -2.328125 -0.671875 -2.671875 Z M -0.671875 -2.671875 \"/>\n",
       "</symbol>\n",
       "<symbol overflow=\"visible\" id=\"glyph2-6\">\n",
       "<path style=\"stroke:none;\" d=\"M 0 -3.546875 C 0.382812 -3.390625 0.726562 -3.234375 1.03125 -3.078125 C 1.34375 -2.929688 1.601562 -2.757812 1.8125 -2.5625 C 2.03125 -2.375 2.195312 -2.160156 2.3125 -1.921875 C 2.425781 -1.691406 2.484375 -1.425781 2.484375 -1.125 C 2.484375 -0.988281 2.476562 -0.863281 2.46875 -0.75 C 2.46875 -0.632812 2.453125 -0.515625 2.421875 -0.390625 L 1.640625 -0.390625 C 1.648438 -0.460938 1.65625 -0.546875 1.65625 -0.640625 C 1.664062 -0.734375 1.671875 -0.816406 1.671875 -0.890625 C 1.671875 -1.191406 1.554688 -1.472656 1.328125 -1.734375 C 1.097656 -2.003906 0.726562 -2.238281 0.21875 -2.4375 L -0.03125 -2.546875 L -6.34375 -0.03125 L -6.34375 -1.15625 L -2.84375 -2.484375 C -2.726562 -2.523438 -2.582031 -2.578125 -2.40625 -2.640625 C -2.238281 -2.703125 -2.066406 -2.757812 -1.890625 -2.8125 C -1.710938 -2.875 -1.550781 -2.925781 -1.40625 -2.96875 C -1.269531 -3.019531 -1.1875 -3.050781 -1.15625 -3.0625 C -1.195312 -3.070312 -1.28125 -3.097656 -1.40625 -3.140625 C -1.53125 -3.191406 -1.671875 -3.242188 -1.828125 -3.296875 C -1.984375 -3.359375 -2.140625 -3.414062 -2.296875 -3.46875 C -2.460938 -3.53125 -2.601562 -3.582031 -2.71875 -3.625 L -6.34375 -4.859375 L -6.34375 -5.984375 Z M 0 -3.546875 \"/>\n",
       "</symbol>\n",
       "<symbol overflow=\"visible\" id=\"glyph2-7\">\n",
       "<path style=\"stroke:none;\" d=\"\"/>\n",
       "</symbol>\n",
       "<symbol overflow=\"visible\" id=\"glyph2-8\">\n",
       "<path style=\"stroke:none;\" d=\"M 0 -0.984375 L -8.25 -0.984375 L -8.25 -7.25 L -7.34375 -7.25 L -7.34375 -2.109375 L -4.6875 -2.109375 L -4.6875 -6.890625 L -3.796875 -6.890625 L -3.796875 -2.109375 L -0.921875 -2.109375 L -0.921875 -7.484375 L 0 -7.484375 Z M 0 -0.984375 \"/>\n",
       "</symbol>\n",
       "<symbol overflow=\"visible\" id=\"glyph2-9\">\n",
       "<path style=\"stroke:none;\" d=\"M -1.75 -5.5625 C -1.457031 -5.5625 -1.191406 -5.503906 -0.953125 -5.390625 C -0.722656 -5.273438 -0.53125 -5.109375 -0.375 -4.890625 C -0.21875 -4.671875 -0.09375 -4.398438 0 -4.078125 C 0.0820312 -3.765625 0.125 -3.40625 0.125 -3 C 0.125 -2.625 0.09375 -2.289062 0.03125 -2 C -0.0195312 -1.707031 -0.109375 -1.445312 -0.234375 -1.21875 C -0.359375 -1 -0.523438 -0.8125 -0.734375 -0.65625 C -0.941406 -0.507812 -1.191406 -0.398438 -1.484375 -0.328125 L -1.671875 -1.265625 C -1.328125 -1.359375 -1.078125 -1.546875 -0.921875 -1.828125 C -0.765625 -2.109375 -0.6875 -2.5 -0.6875 -3 C -0.6875 -3.21875 -0.703125 -3.421875 -0.734375 -3.609375 C -0.765625 -3.804688 -0.816406 -3.972656 -0.890625 -4.109375 C -0.972656 -4.242188 -1.078125 -4.347656 -1.203125 -4.421875 C -1.328125 -4.503906 -1.484375 -4.546875 -1.671875 -4.546875 C -1.859375 -4.546875 -2.015625 -4.5 -2.140625 -4.40625 C -2.265625 -4.3125 -2.367188 -4.1875 -2.453125 -4.03125 C -2.535156 -3.875 -2.601562 -3.679688 -2.65625 -3.453125 C -2.71875 -3.222656 -2.785156 -2.972656 -2.859375 -2.703125 C -2.929688 -2.441406 -3.007812 -2.1875 -3.09375 -1.9375 C -3.175781 -1.6875 -3.28125 -1.460938 -3.40625 -1.265625 C -3.539062 -1.066406 -3.707031 -0.90625 -3.90625 -0.78125 C -4.113281 -0.65625 -4.367188 -0.59375 -4.671875 -0.59375 C -5.242188 -0.59375 -5.679688 -0.796875 -5.984375 -1.203125 C -6.285156 -1.617188 -6.4375 -2.21875 -6.4375 -3 C -6.4375 -3.707031 -6.3125 -4.265625 -6.0625 -4.671875 C -5.820312 -5.085938 -5.429688 -5.347656 -4.890625 -5.453125 L -4.765625 -4.5 C -4.929688 -4.46875 -5.066406 -4.40625 -5.171875 -4.3125 C -5.285156 -4.21875 -5.378906 -4.101562 -5.453125 -3.96875 C -5.523438 -3.84375 -5.570312 -3.695312 -5.59375 -3.53125 C -5.625 -3.363281 -5.640625 -3.1875 -5.640625 -3 C -5.640625 -2.53125 -5.566406 -2.179688 -5.421875 -1.953125 C -5.273438 -1.722656 -5.054688 -1.609375 -4.765625 -1.609375 C -4.597656 -1.609375 -4.457031 -1.648438 -4.34375 -1.734375 C -4.226562 -1.816406 -4.132812 -1.929688 -4.0625 -2.078125 C -3.988281 -2.234375 -3.921875 -2.414062 -3.859375 -2.625 C -3.804688 -2.84375 -3.75 -3.078125 -3.6875 -3.328125 C -3.644531 -3.492188 -3.597656 -3.664062 -3.546875 -3.84375 C -3.492188 -4.019531 -3.429688 -4.191406 -3.359375 -4.359375 C -3.296875 -4.523438 -3.21875 -4.679688 -3.125 -4.828125 C -3.039062 -4.972656 -2.929688 -5.097656 -2.796875 -5.203125 C -2.671875 -5.316406 -2.519531 -5.40625 -2.34375 -5.46875 C -2.175781 -5.53125 -1.976562 -5.5625 -1.75 -5.5625 Z M -1.75 -5.5625 \"/>\n",
       "</symbol>\n",
       "<symbol overflow=\"visible\" id=\"glyph2-10\">\n",
       "<path style=\"stroke:none;\" d=\"M -0.046875 -3.25 C -0.00390625 -3.082031 0.0234375 -2.914062 0.046875 -2.75 C 0.078125 -2.59375 0.09375 -2.40625 0.09375 -2.1875 C 0.09375 -1.34375 -0.382812 -0.921875 -1.34375 -0.921875 L -5.578125 -0.921875 L -5.578125 -0.1875 L -6.34375 -0.1875 L -6.34375 -0.953125 L -7.765625 -1.265625 L -7.765625 -1.96875 L -6.34375 -1.96875 L -6.34375 -3.140625 L -5.578125 -3.140625 L -5.578125 -1.96875 L -1.578125 -1.96875 C -1.265625 -1.96875 -1.046875 -2.015625 -0.921875 -2.109375 C -0.804688 -2.210938 -0.75 -2.390625 -0.75 -2.640625 C -0.75 -2.742188 -0.753906 -2.84375 -0.765625 -2.9375 C -0.785156 -3.03125 -0.804688 -3.132812 -0.828125 -3.25 Z M -0.046875 -3.25 \"/>\n",
       "</symbol>\n",
       "<symbol overflow=\"visible\" id=\"glyph2-11\">\n",
       "<path style=\"stroke:none;\" d=\"M -7.6875 -0.796875 L -8.703125 -0.796875 L -8.703125 -1.859375 L -7.6875 -1.859375 Z M 0 -0.796875 L -6.34375 -0.796875 L -6.34375 -1.859375 L 0 -1.859375 Z M 0 -0.796875 \"/>\n",
       "</symbol>\n",
       "<symbol overflow=\"visible\" id=\"glyph2-12\">\n",
       "<path style=\"stroke:none;\" d=\"M 0 -4.5 L -4.015625 -4.5 C -4.328125 -4.5 -4.585938 -4.476562 -4.796875 -4.4375 C -5.003906 -4.40625 -5.171875 -4.34375 -5.296875 -4.25 C -5.421875 -4.15625 -5.507812 -4.03125 -5.5625 -3.875 C -5.613281 -3.726562 -5.640625 -3.550781 -5.640625 -3.34375 C -5.640625 -3.113281 -5.59375 -2.910156 -5.5 -2.734375 C -5.414062 -2.554688 -5.289062 -2.40625 -5.125 -2.28125 C -4.957031 -2.15625 -4.753906 -2.054688 -4.515625 -1.984375 C -4.273438 -1.910156 -3.992188 -1.875 -3.671875 -1.875 L 0 -1.875 L 0 -0.828125 L -4.984375 -0.828125 C -5.117188 -0.828125 -5.257812 -0.828125 -5.40625 -0.828125 C -5.550781 -0.828125 -5.6875 -0.820312 -5.8125 -0.8125 C -5.945312 -0.8125 -6.0625 -0.804688 -6.15625 -0.796875 C -6.25 -0.796875 -6.3125 -0.796875 -6.34375 -0.796875 L -6.34375 -1.796875 C -6.320312 -1.796875 -6.265625 -1.796875 -6.171875 -1.796875 C -6.085938 -1.804688 -5.988281 -1.8125 -5.875 -1.8125 C -5.769531 -1.820312 -5.660156 -1.828125 -5.546875 -1.828125 C -5.429688 -1.835938 -5.332031 -1.84375 -5.25 -1.84375 L -5.25 -1.859375 C -5.4375 -1.953125 -5.601562 -2.050781 -5.75 -2.15625 C -5.90625 -2.269531 -6.03125 -2.398438 -6.125 -2.546875 C -6.226562 -2.691406 -6.304688 -2.859375 -6.359375 -3.046875 C -6.421875 -3.234375 -6.453125 -3.453125 -6.453125 -3.703125 C -6.453125 -4.191406 -6.359375 -4.570312 -6.171875 -4.84375 C -5.984375 -5.125 -5.675781 -5.320312 -5.25 -5.4375 L -5.25 -5.453125 C -5.4375 -5.546875 -5.601562 -5.648438 -5.75 -5.765625 C -5.90625 -5.878906 -6.03125 -6.015625 -6.125 -6.171875 C -6.226562 -6.328125 -6.304688 -6.503906 -6.359375 -6.703125 C -6.421875 -6.898438 -6.453125 -7.125 -6.453125 -7.375 C -6.453125 -7.695312 -6.410156 -7.972656 -6.328125 -8.203125 C -6.242188 -8.429688 -6.109375 -8.617188 -5.921875 -8.765625 C -5.742188 -8.921875 -5.515625 -9.03125 -5.234375 -9.09375 C -4.953125 -9.164062 -4.613281 -9.203125 -4.21875 -9.203125 L 0 -9.203125 L 0 -8.15625 L -4.015625 -8.15625 C -4.328125 -8.15625 -4.585938 -8.132812 -4.796875 -8.09375 C -5.003906 -8.0625 -5.171875 -8 -5.296875 -7.90625 C -5.421875 -7.8125 -5.507812 -7.691406 -5.5625 -7.546875 C -5.613281 -7.398438 -5.640625 -7.21875 -5.640625 -7 C -5.640625 -6.78125 -5.597656 -6.578125 -5.515625 -6.390625 C -5.429688 -6.210938 -5.304688 -6.0625 -5.140625 -5.9375 C -4.984375 -5.8125 -4.78125 -5.710938 -4.53125 -5.640625 C -4.28125 -5.578125 -3.992188 -5.546875 -3.671875 -5.546875 L 0 -5.546875 Z M 0 -4.5 \"/>\n",
       "</symbol>\n",
       "<symbol overflow=\"visible\" id=\"glyph2-13\">\n",
       "<path style=\"stroke:none;\" d=\"M -2.953125 -1.625 C -2.617188 -1.625 -2.3125 -1.65625 -2.03125 -1.71875 C -1.75 -1.789062 -1.507812 -1.894531 -1.3125 -2.03125 C -1.113281 -2.175781 -0.957031 -2.359375 -0.84375 -2.578125 C -0.726562 -2.804688 -0.671875 -3.078125 -0.671875 -3.390625 C -0.671875 -3.847656 -0.757812 -4.210938 -0.9375 -4.484375 C -1.125 -4.765625 -1.359375 -4.953125 -1.640625 -5.046875 L -1.390625 -5.96875 C -1.210938 -5.90625 -1.035156 -5.8125 -0.859375 -5.6875 C -0.679688 -5.570312 -0.519531 -5.414062 -0.375 -5.21875 C -0.226562 -5.019531 -0.109375 -4.769531 -0.015625 -4.46875 C 0.078125 -4.164062 0.125 -3.804688 0.125 -3.390625 C 0.125 -2.453125 -0.15625 -1.738281 -0.71875 -1.25 C -1.28125 -0.757812 -2.113281 -0.515625 -3.21875 -0.515625 C -3.8125 -0.515625 -4.3125 -0.585938 -4.71875 -0.734375 C -5.132812 -0.878906 -5.46875 -1.082031 -5.71875 -1.34375 C -5.976562 -1.601562 -6.164062 -1.90625 -6.28125 -2.25 C -6.394531 -2.59375 -6.453125 -2.957031 -6.453125 -3.34375 C -6.453125 -3.875 -6.363281 -4.316406 -6.1875 -4.671875 C -6.019531 -5.035156 -5.785156 -5.320312 -5.484375 -5.53125 C -5.179688 -5.75 -4.820312 -5.90625 -4.40625 -6 C -4 -6.09375 -3.5625 -6.140625 -3.09375 -6.140625 L -2.953125 -6.140625 Z M -3.75 -5.046875 C -4.425781 -4.992188 -4.914062 -4.828125 -5.21875 -4.546875 C -5.519531 -4.265625 -5.671875 -3.859375 -5.671875 -3.328125 C -5.671875 -3.148438 -5.644531 -2.960938 -5.59375 -2.765625 C -5.539062 -2.578125 -5.441406 -2.398438 -5.296875 -2.234375 C -5.148438 -2.078125 -4.953125 -1.941406 -4.703125 -1.828125 C -4.453125 -1.710938 -4.132812 -1.644531 -3.75 -1.625 Z M -3.75 -5.046875 \"/>\n",
       "</symbol>\n",
       "<symbol overflow=\"visible\" id=\"glyph3-0\">\n",
       "<path style=\"stroke:none;\" d=\"M 0.484375 0 L 0.484375 -9.609375 L 4.3125 -9.609375 L 4.3125 0 Z M 0.953125 -0.484375 L 3.828125 -0.484375 L 3.828125 -9.125 L 0.953125 -9.125 Z M 0.953125 -0.484375 \"/>\n",
       "</symbol>\n",
       "<symbol overflow=\"visible\" id=\"glyph3-1\">\n",
       "<path style=\"stroke:none;\" d=\"M 2.53125 -8.8125 L 2.53125 -5.125 L 8.046875 -5.125 L 8.046875 -4.015625 L 2.53125 -4.015625 L 2.53125 0 L 1.1875 0 L 1.1875 -9.90625 L 8.21875 -9.90625 L 8.21875 -8.8125 Z M 2.53125 -8.8125 \"/>\n",
       "</symbol>\n",
       "<symbol overflow=\"visible\" id=\"glyph3-2\">\n",
       "<path style=\"stroke:none;\" d=\"M 0.96875 -9.234375 L 0.96875 -10.4375 L 2.234375 -10.4375 L 2.234375 -9.234375 Z M 0.96875 0 L 0.96875 -7.609375 L 2.234375 -7.609375 L 2.234375 0 Z M 0.96875 0 \"/>\n",
       "</symbol>\n",
       "<symbol overflow=\"visible\" id=\"glyph3-3\">\n",
       "<path style=\"stroke:none;\" d=\"M 3.859375 2.984375 C 3.421875 2.984375 3.03125 2.9375 2.6875 2.84375 C 2.351562 2.757812 2.066406 2.632812 1.828125 2.46875 C 1.585938 2.300781 1.390625 2.101562 1.234375 1.875 C 1.085938 1.644531 0.984375 1.390625 0.921875 1.109375 L 2.1875 0.921875 C 2.28125 1.273438 2.46875 1.546875 2.75 1.734375 C 3.039062 1.929688 3.421875 2.03125 3.890625 2.03125 C 4.171875 2.03125 4.425781 1.988281 4.65625 1.90625 C 4.894531 1.820312 5.097656 1.691406 5.265625 1.515625 C 5.429688 1.347656 5.554688 1.125 5.640625 0.84375 C 5.734375 0.5625 5.78125 0.21875 5.78125 -0.1875 L 5.78125 -1.40625 L 5.765625 -1.40625 C 5.671875 -1.21875 5.554688 -1.035156 5.421875 -0.859375 C 5.285156 -0.679688 5.113281 -0.523438 4.90625 -0.390625 C 4.707031 -0.253906 4.476562 -0.144531 4.21875 -0.0625 C 3.957031 0.0195312 3.65625 0.0625 3.3125 0.0625 C 2.832031 0.0625 2.421875 -0.015625 2.078125 -0.171875 C 1.734375 -0.335938 1.453125 -0.582031 1.234375 -0.90625 C 1.015625 -1.238281 0.851562 -1.644531 0.75 -2.125 C 0.65625 -2.601562 0.609375 -3.160156 0.609375 -3.796875 C 0.609375 -4.398438 0.65625 -4.945312 0.75 -5.4375 C 0.851562 -5.925781 1.019531 -6.335938 1.25 -6.671875 C 1.476562 -7.015625 1.773438 -7.273438 2.140625 -7.453125 C 2.503906 -7.640625 2.941406 -7.734375 3.453125 -7.734375 C 3.992188 -7.734375 4.460938 -7.609375 4.859375 -7.359375 C 5.253906 -7.109375 5.5625 -6.757812 5.78125 -6.3125 L 5.796875 -6.3125 C 5.796875 -6.425781 5.796875 -6.554688 5.796875 -6.703125 C 5.804688 -6.847656 5.816406 -6.984375 5.828125 -7.109375 C 5.835938 -7.242188 5.84375 -7.359375 5.84375 -7.453125 C 5.851562 -7.546875 5.863281 -7.597656 5.875 -7.609375 L 7.078125 -7.609375 C 7.078125 -7.566406 7.070312 -7.492188 7.0625 -7.390625 C 7.0625 -7.296875 7.054688 -7.175781 7.046875 -7.03125 C 7.046875 -6.894531 7.046875 -6.738281 7.046875 -6.5625 C 7.046875 -6.394531 7.046875 -6.21875 7.046875 -6.03125 L 7.046875 -0.21875 C 7.046875 0.84375 6.78125 1.640625 6.25 2.171875 C 5.726562 2.710938 4.929688 2.984375 3.859375 2.984375 Z M 5.78125 -3.8125 C 5.78125 -4.332031 5.722656 -4.78125 5.609375 -5.15625 C 5.492188 -5.539062 5.34375 -5.851562 5.15625 -6.09375 C 4.96875 -6.332031 4.753906 -6.503906 4.515625 -6.609375 C 4.273438 -6.722656 4.023438 -6.78125 3.765625 -6.78125 C 3.441406 -6.78125 3.164062 -6.722656 2.9375 -6.609375 C 2.707031 -6.503906 2.515625 -6.328125 2.359375 -6.078125 C 2.203125 -5.835938 2.085938 -5.53125 2.015625 -5.15625 C 1.941406 -4.78125 1.90625 -4.332031 1.90625 -3.8125 C 1.90625 -3.257812 1.941406 -2.796875 2.015625 -2.421875 C 2.085938 -2.046875 2.195312 -1.742188 2.34375 -1.515625 C 2.5 -1.285156 2.691406 -1.117188 2.921875 -1.015625 C 3.148438 -0.921875 3.425781 -0.875 3.75 -0.875 C 4 -0.875 4.242188 -0.925781 4.484375 -1.03125 C 4.734375 -1.144531 4.953125 -1.316406 5.140625 -1.546875 C 5.335938 -1.785156 5.492188 -2.085938 5.609375 -2.453125 C 5.722656 -2.828125 5.78125 -3.28125 5.78125 -3.8125 Z M 5.78125 -3.8125 \"/>\n",
       "</symbol>\n",
       "<symbol overflow=\"visible\" id=\"glyph3-4\">\n",
       "<path style=\"stroke:none;\" d=\"M 2.203125 -7.609375 L 2.203125 -2.78125 C 2.203125 -2.414062 2.226562 -2.109375 2.28125 -1.859375 C 2.34375 -1.609375 2.429688 -1.40625 2.546875 -1.25 C 2.671875 -1.101562 2.832031 -1 3.03125 -0.9375 C 3.226562 -0.875 3.476562 -0.84375 3.78125 -0.84375 C 4.082031 -0.84375 4.351562 -0.894531 4.59375 -1 C 4.832031 -1.101562 5.035156 -1.253906 5.203125 -1.453125 C 5.378906 -1.648438 5.515625 -1.894531 5.609375 -2.1875 C 5.703125 -2.476562 5.75 -2.816406 5.75 -3.203125 L 5.75 -7.609375 L 7.015625 -7.609375 L 7.015625 -1.625 C 7.015625 -1.46875 7.015625 -1.300781 7.015625 -1.125 C 7.015625 -0.945312 7.015625 -0.78125 7.015625 -0.625 C 7.023438 -0.46875 7.03125 -0.332031 7.03125 -0.21875 C 7.039062 -0.101562 7.050781 -0.03125 7.0625 0 L 5.859375 0 C 5.859375 -0.0195312 5.851562 -0.0820312 5.84375 -0.1875 C 5.84375 -0.289062 5.835938 -0.410156 5.828125 -0.546875 C 5.816406 -0.679688 5.804688 -0.816406 5.796875 -0.953125 C 5.796875 -1.085938 5.796875 -1.203125 5.796875 -1.296875 L 5.78125 -1.296875 C 5.65625 -1.078125 5.519531 -0.878906 5.375 -0.703125 C 5.226562 -0.523438 5.0625 -0.375 4.875 -0.25 C 4.6875 -0.125 4.46875 -0.03125 4.21875 0.03125 C 3.96875 0.101562 3.675781 0.140625 3.34375 0.140625 C 2.925781 0.140625 2.5625 0.0859375 2.25 -0.015625 C 1.945312 -0.117188 1.695312 -0.273438 1.5 -0.484375 C 1.300781 -0.703125 1.15625 -0.976562 1.0625 -1.3125 C 0.976562 -1.65625 0.9375 -2.066406 0.9375 -2.546875 L 0.9375 -7.609375 Z M 2.203125 -7.609375 \"/>\n",
       "</symbol>\n",
       "<symbol overflow=\"visible\" id=\"glyph3-5\">\n",
       "<path style=\"stroke:none;\" d=\"M 1 0 L 1 -5.84375 C 1 -6 0.992188 -6.160156 0.984375 -6.328125 C 0.984375 -6.492188 0.984375 -6.65625 0.984375 -6.8125 C 0.984375 -6.96875 0.976562 -7.113281 0.96875 -7.25 C 0.96875 -7.382812 0.960938 -7.503906 0.953125 -7.609375 L 2.15625 -7.609375 C 2.15625 -7.503906 2.160156 -7.378906 2.171875 -7.234375 C 2.179688 -7.097656 2.1875 -6.957031 2.1875 -6.8125 C 2.195312 -6.664062 2.203125 -6.523438 2.203125 -6.390625 C 2.203125 -6.265625 2.203125 -6.15625 2.203125 -6.0625 L 2.234375 -6.0625 C 2.328125 -6.351562 2.421875 -6.601562 2.515625 -6.8125 C 2.617188 -7.019531 2.738281 -7.191406 2.875 -7.328125 C 3.007812 -7.472656 3.171875 -7.578125 3.359375 -7.640625 C 3.546875 -7.710938 3.773438 -7.75 4.046875 -7.75 C 4.148438 -7.75 4.25 -7.738281 4.34375 -7.71875 C 4.4375 -7.707031 4.507812 -7.695312 4.5625 -7.6875 L 4.5625 -6.515625 C 4.476562 -6.546875 4.378906 -6.566406 4.265625 -6.578125 C 4.148438 -6.585938 4.023438 -6.59375 3.890625 -6.59375 C 3.597656 -6.59375 3.347656 -6.523438 3.140625 -6.390625 C 2.929688 -6.265625 2.765625 -6.082031 2.640625 -5.84375 C 2.515625 -5.613281 2.421875 -5.335938 2.359375 -5.015625 C 2.296875 -4.691406 2.265625 -4.34375 2.265625 -3.96875 L 2.265625 0 Z M 1 0 \"/>\n",
       "</symbol>\n",
       "<symbol overflow=\"visible\" id=\"glyph3-6\">\n",
       "<path style=\"stroke:none;\" d=\"M 1.9375 -3.53125 C 1.9375 -3.132812 1.976562 -2.769531 2.0625 -2.4375 C 2.144531 -2.101562 2.269531 -1.8125 2.4375 -1.5625 C 2.613281 -1.320312 2.832031 -1.132812 3.09375 -1 C 3.363281 -0.875 3.6875 -0.8125 4.0625 -0.8125 C 4.613281 -0.8125 5.050781 -0.921875 5.375 -1.140625 C 5.707031 -1.359375 5.9375 -1.640625 6.0625 -1.984375 L 7.171875 -1.65625 C 7.085938 -1.445312 6.972656 -1.234375 6.828125 -1.015625 C 6.691406 -0.804688 6.503906 -0.613281 6.265625 -0.4375 C 6.023438 -0.269531 5.722656 -0.128906 5.359375 -0.015625 C 5.003906 0.0859375 4.570312 0.140625 4.0625 0.140625 C 2.9375 0.140625 2.078125 -0.191406 1.484375 -0.859375 C 0.898438 -1.535156 0.609375 -2.535156 0.609375 -3.859375 C 0.609375 -4.566406 0.695312 -5.164062 0.875 -5.65625 C 1.050781 -6.15625 1.296875 -6.5625 1.609375 -6.875 C 1.921875 -7.1875 2.28125 -7.410156 2.6875 -7.546875 C 3.101562 -7.679688 3.546875 -7.75 4.015625 -7.75 C 4.648438 -7.75 5.179688 -7.644531 5.609375 -7.4375 C 6.046875 -7.226562 6.394531 -6.941406 6.65625 -6.578125 C 6.914062 -6.222656 7.097656 -5.796875 7.203125 -5.296875 C 7.316406 -4.804688 7.375 -4.273438 7.375 -3.703125 L 7.375 -3.53125 Z M 6.0625 -4.515625 C 5.988281 -5.316406 5.78125 -5.898438 5.4375 -6.265625 C 5.101562 -6.628906 4.625 -6.8125 4 -6.8125 C 3.78125 -6.8125 3.554688 -6.773438 3.328125 -6.703125 C 3.097656 -6.640625 2.882812 -6.519531 2.6875 -6.34375 C 2.488281 -6.175781 2.320312 -5.941406 2.1875 -5.640625 C 2.050781 -5.347656 1.972656 -4.972656 1.953125 -4.515625 Z M 6.0625 -4.515625 \"/>\n",
       "</symbol>\n",
       "<symbol overflow=\"visible\" id=\"glyph3-7\">\n",
       "<path style=\"stroke:none;\" d=\"\"/>\n",
       "</symbol>\n",
       "<symbol overflow=\"visible\" id=\"glyph3-8\">\n",
       "<path style=\"stroke:none;\" d=\"M 1.09375 0 L 1.09375 -1.078125 L 3.625 -1.078125 L 3.625 -8.703125 L 1.390625 -7.109375 L 1.390625 -8.296875 L 3.734375 -9.90625 L 4.890625 -9.90625 L 4.890625 -1.078125 L 7.3125 -1.078125 L 7.3125 0 Z M 1.09375 0 \"/>\n",
       "</symbol>\n",
       "<symbol overflow=\"visible\" id=\"glyph3-9\">\n",
       "<path style=\"stroke:none;\" d=\"M 1.3125 0 L 1.3125 -1.546875 L 2.6875 -1.546875 L 2.6875 0 Z M 1.3125 0 \"/>\n",
       "</symbol>\n",
       "<symbol overflow=\"visible\" id=\"glyph3-10\">\n",
       "<path style=\"stroke:none;\" d=\"M 1.1875 0 L 1.1875 -9.90625 L 8.703125 -9.90625 L 8.703125 -8.8125 L 2.53125 -8.8125 L 2.53125 -5.640625 L 8.28125 -5.640625 L 8.28125 -4.546875 L 2.53125 -4.546875 L 2.53125 -1.09375 L 8.984375 -1.09375 L 8.984375 0 Z M 1.1875 0 \"/>\n",
       "</symbol>\n",
       "<symbol overflow=\"visible\" id=\"glyph3-11\">\n",
       "<path style=\"stroke:none;\" d=\"M 6.6875 -2.109375 C 6.6875 -1.742188 6.613281 -1.421875 6.46875 -1.140625 C 6.332031 -0.867188 6.132812 -0.632812 5.875 -0.4375 C 5.613281 -0.25 5.289062 -0.101562 4.90625 0 C 4.519531 0.09375 4.082031 0.140625 3.59375 0.140625 C 3.15625 0.140625 2.757812 0.101562 2.40625 0.03125 C 2.050781 -0.03125 1.738281 -0.132812 1.46875 -0.28125 C 1.195312 -0.4375 0.972656 -0.632812 0.796875 -0.875 C 0.617188 -1.125 0.488281 -1.425781 0.40625 -1.78125 L 1.515625 -2 C 1.628906 -1.59375 1.851562 -1.296875 2.1875 -1.109375 C 2.519531 -0.921875 2.988281 -0.828125 3.59375 -0.828125 C 3.863281 -0.828125 4.113281 -0.84375 4.34375 -0.875 C 4.570312 -0.914062 4.765625 -0.976562 4.921875 -1.0625 C 5.085938 -1.15625 5.21875 -1.28125 5.3125 -1.4375 C 5.40625 -1.59375 5.453125 -1.78125 5.453125 -2 C 5.453125 -2.226562 5.394531 -2.414062 5.28125 -2.5625 C 5.175781 -2.71875 5.023438 -2.84375 4.828125 -2.9375 C 4.640625 -3.039062 4.410156 -3.128906 4.140625 -3.203125 C 3.867188 -3.273438 3.566406 -3.351562 3.234375 -3.4375 C 2.929688 -3.519531 2.628906 -3.609375 2.328125 -3.703125 C 2.023438 -3.804688 1.753906 -3.9375 1.515625 -4.09375 C 1.273438 -4.257812 1.078125 -4.460938 0.921875 -4.703125 C 0.773438 -4.941406 0.703125 -5.238281 0.703125 -5.59375 C 0.703125 -6.289062 0.945312 -6.820312 1.4375 -7.1875 C 1.9375 -7.550781 2.660156 -7.734375 3.609375 -7.734375 C 4.453125 -7.734375 5.117188 -7.582031 5.609375 -7.28125 C 6.109375 -6.988281 6.421875 -6.515625 6.546875 -5.859375 L 5.40625 -5.71875 C 5.363281 -5.914062 5.285156 -6.082031 5.171875 -6.21875 C 5.066406 -6.351562 4.929688 -6.460938 4.765625 -6.546875 C 4.609375 -6.628906 4.429688 -6.6875 4.234375 -6.71875 C 4.035156 -6.757812 3.828125 -6.78125 3.609375 -6.78125 C 3.035156 -6.78125 2.613281 -6.691406 2.34375 -6.515625 C 2.070312 -6.335938 1.9375 -6.070312 1.9375 -5.71875 C 1.9375 -5.519531 1.984375 -5.351562 2.078125 -5.21875 C 2.179688 -5.082031 2.320312 -4.96875 2.5 -4.875 C 2.6875 -4.78125 2.90625 -4.695312 3.15625 -4.625 C 3.40625 -4.5625 3.6875 -4.492188 4 -4.421875 C 4.195312 -4.367188 4.398438 -4.3125 4.609375 -4.25 C 4.828125 -4.195312 5.035156 -4.128906 5.234375 -4.046875 C 5.429688 -3.960938 5.617188 -3.863281 5.796875 -3.75 C 5.972656 -3.644531 6.125 -3.515625 6.25 -3.359375 C 6.382812 -3.203125 6.488281 -3.019531 6.5625 -2.8125 C 6.644531 -2.613281 6.6875 -2.378906 6.6875 -2.109375 Z M 6.6875 -2.109375 \"/>\n",
       "</symbol>\n",
       "<symbol overflow=\"visible\" id=\"glyph3-12\">\n",
       "<path style=\"stroke:none;\" d=\"M 3.890625 -0.0625 C 3.703125 -0.0078125 3.507812 0.03125 3.3125 0.0625 C 3.113281 0.09375 2.878906 0.109375 2.609375 0.109375 C 1.597656 0.109375 1.09375 -0.460938 1.09375 -1.609375 L 1.09375 -6.6875 L 0.21875 -6.6875 L 0.21875 -7.609375 L 1.140625 -7.609375 L 1.515625 -9.3125 L 2.359375 -9.3125 L 2.359375 -7.609375 L 3.765625 -7.609375 L 3.765625 -6.6875 L 2.359375 -6.6875 L 2.359375 -1.890625 C 2.359375 -1.523438 2.414062 -1.265625 2.53125 -1.109375 C 2.65625 -0.960938 2.867188 -0.890625 3.171875 -0.890625 C 3.285156 -0.890625 3.398438 -0.898438 3.515625 -0.921875 C 3.628906 -0.941406 3.753906 -0.960938 3.890625 -0.984375 Z M 3.890625 -0.0625 \"/>\n",
       "</symbol>\n",
       "<symbol overflow=\"visible\" id=\"glyph3-13\">\n",
       "<path style=\"stroke:none;\" d=\"M 5.40625 0 L 5.40625 -4.828125 C 5.40625 -5.191406 5.378906 -5.5 5.328125 -5.75 C 5.285156 -6 5.207031 -6.195312 5.09375 -6.34375 C 4.988281 -6.5 4.84375 -6.609375 4.65625 -6.671875 C 4.476562 -6.742188 4.265625 -6.78125 4.015625 -6.78125 C 3.742188 -6.78125 3.5 -6.722656 3.28125 -6.609375 C 3.070312 -6.503906 2.890625 -6.351562 2.734375 -6.15625 C 2.578125 -5.957031 2.457031 -5.710938 2.375 -5.421875 C 2.300781 -5.128906 2.265625 -4.789062 2.265625 -4.40625 L 2.265625 0 L 1 0 L 1 -5.984375 C 1 -6.140625 0.992188 -6.304688 0.984375 -6.484375 C 0.984375 -6.660156 0.984375 -6.828125 0.984375 -6.984375 C 0.984375 -7.140625 0.976562 -7.273438 0.96875 -7.390625 C 0.96875 -7.503906 0.960938 -7.578125 0.953125 -7.609375 L 2.15625 -7.609375 C 2.15625 -7.585938 2.15625 -7.523438 2.15625 -7.421875 C 2.164062 -7.316406 2.171875 -7.195312 2.171875 -7.0625 C 2.179688 -6.925781 2.1875 -6.789062 2.1875 -6.65625 C 2.195312 -6.519531 2.203125 -6.40625 2.203125 -6.3125 L 2.234375 -6.3125 C 2.347656 -6.53125 2.46875 -6.726562 2.59375 -6.90625 C 2.726562 -7.082031 2.878906 -7.234375 3.046875 -7.359375 C 3.222656 -7.484375 3.425781 -7.578125 3.65625 -7.640625 C 3.882812 -7.710938 4.148438 -7.75 4.453125 -7.75 C 5.023438 -7.75 5.476562 -7.632812 5.8125 -7.40625 C 6.15625 -7.175781 6.390625 -6.8125 6.515625 -6.3125 L 6.546875 -6.3125 C 6.648438 -6.53125 6.769531 -6.726562 6.90625 -6.90625 C 7.050781 -7.082031 7.21875 -7.234375 7.40625 -7.359375 C 7.601562 -7.484375 7.816406 -7.578125 8.046875 -7.640625 C 8.285156 -7.710938 8.550781 -7.75 8.84375 -7.75 C 9.226562 -7.75 9.5625 -7.695312 9.84375 -7.59375 C 10.125 -7.488281 10.351562 -7.328125 10.53125 -7.109375 C 10.707031 -6.898438 10.835938 -6.625 10.921875 -6.28125 C 11.003906 -5.945312 11.046875 -5.546875 11.046875 -5.078125 L 11.046875 0 L 9.796875 0 L 9.796875 -4.828125 C 9.796875 -5.191406 9.769531 -5.5 9.71875 -5.75 C 9.675781 -6 9.597656 -6.195312 9.484375 -6.34375 C 9.378906 -6.5 9.238281 -6.609375 9.0625 -6.671875 C 8.882812 -6.742188 8.664062 -6.78125 8.40625 -6.78125 C 8.132812 -6.78125 7.890625 -6.726562 7.671875 -6.625 C 7.460938 -6.519531 7.28125 -6.367188 7.125 -6.171875 C 6.976562 -5.972656 6.863281 -5.726562 6.78125 -5.4375 C 6.695312 -5.144531 6.65625 -4.800781 6.65625 -4.40625 L 6.65625 0 Z M 5.40625 0 \"/>\n",
       "</symbol>\n",
       "<symbol overflow=\"visible\" id=\"glyph3-14\">\n",
       "<path style=\"stroke:none;\" d=\"M 2.90625 0.140625 C 2.144531 0.140625 1.570312 -0.0546875 1.1875 -0.453125 C 0.800781 -0.859375 0.609375 -1.414062 0.609375 -2.125 C 0.609375 -2.625 0.703125 -3.035156 0.890625 -3.359375 C 1.085938 -3.679688 1.335938 -3.929688 1.640625 -4.109375 C 1.953125 -4.296875 2.300781 -4.421875 2.6875 -4.484375 C 3.082031 -4.554688 3.484375 -4.597656 3.890625 -4.609375 L 5.609375 -4.640625 L 5.609375 -5.0625 C 5.609375 -5.375 5.570312 -5.640625 5.5 -5.859375 C 5.4375 -6.078125 5.335938 -6.253906 5.203125 -6.390625 C 5.066406 -6.523438 4.894531 -6.625 4.6875 -6.6875 C 4.488281 -6.75 4.25 -6.78125 3.96875 -6.78125 C 3.726562 -6.78125 3.507812 -6.765625 3.3125 -6.734375 C 3.113281 -6.703125 2.941406 -6.640625 2.796875 -6.546875 C 2.648438 -6.453125 2.53125 -6.328125 2.4375 -6.171875 C 2.351562 -6.015625 2.296875 -5.816406 2.265625 -5.578125 L 0.953125 -5.703125 C 0.992188 -5.992188 1.078125 -6.265625 1.203125 -6.515625 C 1.335938 -6.773438 1.523438 -6.992188 1.765625 -7.171875 C 2.015625 -7.359375 2.320312 -7.5 2.6875 -7.59375 C 3.050781 -7.695312 3.488281 -7.75 4 -7.75 C 4.957031 -7.75 5.675781 -7.53125 6.15625 -7.09375 C 6.644531 -6.65625 6.890625 -6.019531 6.890625 -5.1875 L 6.890625 -1.90625 C 6.890625 -1.53125 6.9375 -1.25 7.03125 -1.0625 C 7.132812 -0.875 7.320312 -0.78125 7.59375 -0.78125 C 7.664062 -0.78125 7.734375 -0.785156 7.796875 -0.796875 C 7.867188 -0.804688 7.941406 -0.816406 8.015625 -0.828125 L 8.015625 -0.046875 C 7.847656 -0.00390625 7.6875 0.0234375 7.53125 0.046875 C 7.375 0.0664062 7.207031 0.078125 7.03125 0.078125 C 6.789062 0.078125 6.582031 0.046875 6.40625 -0.015625 C 6.238281 -0.0859375 6.101562 -0.1875 6 -0.3125 C 5.894531 -0.4375 5.8125 -0.59375 5.75 -0.78125 C 5.695312 -0.976562 5.664062 -1.203125 5.65625 -1.453125 L 5.609375 -1.453125 C 5.472656 -1.210938 5.320312 -0.992188 5.15625 -0.796875 C 5 -0.597656 4.8125 -0.425781 4.59375 -0.28125 C 4.375 -0.144531 4.128906 -0.0390625 3.859375 0.03125 C 3.585938 0.101562 3.269531 0.140625 2.90625 0.140625 Z M 3.203125 -0.8125 C 3.609375 -0.8125 3.960938 -0.882812 4.265625 -1.03125 C 4.566406 -1.175781 4.816406 -1.363281 5.015625 -1.59375 C 5.210938 -1.820312 5.359375 -2.070312 5.453125 -2.34375 C 5.554688 -2.613281 5.609375 -2.875 5.609375 -3.125 L 5.609375 -3.75 L 4.21875 -3.734375 C 3.90625 -3.722656 3.609375 -3.695312 3.328125 -3.65625 C 3.054688 -3.625 2.8125 -3.546875 2.59375 -3.421875 C 2.382812 -3.304688 2.21875 -3.140625 2.09375 -2.921875 C 1.96875 -2.710938 1.90625 -2.441406 1.90625 -2.109375 C 1.90625 -1.691406 2.015625 -1.367188 2.234375 -1.140625 C 2.460938 -0.921875 2.785156 -0.8125 3.203125 -0.8125 Z M 3.203125 -0.8125 \"/>\n",
       "</symbol>\n",
       "<symbol overflow=\"visible\" id=\"glyph3-15\">\n",
       "<path style=\"stroke:none;\" d=\"M 5.78125 -1.21875 C 5.539062 -0.738281 5.226562 -0.390625 4.84375 -0.171875 C 4.457031 0.0351562 3.976562 0.140625 3.40625 0.140625 C 2.445312 0.140625 1.738281 -0.179688 1.28125 -0.828125 C 0.832031 -1.472656 0.609375 -2.453125 0.609375 -3.765625 C 0.609375 -6.421875 1.539062 -7.75 3.40625 -7.75 C 3.976562 -7.75 4.457031 -7.644531 4.84375 -7.4375 C 5.226562 -7.226562 5.539062 -6.890625 5.78125 -6.421875 L 5.796875 -6.421875 C 5.796875 -6.472656 5.789062 -6.546875 5.78125 -6.640625 C 5.78125 -6.742188 5.78125 -6.847656 5.78125 -6.953125 C 5.78125 -7.066406 5.78125 -7.171875 5.78125 -7.265625 C 5.78125 -7.367188 5.78125 -7.441406 5.78125 -7.484375 L 5.78125 -10.4375 L 7.046875 -10.4375 L 7.046875 -1.5625 C 7.046875 -1.382812 7.046875 -1.207031 7.046875 -1.03125 C 7.046875 -0.863281 7.046875 -0.707031 7.046875 -0.5625 C 7.054688 -0.425781 7.0625 -0.304688 7.0625 -0.203125 C 7.070312 -0.109375 7.078125 -0.0390625 7.078125 0 L 5.875 0 C 5.863281 -0.0507812 5.851562 -0.117188 5.84375 -0.203125 C 5.84375 -0.285156 5.835938 -0.382812 5.828125 -0.5 C 5.816406 -0.613281 5.804688 -0.734375 5.796875 -0.859375 C 5.796875 -0.984375 5.796875 -1.101562 5.796875 -1.21875 Z M 1.9375 -3.8125 C 1.9375 -3.289062 1.96875 -2.84375 2.03125 -2.46875 C 2.09375 -2.09375 2.195312 -1.78125 2.34375 -1.53125 C 2.488281 -1.289062 2.675781 -1.113281 2.90625 -1 C 3.132812 -0.894531 3.410156 -0.84375 3.734375 -0.84375 C 4.066406 -0.84375 4.359375 -0.894531 4.609375 -1 C 4.867188 -1.101562 5.082031 -1.273438 5.25 -1.515625 C 5.425781 -1.765625 5.554688 -2.082031 5.640625 -2.46875 C 5.734375 -2.851562 5.78125 -3.328125 5.78125 -3.890625 C 5.78125 -4.429688 5.734375 -4.890625 5.640625 -5.265625 C 5.554688 -5.640625 5.425781 -5.941406 5.25 -6.171875 C 5.070312 -6.398438 4.859375 -6.5625 4.609375 -6.65625 C 4.359375 -6.757812 4.070312 -6.8125 3.75 -6.8125 C 3.4375 -6.8125 3.164062 -6.757812 2.9375 -6.65625 C 2.71875 -6.550781 2.53125 -6.378906 2.375 -6.140625 C 2.226562 -5.898438 2.117188 -5.585938 2.046875 -5.203125 C 1.972656 -4.816406 1.9375 -4.351562 1.9375 -3.8125 Z M 1.9375 -3.8125 \"/>\n",
       "</symbol>\n",
       "<symbol overflow=\"visible\" id=\"glyph3-16\">\n",
       "<path style=\"stroke:none;\" d=\"M 1.9375 -3.84375 C 1.9375 -3.40625 1.96875 -3.003906 2.03125 -2.640625 C 2.09375 -2.273438 2.195312 -1.957031 2.34375 -1.6875 C 2.5 -1.425781 2.695312 -1.222656 2.9375 -1.078125 C 3.1875 -0.929688 3.492188 -0.859375 3.859375 -0.859375 C 4.304688 -0.859375 4.679688 -0.976562 4.984375 -1.21875 C 5.285156 -1.46875 5.472656 -1.84375 5.546875 -2.34375 L 6.828125 -2.265625 C 6.785156 -1.953125 6.691406 -1.648438 6.546875 -1.359375 C 6.410156 -1.066406 6.21875 -0.8125 5.96875 -0.59375 C 5.726562 -0.375 5.4375 -0.195312 5.09375 -0.0625 C 4.75 0.0703125 4.347656 0.140625 3.890625 0.140625 C 3.296875 0.140625 2.789062 0.0390625 2.375 -0.15625 C 1.957031 -0.363281 1.617188 -0.644531 1.359375 -1 C 1.097656 -1.351562 0.90625 -1.769531 0.78125 -2.25 C 0.664062 -2.726562 0.609375 -3.25 0.609375 -3.8125 C 0.609375 -4.320312 0.648438 -4.769531 0.734375 -5.15625 C 0.816406 -5.550781 0.9375 -5.894531 1.09375 -6.1875 C 1.25 -6.488281 1.425781 -6.738281 1.625 -6.9375 C 1.832031 -7.132812 2.054688 -7.289062 2.296875 -7.40625 C 2.546875 -7.53125 2.800781 -7.617188 3.0625 -7.671875 C 3.332031 -7.722656 3.601562 -7.75 3.875 -7.75 C 4.300781 -7.75 4.679688 -7.691406 5.015625 -7.578125 C 5.347656 -7.460938 5.632812 -7.300781 5.875 -7.09375 C 6.113281 -6.882812 6.304688 -6.640625 6.453125 -6.359375 C 6.609375 -6.085938 6.71875 -5.796875 6.78125 -5.484375 L 5.484375 -5.375 C 5.410156 -5.800781 5.238281 -6.140625 4.96875 -6.390625 C 4.707031 -6.640625 4.332031 -6.765625 3.84375 -6.765625 C 3.476562 -6.765625 3.175781 -6.703125 2.9375 -6.578125 C 2.695312 -6.460938 2.5 -6.28125 2.34375 -6.03125 C 2.195312 -5.789062 2.09375 -5.488281 2.03125 -5.125 C 1.96875 -4.757812 1.9375 -4.332031 1.9375 -3.84375 Z M 1.9375 -3.84375 \"/>\n",
       "</symbol>\n",
       "<symbol overflow=\"visible\" id=\"glyph3-17\">\n",
       "<path style=\"stroke:none;\" d=\"M 4.25 0 C 4.070312 0.457031 3.890625 0.867188 3.703125 1.234375 C 3.515625 1.609375 3.304688 1.925781 3.078125 2.1875 C 2.847656 2.445312 2.59375 2.644531 2.3125 2.78125 C 2.03125 2.914062 1.707031 2.984375 1.34375 2.984375 C 1.1875 2.984375 1.039062 2.976562 0.90625 2.96875 C 0.769531 2.96875 0.625 2.945312 0.46875 2.90625 L 0.46875 1.96875 C 0.5625 1.976562 0.660156 1.984375 0.765625 1.984375 C 0.878906 1.992188 0.976562 2 1.0625 2 C 1.4375 2 1.78125 1.859375 2.09375 1.578125 C 2.414062 1.304688 2.695312 0.867188 2.9375 0.265625 L 3.046875 -0.03125 L 0.03125 -7.609375 L 1.390625 -7.609375 L 2.984375 -3.40625 C 3.035156 -3.28125 3.097656 -3.109375 3.171875 -2.890625 C 3.242188 -2.679688 3.316406 -2.472656 3.390625 -2.265625 C 3.460938 -2.054688 3.523438 -1.863281 3.578125 -1.6875 C 3.640625 -1.519531 3.671875 -1.414062 3.671875 -1.375 C 3.691406 -1.425781 3.726562 -1.523438 3.78125 -1.671875 C 3.832031 -1.828125 3.890625 -2 3.953125 -2.1875 C 4.023438 -2.375 4.097656 -2.5625 4.171875 -2.75 C 4.242188 -2.945312 4.300781 -3.117188 4.34375 -3.265625 L 5.84375 -7.609375 L 7.171875 -7.609375 Z M 4.25 0 \"/>\n",
       "</symbol>\n",
       "<symbol overflow=\"visible\" id=\"glyph3-18\">\n",
       "<path style=\"stroke:none;\" d=\"M 4.3125 0 L 2.8125 0 L 0.046875 -7.609375 L 1.40625 -7.609375 L 3.078125 -2.65625 C 3.109375 -2.550781 3.144531 -2.425781 3.1875 -2.28125 C 3.226562 -2.132812 3.269531 -1.976562 3.3125 -1.8125 C 3.363281 -1.65625 3.410156 -1.503906 3.453125 -1.359375 C 3.492188 -1.210938 3.53125 -1.085938 3.5625 -0.984375 C 3.59375 -1.085938 3.628906 -1.210938 3.671875 -1.359375 C 3.710938 -1.503906 3.753906 -1.65625 3.796875 -1.8125 C 3.847656 -1.96875 3.898438 -2.117188 3.953125 -2.265625 C 4.003906 -2.410156 4.046875 -2.535156 4.078125 -2.640625 L 5.8125 -7.609375 L 7.15625 -7.609375 Z M 4.3125 0 \"/>\n",
       "</symbol>\n",
       "<symbol overflow=\"visible\" id=\"glyph3-19\">\n",
       "<path style=\"stroke:none;\" d=\"M 5.796875 0 L 5.796875 -4.828125 C 5.796875 -5.191406 5.769531 -5.5 5.71875 -5.75 C 5.664062 -6 5.578125 -6.195312 5.453125 -6.34375 C 5.335938 -6.5 5.175781 -6.609375 4.96875 -6.671875 C 4.769531 -6.742188 4.523438 -6.78125 4.234375 -6.78125 C 3.929688 -6.78125 3.660156 -6.722656 3.421875 -6.609375 C 3.179688 -6.503906 2.972656 -6.351562 2.796875 -6.15625 C 2.628906 -5.957031 2.5 -5.710938 2.40625 -5.421875 C 2.3125 -5.128906 2.265625 -4.789062 2.265625 -4.40625 L 2.265625 0 L 1 0 L 1 -5.984375 C 1 -6.140625 0.992188 -6.304688 0.984375 -6.484375 C 0.984375 -6.660156 0.984375 -6.828125 0.984375 -6.984375 C 0.984375 -7.140625 0.976562 -7.273438 0.96875 -7.390625 C 0.96875 -7.503906 0.960938 -7.578125 0.953125 -7.609375 L 2.15625 -7.609375 C 2.15625 -7.585938 2.15625 -7.523438 2.15625 -7.421875 C 2.164062 -7.316406 2.171875 -7.195312 2.171875 -7.0625 C 2.179688 -6.925781 2.1875 -6.789062 2.1875 -6.65625 C 2.195312 -6.519531 2.203125 -6.40625 2.203125 -6.3125 L 2.234375 -6.3125 C 2.347656 -6.53125 2.476562 -6.726562 2.625 -6.90625 C 2.769531 -7.082031 2.9375 -7.234375 3.125 -7.359375 C 3.320312 -7.484375 3.546875 -7.578125 3.796875 -7.640625 C 4.046875 -7.710938 4.332031 -7.75 4.65625 -7.75 C 5.082031 -7.75 5.445312 -7.695312 5.75 -7.59375 C 6.0625 -7.488281 6.3125 -7.328125 6.5 -7.109375 C 6.695312 -6.898438 6.84375 -6.625 6.9375 -6.28125 C 7.03125 -5.945312 7.078125 -5.546875 7.078125 -5.078125 L 7.078125 0 Z M 5.796875 0 \"/>\n",
       "</symbol>\n",
       "<symbol overflow=\"visible\" id=\"glyph3-20\">\n",
       "<path style=\"stroke:none;\" d=\"M 7.40625 -3.84375 C 7.40625 -1.1875 6.472656 0.140625 4.609375 0.140625 C 4.035156 0.140625 3.554688 0.0351562 3.171875 -0.171875 C 2.785156 -0.378906 2.472656 -0.71875 2.234375 -1.1875 L 2.21875 -1.1875 C 2.21875 -1.0625 2.210938 -0.929688 2.203125 -0.796875 C 2.203125 -0.671875 2.195312 -0.550781 2.1875 -0.4375 C 2.1875 -0.320312 2.179688 -0.222656 2.171875 -0.140625 C 2.160156 -0.0664062 2.15625 -0.0195312 2.15625 0 L 0.921875 0 C 0.929688 -0.0390625 0.9375 -0.109375 0.9375 -0.203125 C 0.945312 -0.304688 0.953125 -0.425781 0.953125 -0.5625 C 0.960938 -0.707031 0.96875 -0.863281 0.96875 -1.03125 C 0.96875 -1.207031 0.96875 -1.382812 0.96875 -1.5625 L 0.96875 -10.4375 L 2.234375 -10.4375 L 2.234375 -7.46875 C 2.234375 -7.320312 2.234375 -7.179688 2.234375 -7.046875 C 2.234375 -6.921875 2.226562 -6.8125 2.21875 -6.71875 C 2.21875 -6.601562 2.210938 -6.492188 2.203125 -6.390625 L 2.234375 -6.390625 C 2.472656 -6.878906 2.785156 -7.226562 3.171875 -7.4375 C 3.554688 -7.644531 4.035156 -7.75 4.609375 -7.75 C 5.566406 -7.75 6.269531 -7.425781 6.71875 -6.78125 C 7.175781 -6.132812 7.40625 -5.15625 7.40625 -3.84375 Z M 6.078125 -3.796875 C 6.078125 -4.328125 6.039062 -4.78125 5.96875 -5.15625 C 5.90625 -5.53125 5.800781 -5.835938 5.65625 -6.078125 C 5.507812 -6.316406 5.320312 -6.492188 5.09375 -6.609375 C 4.875 -6.722656 4.601562 -6.78125 4.28125 -6.78125 C 3.945312 -6.78125 3.648438 -6.722656 3.390625 -6.609375 C 3.140625 -6.503906 2.925781 -6.332031 2.75 -6.09375 C 2.582031 -5.851562 2.453125 -5.535156 2.359375 -5.140625 C 2.273438 -4.753906 2.234375 -4.28125 2.234375 -3.71875 C 2.234375 -3.175781 2.273438 -2.71875 2.359375 -2.34375 C 2.453125 -1.976562 2.582031 -1.675781 2.75 -1.4375 C 2.925781 -1.207031 3.140625 -1.039062 3.390625 -0.9375 C 3.648438 -0.84375 3.941406 -0.796875 4.265625 -0.796875 C 4.578125 -0.796875 4.84375 -0.847656 5.0625 -0.953125 C 5.289062 -1.066406 5.476562 -1.242188 5.625 -1.484375 C 5.78125 -1.722656 5.894531 -2.03125 5.96875 -2.40625 C 6.039062 -2.789062 6.078125 -3.253906 6.078125 -3.796875 Z M 6.078125 -3.796875 \"/>\n",
       "</symbol>\n",
       "<symbol overflow=\"visible\" id=\"glyph3-21\">\n",
       "<path style=\"stroke:none;\" d=\"M 7.40625 -3.8125 C 7.40625 -2.476562 7.113281 -1.484375 6.53125 -0.828125 C 5.945312 -0.179688 5.09375 0.140625 3.96875 0.140625 C 3.4375 0.140625 2.960938 0.0625 2.546875 -0.09375 C 2.128906 -0.257812 1.773438 -0.503906 1.484375 -0.828125 C 1.203125 -1.160156 0.984375 -1.570312 0.828125 -2.0625 C 0.679688 -2.5625 0.609375 -3.144531 0.609375 -3.8125 C 0.609375 -6.4375 1.742188 -7.75 4.015625 -7.75 C 4.609375 -7.75 5.117188 -7.664062 5.546875 -7.5 C 5.972656 -7.34375 6.320312 -7.097656 6.59375 -6.765625 C 6.875 -6.441406 7.078125 -6.03125 7.203125 -5.53125 C 7.335938 -5.039062 7.40625 -4.46875 7.40625 -3.8125 Z M 6.078125 -3.8125 C 6.078125 -4.40625 6.03125 -4.894531 5.9375 -5.28125 C 5.84375 -5.664062 5.707031 -5.972656 5.53125 -6.203125 C 5.363281 -6.429688 5.148438 -6.585938 4.890625 -6.671875 C 4.640625 -6.765625 4.351562 -6.8125 4.03125 -6.8125 C 3.707031 -6.8125 3.414062 -6.765625 3.15625 -6.671875 C 2.894531 -6.578125 2.671875 -6.410156 2.484375 -6.171875 C 2.304688 -5.941406 2.171875 -5.632812 2.078125 -5.25 C 1.984375 -4.863281 1.9375 -4.382812 1.9375 -3.8125 C 1.9375 -3.21875 1.988281 -2.726562 2.09375 -2.34375 C 2.195312 -1.957031 2.335938 -1.648438 2.515625 -1.421875 C 2.691406 -1.191406 2.90625 -1.03125 3.15625 -0.9375 C 3.40625 -0.84375 3.671875 -0.796875 3.953125 -0.796875 C 4.285156 -0.796875 4.582031 -0.835938 4.84375 -0.921875 C 5.101562 -1.015625 5.320312 -1.175781 5.5 -1.40625 C 5.6875 -1.644531 5.828125 -1.957031 5.921875 -2.34375 C 6.023438 -2.726562 6.078125 -3.21875 6.078125 -3.8125 Z M 6.078125 -3.8125 \"/>\n",
       "</symbol>\n",
       "<symbol overflow=\"visible\" id=\"glyph3-22\">\n",
       "<path style=\"stroke:none;\" d=\"M 2.546875 -6.6875 L 2.546875 0 L 1.265625 0 L 1.265625 -6.6875 L 0.203125 -6.6875 L 0.203125 -7.609375 L 1.265625 -7.609375 L 1.265625 -8.46875 C 1.265625 -8.75 1.289062 -9.003906 1.34375 -9.234375 C 1.394531 -9.472656 1.488281 -9.679688 1.625 -9.859375 C 1.769531 -10.035156 1.960938 -10.171875 2.203125 -10.265625 C 2.441406 -10.367188 2.75 -10.421875 3.125 -10.421875 C 3.28125 -10.421875 3.4375 -10.410156 3.59375 -10.390625 C 3.757812 -10.378906 3.90625 -10.363281 4.03125 -10.34375 L 4.03125 -9.375 C 3.945312 -9.382812 3.851562 -9.394531 3.75 -9.40625 C 3.644531 -9.425781 3.546875 -9.4375 3.453125 -9.4375 C 3.265625 -9.4375 3.113281 -9.410156 3 -9.359375 C 2.882812 -9.304688 2.789062 -9.226562 2.71875 -9.125 C 2.644531 -9.03125 2.597656 -8.910156 2.578125 -8.765625 C 2.554688 -8.628906 2.546875 -8.472656 2.546875 -8.296875 L 2.546875 -7.609375 L 4.03125 -7.609375 L 4.03125 -6.6875 Z M 2.546875 -6.6875 \"/>\n",
       "</symbol>\n",
       "<symbol overflow=\"visible\" id=\"glyph3-23\">\n",
       "<path style=\"stroke:none;\" d=\"M 2.234375 -6.3125 C 2.367188 -6.570312 2.519531 -6.789062 2.6875 -6.96875 C 2.851562 -7.144531 3.035156 -7.289062 3.234375 -7.40625 C 3.429688 -7.53125 3.644531 -7.617188 3.875 -7.671875 C 4.113281 -7.722656 4.375 -7.75 4.65625 -7.75 C 5.144531 -7.75 5.546875 -7.679688 5.859375 -7.546875 C 6.171875 -7.421875 6.414062 -7.238281 6.59375 -7 C 6.78125 -6.757812 6.90625 -6.472656 6.96875 -6.140625 C 7.039062 -5.816406 7.078125 -5.460938 7.078125 -5.078125 L 7.078125 0 L 5.796875 0 L 5.796875 -4.828125 C 5.796875 -5.148438 5.773438 -5.429688 5.734375 -5.671875 C 5.703125 -5.921875 5.628906 -6.125 5.515625 -6.28125 C 5.398438 -6.445312 5.238281 -6.570312 5.03125 -6.65625 C 4.832031 -6.738281 4.566406 -6.78125 4.234375 -6.78125 C 3.929688 -6.78125 3.660156 -6.722656 3.421875 -6.609375 C 3.179688 -6.503906 2.972656 -6.351562 2.796875 -6.15625 C 2.628906 -5.957031 2.5 -5.71875 2.40625 -5.4375 C 2.3125 -5.15625 2.265625 -4.835938 2.265625 -4.484375 L 2.265625 0 L 1 0 L 1 -10.4375 L 2.265625 -10.4375 L 2.265625 -7.71875 C 2.265625 -7.5625 2.257812 -7.40625 2.25 -7.25 C 2.25 -7.101562 2.242188 -6.960938 2.234375 -6.828125 C 2.234375 -6.703125 2.226562 -6.59375 2.21875 -6.5 C 2.21875 -6.40625 2.210938 -6.34375 2.203125 -6.3125 Z M 2.234375 -6.3125 \"/>\n",
       "</symbol>\n",
       "</g>\n",
       "<clipPath id=\"clip1\">\n",
       "  <path d=\"M 43.152344 23.957031 L 426.523438 23.957031 L 426.523438 397.847656 L 43.152344 397.847656 Z M 43.152344 23.957031 \"/>\n",
       "</clipPath>\n",
       "<clipPath id=\"clip2\">\n",
       "  <path d=\"M 43.152344 384 L 426.523438 384 L 426.523438 385 L 43.152344 385 Z M 43.152344 384 \"/>\n",
       "</clipPath>\n",
       "<clipPath id=\"clip3\">\n",
       "  <path d=\"M 43.152344 296 L 426.523438 296 L 426.523438 298 L 43.152344 298 Z M 43.152344 296 \"/>\n",
       "</clipPath>\n",
       "<clipPath id=\"clip4\">\n",
       "  <path d=\"M 43.152344 209 L 426.523438 209 L 426.523438 210 L 43.152344 210 Z M 43.152344 209 \"/>\n",
       "</clipPath>\n",
       "<clipPath id=\"clip5\">\n",
       "  <path d=\"M 43.152344 121 L 426.523438 121 L 426.523438 123 L 43.152344 123 Z M 43.152344 121 \"/>\n",
       "</clipPath>\n",
       "<clipPath id=\"clip6\">\n",
       "  <path d=\"M 43.152344 34 L 426.523438 34 L 426.523438 35 L 43.152344 35 Z M 43.152344 34 \"/>\n",
       "</clipPath>\n",
       "<clipPath id=\"clip7\">\n",
       "  <path d=\"M 85 23.957031 L 86 23.957031 L 86 397.847656 L 85 397.847656 Z M 85 23.957031 \"/>\n",
       "</clipPath>\n",
       "<clipPath id=\"clip8\">\n",
       "  <path d=\"M 184 23.957031 L 186 23.957031 L 186 397.847656 L 184 397.847656 Z M 184 23.957031 \"/>\n",
       "</clipPath>\n",
       "<clipPath id=\"clip9\">\n",
       "  <path d=\"M 284 23.957031 L 285 23.957031 L 285 397.847656 L 284 397.847656 Z M 284 23.957031 \"/>\n",
       "</clipPath>\n",
       "<clipPath id=\"clip10\">\n",
       "  <path d=\"M 383 23.957031 L 385 23.957031 L 385 397.847656 L 383 397.847656 Z M 383 23.957031 \"/>\n",
       "</clipPath>\n",
       "<clipPath id=\"clip11\">\n",
       "  <path d=\"M 43.152344 340 L 426.523438 340 L 426.523438 342 L 43.152344 342 Z M 43.152344 340 \"/>\n",
       "</clipPath>\n",
       "<clipPath id=\"clip12\">\n",
       "  <path d=\"M 43.152344 252 L 426.523438 252 L 426.523438 254 L 43.152344 254 Z M 43.152344 252 \"/>\n",
       "</clipPath>\n",
       "<clipPath id=\"clip13\">\n",
       "  <path d=\"M 43.152344 165 L 426.523438 165 L 426.523438 167 L 43.152344 167 Z M 43.152344 165 \"/>\n",
       "</clipPath>\n",
       "<clipPath id=\"clip14\">\n",
       "  <path d=\"M 43.152344 77 L 426.523438 77 L 426.523438 79 L 43.152344 79 Z M 43.152344 77 \"/>\n",
       "</clipPath>\n",
       "<clipPath id=\"clip15\">\n",
       "  <path d=\"M 134 23.957031 L 136 23.957031 L 136 397.847656 L 134 397.847656 Z M 134 23.957031 \"/>\n",
       "</clipPath>\n",
       "<clipPath id=\"clip16\">\n",
       "  <path d=\"M 234 23.957031 L 236 23.957031 L 236 397.847656 L 234 397.847656 Z M 234 23.957031 \"/>\n",
       "</clipPath>\n",
       "<clipPath id=\"clip17\">\n",
       "  <path d=\"M 333 23.957031 L 335 23.957031 L 335 397.847656 L 333 397.847656 Z M 333 23.957031 \"/>\n",
       "</clipPath>\n",
       "</defs>\n",
       "<g id=\"surface349\">\n",
       "<rect x=\"0\" y=\"0\" width=\"432\" height=\"432\" style=\"fill:rgb(100%,100%,100%);fill-opacity:1;stroke:none;\"/>\n",
       "<rect x=\"0\" y=\"0\" width=\"432\" height=\"432\" style=\"fill:rgb(100%,100%,100%);fill-opacity:1;stroke:none;\"/>\n",
       "<path style=\"fill:none;stroke-width:1.066978;stroke-linecap:round;stroke-linejoin:round;stroke:rgb(100%,100%,100%);stroke-opacity:1;stroke-miterlimit:10;\" d=\"M 0 432 L 432 432 L 432 0 L 0 0 Z M 0 432 \"/>\n",
       "<g clip-path=\"url(#clip1)\" clip-rule=\"nonzero\">\n",
       "<path style=\" stroke:none;fill-rule:nonzero;fill:rgb(92.156863%,92.156863%,92.156863%);fill-opacity:1;\" d=\"M 43.152344 397.847656 L 426.523438 397.847656 L 426.523438 23.957031 L 43.152344 23.957031 Z M 43.152344 397.847656 \"/>\n",
       "</g>\n",
       "<g clip-path=\"url(#clip2)\" clip-rule=\"nonzero\">\n",
       "<path style=\"fill:none;stroke-width:0.533489;stroke-linecap:butt;stroke-linejoin:round;stroke:rgb(100%,100%,100%);stroke-opacity:1;stroke-miterlimit:10;\" d=\"M 43.152344 384.628906 L 426.519531 384.628906 \"/>\n",
       "</g>\n",
       "<g clip-path=\"url(#clip3)\" clip-rule=\"nonzero\">\n",
       "<path style=\"fill:none;stroke-width:0.533489;stroke-linecap:butt;stroke-linejoin:round;stroke:rgb(100%,100%,100%);stroke-opacity:1;stroke-miterlimit:10;\" d=\"M 43.152344 297.089844 L 426.519531 297.089844 \"/>\n",
       "</g>\n",
       "<g clip-path=\"url(#clip4)\" clip-rule=\"nonzero\">\n",
       "<path style=\"fill:none;stroke-width:0.533489;stroke-linecap:butt;stroke-linejoin:round;stroke:rgb(100%,100%,100%);stroke-opacity:1;stroke-miterlimit:10;\" d=\"M 43.152344 209.546875 L 426.519531 209.546875 \"/>\n",
       "</g>\n",
       "<g clip-path=\"url(#clip5)\" clip-rule=\"nonzero\">\n",
       "<path style=\"fill:none;stroke-width:0.533489;stroke-linecap:butt;stroke-linejoin:round;stroke:rgb(100%,100%,100%);stroke-opacity:1;stroke-miterlimit:10;\" d=\"M 43.152344 122.007812 L 426.519531 122.007812 \"/>\n",
       "</g>\n",
       "<g clip-path=\"url(#clip6)\" clip-rule=\"nonzero\">\n",
       "<path style=\"fill:none;stroke-width:0.533489;stroke-linecap:butt;stroke-linejoin:round;stroke:rgb(100%,100%,100%);stroke-opacity:1;stroke-miterlimit:10;\" d=\"M 43.152344 34.46875 L 426.519531 34.46875 \"/>\n",
       "</g>\n",
       "<g clip-path=\"url(#clip7)\" clip-rule=\"nonzero\">\n",
       "<path style=\"fill:none;stroke-width:0.533489;stroke-linecap:butt;stroke-linejoin:round;stroke:rgb(100%,100%,100%);stroke-opacity:1;stroke-miterlimit:10;\" d=\"M 85.472656 397.847656 L 85.472656 23.957031 \"/>\n",
       "</g>\n",
       "<g clip-path=\"url(#clip8)\" clip-rule=\"nonzero\">\n",
       "<path style=\"fill:none;stroke-width:0.533489;stroke-linecap:butt;stroke-linejoin:round;stroke:rgb(100%,100%,100%);stroke-opacity:1;stroke-miterlimit:10;\" d=\"M 185.046875 397.847656 L 185.046875 23.957031 \"/>\n",
       "</g>\n",
       "<g clip-path=\"url(#clip9)\" clip-rule=\"nonzero\">\n",
       "<path style=\"fill:none;stroke-width:0.533489;stroke-linecap:butt;stroke-linejoin:round;stroke:rgb(100%,100%,100%);stroke-opacity:1;stroke-miterlimit:10;\" d=\"M 284.625 397.847656 L 284.625 23.957031 \"/>\n",
       "</g>\n",
       "<g clip-path=\"url(#clip10)\" clip-rule=\"nonzero\">\n",
       "<path style=\"fill:none;stroke-width:0.533489;stroke-linecap:butt;stroke-linejoin:round;stroke:rgb(100%,100%,100%);stroke-opacity:1;stroke-miterlimit:10;\" d=\"M 384.199219 397.847656 L 384.199219 23.957031 \"/>\n",
       "</g>\n",
       "<g clip-path=\"url(#clip11)\" clip-rule=\"nonzero\">\n",
       "<path style=\"fill:none;stroke-width:1.066978;stroke-linecap:butt;stroke-linejoin:round;stroke:rgb(100%,100%,100%);stroke-opacity:1;stroke-miterlimit:10;\" d=\"M 43.152344 340.859375 L 426.519531 340.859375 \"/>\n",
       "</g>\n",
       "<g clip-path=\"url(#clip12)\" clip-rule=\"nonzero\">\n",
       "<path style=\"fill:none;stroke-width:1.066978;stroke-linecap:butt;stroke-linejoin:round;stroke:rgb(100%,100%,100%);stroke-opacity:1;stroke-miterlimit:10;\" d=\"M 43.152344 253.320312 L 426.519531 253.320312 \"/>\n",
       "</g>\n",
       "<g clip-path=\"url(#clip13)\" clip-rule=\"nonzero\">\n",
       "<path style=\"fill:none;stroke-width:1.066978;stroke-linecap:butt;stroke-linejoin:round;stroke:rgb(100%,100%,100%);stroke-opacity:1;stroke-miterlimit:10;\" d=\"M 43.152344 165.777344 L 426.519531 165.777344 \"/>\n",
       "</g>\n",
       "<g clip-path=\"url(#clip14)\" clip-rule=\"nonzero\">\n",
       "<path style=\"fill:none;stroke-width:1.066978;stroke-linecap:butt;stroke-linejoin:round;stroke:rgb(100%,100%,100%);stroke-opacity:1;stroke-miterlimit:10;\" d=\"M 43.152344 78.238281 L 426.519531 78.238281 \"/>\n",
       "</g>\n",
       "<g clip-path=\"url(#clip15)\" clip-rule=\"nonzero\">\n",
       "<path style=\"fill:none;stroke-width:1.066978;stroke-linecap:butt;stroke-linejoin:round;stroke:rgb(100%,100%,100%);stroke-opacity:1;stroke-miterlimit:10;\" d=\"M 135.257812 397.847656 L 135.257812 23.957031 \"/>\n",
       "</g>\n",
       "<g clip-path=\"url(#clip16)\" clip-rule=\"nonzero\">\n",
       "<path style=\"fill:none;stroke-width:1.066978;stroke-linecap:butt;stroke-linejoin:round;stroke:rgb(100%,100%,100%);stroke-opacity:1;stroke-miterlimit:10;\" d=\"M 234.835938 397.847656 L 234.835938 23.957031 \"/>\n",
       "</g>\n",
       "<g clip-path=\"url(#clip17)\" clip-rule=\"nonzero\">\n",
       "<path style=\"fill:none;stroke-width:1.066978;stroke-linecap:butt;stroke-linejoin:round;stroke:rgb(100%,100%,100%);stroke-opacity:1;stroke-miterlimit:10;\" d=\"M 334.414062 397.847656 L 334.414062 23.957031 \"/>\n",
       "</g>\n",
       "<path style=\"fill-rule:nonzero;fill:rgb(0%,0%,0%);fill-opacity:1;stroke-width:0.708661;stroke-linecap:round;stroke-linejoin:round;stroke:rgb(0%,0%,0%);stroke-opacity:1;stroke-miterlimit:10;\" d=\"M 62.53125 380.855469 C 62.53125 383.460938 58.621094 383.460938 58.621094 380.855469 C 58.621094 378.246094 62.53125 378.246094 62.53125 380.855469 \"/>\n",
       "<path style=\"fill-rule:nonzero;fill:rgb(0%,0%,0%);fill-opacity:1;stroke-width:0.708661;stroke-linecap:round;stroke-linejoin:round;stroke:rgb(0%,0%,0%);stroke-opacity:1;stroke-miterlimit:10;\" d=\"M 87.425781 380.855469 C 87.425781 383.460938 83.515625 383.460938 83.515625 380.855469 C 83.515625 378.246094 87.425781 378.246094 87.425781 380.855469 \"/>\n",
       "<path style=\"fill-rule:nonzero;fill:rgb(0%,0%,0%);fill-opacity:1;stroke-width:0.708661;stroke-linecap:round;stroke-linejoin:round;stroke:rgb(0%,0%,0%);stroke-opacity:1;stroke-miterlimit:10;\" d=\"M 112.320312 127.839844 C 112.320312 130.445312 108.410156 130.445312 108.410156 127.839844 C 108.410156 125.230469 112.320312 125.230469 112.320312 127.839844 \"/>\n",
       "<path style=\"fill-rule:nonzero;fill:rgb(0%,0%,0%);fill-opacity:1;stroke-width:0.708661;stroke-linecap:round;stroke-linejoin:round;stroke:rgb(0%,0%,0%);stroke-opacity:1;stroke-miterlimit:10;\" d=\"M 137.214844 127.839844 C 137.214844 130.445312 133.304688 130.445312 133.304688 127.839844 C 133.304688 125.230469 137.214844 125.230469 137.214844 127.839844 \"/>\n",
       "<path style=\"fill-rule:nonzero;fill:rgb(0%,0%,0%);fill-opacity:1;stroke-width:0.708661;stroke-linecap:round;stroke-linejoin:round;stroke:rgb(0%,0%,0%);stroke-opacity:1;stroke-miterlimit:10;\" d=\"M 162.109375 40.953125 C 162.109375 43.558594 158.199219 43.558594 158.199219 40.953125 C 158.199219 38.347656 162.109375 38.347656 162.109375 40.953125 \"/>\n",
       "<path style=\"fill-rule:nonzero;fill:rgb(0%,0%,0%);fill-opacity:1;stroke-width:0.708661;stroke-linecap:round;stroke-linejoin:round;stroke:rgb(0%,0%,0%);stroke-opacity:1;stroke-miterlimit:10;\" d=\"M 187.003906 40.953125 C 187.003906 43.558594 183.09375 43.558594 183.09375 40.953125 C 183.09375 38.347656 187.003906 38.347656 187.003906 40.953125 \"/>\n",
       "<path style=\"fill-rule:nonzero;fill:rgb(0%,0%,0%);fill-opacity:1;stroke-width:0.708661;stroke-linecap:round;stroke-linejoin:round;stroke:rgb(0%,0%,0%);stroke-opacity:1;stroke-miterlimit:10;\" d=\"M 211.894531 54.503906 C 211.894531 57.109375 207.988281 57.109375 207.988281 54.503906 C 207.988281 51.898438 211.894531 51.898438 211.894531 54.503906 \"/>\n",
       "<path style=\"fill-rule:nonzero;fill:rgb(0%,0%,0%);fill-opacity:1;stroke-width:0.708661;stroke-linecap:round;stroke-linejoin:round;stroke:rgb(0%,0%,0%);stroke-opacity:1;stroke-miterlimit:10;\" d=\"M 236.789062 54.503906 C 236.789062 57.109375 232.878906 57.109375 232.878906 54.503906 C 232.878906 51.898438 236.789062 51.898438 236.789062 54.503906 \"/>\n",
       "<path style=\"fill-rule:nonzero;fill:rgb(0%,0%,0%);fill-opacity:1;stroke-width:0.708661;stroke-linecap:round;stroke-linejoin:round;stroke:rgb(0%,0%,0%);stroke-opacity:1;stroke-miterlimit:10;\" d=\"M 261.683594 54.523438 C 261.683594 57.128906 257.773438 57.128906 257.773438 54.523438 C 257.773438 51.914062 261.683594 51.914062 261.683594 54.523438 \"/>\n",
       "<path style=\"fill-rule:nonzero;fill:rgb(0%,0%,0%);fill-opacity:1;stroke-width:0.708661;stroke-linecap:round;stroke-linejoin:round;stroke:rgb(0%,0%,0%);stroke-opacity:1;stroke-miterlimit:10;\" d=\"M 286.578125 54.523438 C 286.578125 57.128906 282.667969 57.128906 282.667969 54.523438 C 282.667969 51.914062 286.578125 51.914062 286.578125 54.523438 \"/>\n",
       "<path style=\"fill-rule:nonzero;fill:rgb(0%,0%,0%);fill-opacity:1;stroke-width:0.708661;stroke-linecap:round;stroke-linejoin:round;stroke:rgb(0%,0%,0%);stroke-opacity:1;stroke-miterlimit:10;\" d=\"M 311.472656 52.59375 C 311.472656 55.203125 307.5625 55.203125 307.5625 52.59375 C 307.5625 49.988281 311.472656 49.988281 311.472656 52.59375 \"/>\n",
       "<path style=\"fill-rule:nonzero;fill:rgb(0%,0%,0%);fill-opacity:1;stroke-width:0.708661;stroke-linecap:round;stroke-linejoin:round;stroke:rgb(0%,0%,0%);stroke-opacity:1;stroke-miterlimit:10;\" d=\"M 336.367188 52.59375 C 336.367188 55.203125 332.457031 55.203125 332.457031 52.59375 C 332.457031 49.988281 336.367188 49.988281 336.367188 52.59375 \"/>\n",
       "<path style=\"fill-rule:nonzero;fill:rgb(0%,0%,0%);fill-opacity:1;stroke-width:0.708661;stroke-linecap:round;stroke-linejoin:round;stroke:rgb(0%,0%,0%);stroke-opacity:1;stroke-miterlimit:10;\" d=\"M 361.261719 83.511719 C 361.261719 86.117188 357.351562 86.117188 357.351562 83.511719 C 357.351562 80.902344 361.261719 80.902344 361.261719 83.511719 \"/>\n",
       "<path style=\"fill-rule:nonzero;fill:rgb(0%,0%,0%);fill-opacity:1;stroke-width:0.708661;stroke-linecap:round;stroke-linejoin:round;stroke:rgb(0%,0%,0%);stroke-opacity:1;stroke-miterlimit:10;\" d=\"M 386.15625 83.511719 C 386.15625 86.117188 382.246094 86.117188 382.246094 83.511719 C 382.246094 80.902344 386.15625 80.902344 386.15625 83.511719 \"/>\n",
       "<path style=\"fill-rule:nonzero;fill:rgb(0%,0%,0%);fill-opacity:1;stroke-width:0.708661;stroke-linecap:round;stroke-linejoin:round;stroke:rgb(0%,0%,0%);stroke-opacity:1;stroke-miterlimit:10;\" d=\"M 411.050781 75.769531 C 411.050781 78.375 407.140625 78.375 407.140625 75.769531 C 407.140625 73.164062 411.050781 73.164062 411.050781 75.769531 \"/>\n",
       "<path style=\"fill:none;stroke-width:1.066978;stroke-linecap:butt;stroke-linejoin:round;stroke:rgb(0%,0%,0%);stroke-opacity:1;stroke-miterlimit:10;\" d=\"M 60.578125 380.855469 L 85.472656 380.855469 L 110.363281 127.839844 L 135.257812 127.839844 L 160.152344 40.953125 L 185.046875 40.953125 L 209.941406 54.503906 L 234.835938 54.503906 L 259.730469 54.523438 L 284.625 54.523438 L 309.519531 52.59375 L 334.414062 52.59375 L 359.304688 83.511719 L 384.199219 83.511719 L 409.09375 75.769531 \"/>\n",
       "<g style=\"fill:rgb(30.196078%,30.196078%,30.196078%);fill-opacity:1;\">\n",
       "  <use xlink:href=\"#glyph0-1\" x=\"20.21875\" y=\"344.048828\"/>\n",
       "  <use xlink:href=\"#glyph0-2\" x=\"25.21875\" y=\"344.048828\"/>\n",
       "  <use xlink:href=\"#glyph0-3\" x=\"28.21875\" y=\"344.048828\"/>\n",
       "  <use xlink:href=\"#glyph0-4\" x=\"33.21875\" y=\"344.048828\"/>\n",
       "</g>\n",
       "<g style=\"fill:rgb(30.196078%,30.196078%,30.196078%);fill-opacity:1;\">\n",
       "  <use xlink:href=\"#glyph0-1\" x=\"20.21875\" y=\"256.509766\"/>\n",
       "  <use xlink:href=\"#glyph0-2\" x=\"25.21875\" y=\"256.509766\"/>\n",
       "  <use xlink:href=\"#glyph0-3\" x=\"28.21875\" y=\"256.509766\"/>\n",
       "  <use xlink:href=\"#glyph0-5\" x=\"33.21875\" y=\"256.509766\"/>\n",
       "</g>\n",
       "<g style=\"fill:rgb(30.196078%,30.196078%,30.196078%);fill-opacity:1;\">\n",
       "  <use xlink:href=\"#glyph0-1\" x=\"20.21875\" y=\"168.966797\"/>\n",
       "  <use xlink:href=\"#glyph0-2\" x=\"25.21875\" y=\"168.966797\"/>\n",
       "  <use xlink:href=\"#glyph0-3\" x=\"28.21875\" y=\"168.966797\"/>\n",
       "  <use xlink:href=\"#glyph0-6\" x=\"33.21875\" y=\"168.966797\"/>\n",
       "</g>\n",
       "<g style=\"fill:rgb(30.196078%,30.196078%,30.196078%);fill-opacity:1;\">\n",
       "  <use xlink:href=\"#glyph0-1\" x=\"20.21875\" y=\"81.427734\"/>\n",
       "  <use xlink:href=\"#glyph0-2\" x=\"25.21875\" y=\"81.427734\"/>\n",
       "  <use xlink:href=\"#glyph0-3\" x=\"28.21875\" y=\"81.427734\"/>\n",
       "  <use xlink:href=\"#glyph0-7\" x=\"33.21875\" y=\"81.427734\"/>\n",
       "</g>\n",
       "<path style=\"fill:none;stroke-width:1.066978;stroke-linecap:butt;stroke-linejoin:round;stroke:rgb(20%,20%,20%);stroke-opacity:1;stroke-miterlimit:10;\" d=\"M 40.410156 340.859375 L 43.152344 340.859375 \"/>\n",
       "<path style=\"fill:none;stroke-width:1.066978;stroke-linecap:butt;stroke-linejoin:round;stroke:rgb(20%,20%,20%);stroke-opacity:1;stroke-miterlimit:10;\" d=\"M 40.410156 253.320312 L 43.152344 253.320312 \"/>\n",
       "<path style=\"fill:none;stroke-width:1.066978;stroke-linecap:butt;stroke-linejoin:round;stroke:rgb(20%,20%,20%);stroke-opacity:1;stroke-miterlimit:10;\" d=\"M 40.410156 165.777344 L 43.152344 165.777344 \"/>\n",
       "<path style=\"fill:none;stroke-width:1.066978;stroke-linecap:butt;stroke-linejoin:round;stroke:rgb(20%,20%,20%);stroke-opacity:1;stroke-miterlimit:10;\" d=\"M 40.410156 78.238281 L 43.152344 78.238281 \"/>\n",
       "<path style=\"fill:none;stroke-width:1.066978;stroke-linecap:butt;stroke-linejoin:round;stroke:rgb(20%,20%,20%);stroke-opacity:1;stroke-miterlimit:10;\" d=\"M 135.257812 400.589844 L 135.257812 397.847656 \"/>\n",
       "<path style=\"fill:none;stroke-width:1.066978;stroke-linecap:butt;stroke-linejoin:round;stroke:rgb(20%,20%,20%);stroke-opacity:1;stroke-miterlimit:10;\" d=\"M 234.835938 400.589844 L 234.835938 397.847656 \"/>\n",
       "<path style=\"fill:none;stroke-width:1.066978;stroke-linecap:butt;stroke-linejoin:round;stroke:rgb(20%,20%,20%);stroke-opacity:1;stroke-miterlimit:10;\" d=\"M 334.414062 400.589844 L 334.414062 397.847656 \"/>\n",
       "<g style=\"fill:rgb(30.196078%,30.196078%,30.196078%);fill-opacity:1;\">\n",
       "  <use xlink:href=\"#glyph0-7\" x=\"132.757812\" y=\"409.470703\"/>\n",
       "</g>\n",
       "<g style=\"fill:rgb(30.196078%,30.196078%,30.196078%);fill-opacity:1;\">\n",
       "  <use xlink:href=\"#glyph0-3\" x=\"232.335938\" y=\"409.470703\"/>\n",
       "</g>\n",
       "<g style=\"fill:rgb(30.196078%,30.196078%,30.196078%);fill-opacity:1;\">\n",
       "  <use xlink:href=\"#glyph0-4\" x=\"329.414062\" y=\"409.470703\"/>\n",
       "  <use xlink:href=\"#glyph0-5\" x=\"334.414062\" y=\"409.470703\"/>\n",
       "</g>\n",
       "<g style=\"fill:rgb(0%,0%,0%);fill-opacity:1;\">\n",
       "  <use xlink:href=\"#glyph1-1\" x=\"206.335938\" y=\"423.382812\"/>\n",
       "  <use xlink:href=\"#glyph1-2\" x=\"215.335938\" y=\"423.382812\"/>\n",
       "  <use xlink:href=\"#glyph1-3\" x=\"222.335938\" y=\"423.382812\"/>\n",
       "  <use xlink:href=\"#glyph1-4\" x=\"225.335938\" y=\"423.382812\"/>\n",
       "  <use xlink:href=\"#glyph1-5\" x=\"232.335938\" y=\"423.382812\"/>\n",
       "  <use xlink:href=\"#glyph1-6\" x=\"239.335938\" y=\"423.382812\"/>\n",
       "  <use xlink:href=\"#glyph1-7\" x=\"246.335938\" y=\"423.382812\"/>\n",
       "  <use xlink:href=\"#glyph1-8\" x=\"253.335938\" y=\"423.382812\"/>\n",
       "  <use xlink:href=\"#glyph1-9\" x=\"257.335938\" y=\"423.382812\"/>\n",
       "</g>\n",
       "<g style=\"fill:rgb(0%,0%,0%);fill-opacity:1;\">\n",
       "  <use xlink:href=\"#glyph2-1\" x=\"14.34375\" y=\"260.902344\"/>\n",
       "  <use xlink:href=\"#glyph2-2\" x=\"14.34375\" y=\"252.902344\"/>\n",
       "  <use xlink:href=\"#glyph2-2\" x=\"14.34375\" y=\"246.902344\"/>\n",
       "  <use xlink:href=\"#glyph2-3\" x=\"14.34375\" y=\"240.902344\"/>\n",
       "  <use xlink:href=\"#glyph2-4\" x=\"14.34375\" y=\"233.902344\"/>\n",
       "  <use xlink:href=\"#glyph2-5\" x=\"14.34375\" y=\"229.902344\"/>\n",
       "  <use xlink:href=\"#glyph2-2\" x=\"14.34375\" y=\"222.902344\"/>\n",
       "  <use xlink:href=\"#glyph2-6\" x=\"14.34375\" y=\"216.902344\"/>\n",
       "  <use xlink:href=\"#glyph2-7\" x=\"14.34375\" y=\"210.902344\"/>\n",
       "  <use xlink:href=\"#glyph2-8\" x=\"14.34375\" y=\"207.902344\"/>\n",
       "  <use xlink:href=\"#glyph2-9\" x=\"14.34375\" y=\"199.902344\"/>\n",
       "  <use xlink:href=\"#glyph2-10\" x=\"14.34375\" y=\"193.902344\"/>\n",
       "  <use xlink:href=\"#glyph2-11\" x=\"14.34375\" y=\"190.902344\"/>\n",
       "  <use xlink:href=\"#glyph2-12\" x=\"14.34375\" y=\"187.902344\"/>\n",
       "  <use xlink:href=\"#glyph2-5\" x=\"14.34375\" y=\"177.902344\"/>\n",
       "  <use xlink:href=\"#glyph2-10\" x=\"14.34375\" y=\"170.902344\"/>\n",
       "  <use xlink:href=\"#glyph2-13\" x=\"14.34375\" y=\"167.902344\"/>\n",
       "</g>\n",
       "<g style=\"fill:rgb(0%,0%,0%);fill-opacity:1;\">\n",
       "  <use xlink:href=\"#glyph3-1\" x=\"43.152344\" y=\"14.515625\"/>\n",
       "  <use xlink:href=\"#glyph3-2\" x=\"52.152344\" y=\"14.515625\"/>\n",
       "  <use xlink:href=\"#glyph3-3\" x=\"55.152344\" y=\"14.515625\"/>\n",
       "  <use xlink:href=\"#glyph3-4\" x=\"63.152344\" y=\"14.515625\"/>\n",
       "  <use xlink:href=\"#glyph3-5\" x=\"71.152344\" y=\"14.515625\"/>\n",
       "  <use xlink:href=\"#glyph3-6\" x=\"76.152344\" y=\"14.515625\"/>\n",
       "  <use xlink:href=\"#glyph3-7\" x=\"84.152344\" y=\"14.515625\"/>\n",
       "  <use xlink:href=\"#glyph3-8\" x=\"88.152344\" y=\"14.515625\"/>\n",
       "  <use xlink:href=\"#glyph3-9\" x=\"96.152344\" y=\"14.515625\"/>\n",
       "  <use xlink:href=\"#glyph3-7\" x=\"100.152344\" y=\"14.515625\"/>\n",
       "  <use xlink:href=\"#glyph3-10\" x=\"104.152344\" y=\"14.515625\"/>\n",
       "  <use xlink:href=\"#glyph3-11\" x=\"114.152344\" y=\"14.515625\"/>\n",
       "  <use xlink:href=\"#glyph3-12\" x=\"121.152344\" y=\"14.515625\"/>\n",
       "  <use xlink:href=\"#glyph3-2\" x=\"125.152344\" y=\"14.515625\"/>\n",
       "  <use xlink:href=\"#glyph3-13\" x=\"128.152344\" y=\"14.515625\"/>\n",
       "  <use xlink:href=\"#glyph3-14\" x=\"140.152344\" y=\"14.515625\"/>\n",
       "  <use xlink:href=\"#glyph3-12\" x=\"148.152344\" y=\"14.515625\"/>\n",
       "  <use xlink:href=\"#glyph3-6\" x=\"152.152344\" y=\"14.515625\"/>\n",
       "  <use xlink:href=\"#glyph3-15\" x=\"160.152344\" y=\"14.515625\"/>\n",
       "  <use xlink:href=\"#glyph3-7\" x=\"168.152344\" y=\"14.515625\"/>\n",
       "  <use xlink:href=\"#glyph3-14\" x=\"172.152344\" y=\"14.515625\"/>\n",
       "  <use xlink:href=\"#glyph3-16\" x=\"180.152344\" y=\"14.515625\"/>\n",
       "  <use xlink:href=\"#glyph3-16\" x=\"187.152344\" y=\"14.515625\"/>\n",
       "  <use xlink:href=\"#glyph3-4\" x=\"194.152344\" y=\"14.515625\"/>\n",
       "  <use xlink:href=\"#glyph3-5\" x=\"202.152344\" y=\"14.515625\"/>\n",
       "  <use xlink:href=\"#glyph3-14\" x=\"207.152344\" y=\"14.515625\"/>\n",
       "  <use xlink:href=\"#glyph3-16\" x=\"215.152344\" y=\"14.515625\"/>\n",
       "  <use xlink:href=\"#glyph3-17\" x=\"222.152344\" y=\"14.515625\"/>\n",
       "  <use xlink:href=\"#glyph3-7\" x=\"229.152344\" y=\"14.515625\"/>\n",
       "  <use xlink:href=\"#glyph3-18\" x=\"233.152344\" y=\"14.515625\"/>\n",
       "  <use xlink:href=\"#glyph3-6\" x=\"240.152344\" y=\"14.515625\"/>\n",
       "  <use xlink:href=\"#glyph3-5\" x=\"248.152344\" y=\"14.515625\"/>\n",
       "  <use xlink:href=\"#glyph3-11\" x=\"253.152344\" y=\"14.515625\"/>\n",
       "  <use xlink:href=\"#glyph3-4\" x=\"260.152344\" y=\"14.515625\"/>\n",
       "  <use xlink:href=\"#glyph3-11\" x=\"268.152344\" y=\"14.515625\"/>\n",
       "  <use xlink:href=\"#glyph3-7\" x=\"275.152344\" y=\"14.515625\"/>\n",
       "  <use xlink:href=\"#glyph3-19\" x=\"279.152344\" y=\"14.515625\"/>\n",
       "  <use xlink:href=\"#glyph3-4\" x=\"287.152344\" y=\"14.515625\"/>\n",
       "  <use xlink:href=\"#glyph3-13\" x=\"295.152344\" y=\"14.515625\"/>\n",
       "  <use xlink:href=\"#glyph3-20\" x=\"307.152344\" y=\"14.515625\"/>\n",
       "  <use xlink:href=\"#glyph3-6\" x=\"315.152344\" y=\"14.515625\"/>\n",
       "  <use xlink:href=\"#glyph3-5\" x=\"323.152344\" y=\"14.515625\"/>\n",
       "  <use xlink:href=\"#glyph3-7\" x=\"328.152344\" y=\"14.515625\"/>\n",
       "  <use xlink:href=\"#glyph3-21\" x=\"332.152344\" y=\"14.515625\"/>\n",
       "  <use xlink:href=\"#glyph3-22\" x=\"340.152344\" y=\"14.515625\"/>\n",
       "  <use xlink:href=\"#glyph3-7\" x=\"344.152344\" y=\"14.515625\"/>\n",
       "  <use xlink:href=\"#glyph3-19\" x=\"348.152344\" y=\"14.515625\"/>\n",
       "  <use xlink:href=\"#glyph3-6\" x=\"356.152344\" y=\"14.515625\"/>\n",
       "  <use xlink:href=\"#glyph3-2\" x=\"364.152344\" y=\"14.515625\"/>\n",
       "  <use xlink:href=\"#glyph3-3\" x=\"367.152344\" y=\"14.515625\"/>\n",
       "  <use xlink:href=\"#glyph3-23\" x=\"375.152344\" y=\"14.515625\"/>\n",
       "  <use xlink:href=\"#glyph3-20\" x=\"383.152344\" y=\"14.515625\"/>\n",
       "  <use xlink:href=\"#glyph3-21\" x=\"391.152344\" y=\"14.515625\"/>\n",
       "  <use xlink:href=\"#glyph3-5\" x=\"399.152344\" y=\"14.515625\"/>\n",
       "  <use xlink:href=\"#glyph3-11\" x=\"404.152344\" y=\"14.515625\"/>\n",
       "  <use xlink:href=\"#glyph3-7\" x=\"411.152344\" y=\"14.515625\"/>\n",
       "  <use xlink:href=\"#glyph3-22\" x=\"415.152344\" y=\"14.515625\"/>\n",
       "  <use xlink:href=\"#glyph3-21\" x=\"419.152344\" y=\"14.515625\"/>\n",
       "  <use xlink:href=\"#glyph3-5\" x=\"427.152344\" y=\"14.515625\"/>\n",
       "  <use xlink:href=\"#glyph3-7\" x=\"432.152344\" y=\"14.515625\"/>\n",
       "  <use xlink:href=\"#glyph3-12\" x=\"436.152344\" y=\"14.515625\"/>\n",
       "  <use xlink:href=\"#glyph3-23\" x=\"440.152344\" y=\"14.515625\"/>\n",
       "  <use xlink:href=\"#glyph3-6\" x=\"448.152344\" y=\"14.515625\"/>\n",
       "  <use xlink:href=\"#glyph3-7\" x=\"456.152344\" y=\"14.515625\"/>\n",
       "  <use xlink:href=\"#glyph3-12\" x=\"460.152344\" y=\"14.515625\"/>\n",
       "  <use xlink:href=\"#glyph3-5\" x=\"464.152344\" y=\"14.515625\"/>\n",
       "  <use xlink:href=\"#glyph3-14\" x=\"469.152344\" y=\"14.515625\"/>\n",
       "  <use xlink:href=\"#glyph3-2\" x=\"477.152344\" y=\"14.515625\"/>\n",
       "  <use xlink:href=\"#glyph3-19\" x=\"480.152344\" y=\"14.515625\"/>\n",
       "  <use xlink:href=\"#glyph3-2\" x=\"488.152344\" y=\"14.515625\"/>\n",
       "  <use xlink:href=\"#glyph3-19\" x=\"491.152344\" y=\"14.515625\"/>\n",
       "  <use xlink:href=\"#glyph3-3\" x=\"499.152344\" y=\"14.515625\"/>\n",
       "  <use xlink:href=\"#glyph3-7\" x=\"507.152344\" y=\"14.515625\"/>\n",
       "  <use xlink:href=\"#glyph3-15\" x=\"511.152344\" y=\"14.515625\"/>\n",
       "  <use xlink:href=\"#glyph3-14\" x=\"519.152344\" y=\"14.515625\"/>\n",
       "  <use xlink:href=\"#glyph3-12\" x=\"527.152344\" y=\"14.515625\"/>\n",
       "  <use xlink:href=\"#glyph3-14\" x=\"531.152344\" y=\"14.515625\"/>\n",
       "</g>\n",
       "</g>\n",
       "</svg>\n"
      ],
      "text/plain": [
       "plot without title"
      ]
     },
     "metadata": {
      "application/pdf": {
       "height": 360,
       "width": 360
      },
      "image/jpeg": {
       "height": 360,
       "width": 360
      },
      "image/png": {
       "height": 360,
       "width": 360
      },
      "image/svg+xml": {
       "height": 360,
       "isolated": true,
       "width": 360
      }
     },
     "output_type": "display_data"
    }
   ],
   "source": [
    "set.seed(1234) \n",
    "\n",
    "options(repr.plot.height = 6, repr.plot.width = 6)\n",
    "\n",
    "recipe <- recipe(koi_disposition ~ ., data = training_data) |>\n",
    "          step_rm(koi_score) |>\n",
    "          step_scale(all_predictors()) |>\n",
    "          step_center(all_predictors())  \n",
    "\n",
    "knn_tune <- nearest_neighbor(weight_func = \"rectangular\", neighbors = tune()) |>\n",
    "           set_engine(\"kknn\") |>\n",
    "           set_mode(\"classification\")\n",
    "\n",
    "vfold <- vfold_cv(training_data, v = 5, strata = koi_disposition)\n",
    "\n",
    "k_vals <- tibble(neighbors = seq(from = 1, to = 15, by = 1))\n",
    "\n",
    "knn_fit <- workflow() |>\n",
    "          add_recipe(recipe) |>\n",
    "          add_model(knn_tune) |>\n",
    "          tune_grid(resamples = vfold, grid = k_vals) |>\n",
    "          collect_metrics()\n",
    "      \n",
    "accuracies <- knn_fit |> \n",
    "            filter(.metric == \"accuracy\")\n",
    "\n",
    "cross_val_plot <- ggplot(accuracies, aes(x = neighbors, y = mean)) +\n",
    "                  geom_point() +\n",
    "                  geom_line() +\n",
    "                  labs(x = \"Neighbors\", y = \"Accuracy Estimate\") + \n",
    "                  ggtitle(\"Figure 1. Estimated accuracy versus number of neighbors for the training data\") +\n",
    "                  theme(text = element_text(size = 12))\n",
    "\n",
    "cross_val_plot"
   ]
  },
  {
   "cell_type": "code",
   "execution_count": 20,
   "id": "5a3fa8b0-deba-44ab-85a5-e3466b20960a",
   "metadata": {
    "tags": []
   },
   "outputs": [
    {
     "name": "stdout",
     "output_type": "stream",
     "text": [
      "\n",
      "↓ Table 8. Accuracies of predicting the testing data ↓\n"
     ]
    },
    {
     "data": {
      "text/html": [
       "<table class=\"dataframe\">\n",
       "<caption>A tibble: 2 × 3</caption>\n",
       "<thead>\n",
       "\t<tr><th scope=col>.metric</th><th scope=col>.estimator</th><th scope=col>.estimate</th></tr>\n",
       "\t<tr><th scope=col>&lt;chr&gt;</th><th scope=col>&lt;chr&gt;</th><th scope=col>&lt;dbl&gt;</th></tr>\n",
       "</thead>\n",
       "<tbody>\n",
       "\t<tr><td>accuracy</td><td>multiclass</td><td>0.8538360</td></tr>\n",
       "\t<tr><td>kap     </td><td>multiclass</td><td>0.6885618</td></tr>\n",
       "</tbody>\n",
       "</table>\n"
      ],
      "text/latex": [
       "A tibble: 2 × 3\n",
       "\\begin{tabular}{lll}\n",
       " .metric & .estimator & .estimate\\\\\n",
       " <chr> & <chr> & <dbl>\\\\\n",
       "\\hline\n",
       "\t accuracy & multiclass & 0.8538360\\\\\n",
       "\t kap      & multiclass & 0.6885618\\\\\n",
       "\\end{tabular}\n"
      ],
      "text/markdown": [
       "\n",
       "A tibble: 2 × 3\n",
       "\n",
       "| .metric &lt;chr&gt; | .estimator &lt;chr&gt; | .estimate &lt;dbl&gt; |\n",
       "|---|---|---|\n",
       "| accuracy | multiclass | 0.8538360 |\n",
       "| kap      | multiclass | 0.6885618 |\n",
       "\n"
      ],
      "text/plain": [
       "  .metric  .estimator .estimate\n",
       "1 accuracy multiclass 0.8538360\n",
       "2 kap      multiclass 0.6885618"
      ]
     },
     "metadata": {},
     "output_type": "display_data"
    }
   ],
   "source": [
    "exo_spec <- nearest_neighbor(weight_func = \"rectangular\", neighbors = 6)|>\n",
    "          set_engine(\"kknn\") |>\n",
    "          set_mode(\"classification\")\n",
    "\n",
    "exo_fit <- workflow() |>\n",
    "          add_recipe(recipe) |>\n",
    "          add_model(exo_spec) |>\n",
    "          fit(data = training_data)\n",
    "\n",
    "final_prediction <- predict(exo_fit, testing_data)|>\n",
    "                    bind_cols(testing_data)\n",
    "\n",
    "final_prediction_accuracy <- final_prediction |>\n",
    "                            metrics(truth=koi_disposition,estimate=.pred_class)\n",
    "cat(\"\\n↓ Table 8. Accuracies of predicting the testing data ↓\\n\")\n",
    "\n",
    "final_prediction_accuracy"
   ]
  },
  {
   "cell_type": "markdown",
   "id": "13cf6b77-865a-4b80-a4ef-816e30ec57f8",
   "metadata": {},
   "source": [
    "**Classification analysis**\n",
    "\n",
    "After we observed relationships between our chosen predictors, we tried to solve the predictive question of accurately classifying celestial bodies as exoplanets based on the predictors selected from the Kepler exoplanet dataset.\n",
    "\n",
    "We used the K-Nearest Neighbors (KNN) algorithm for this classification analysis, with the dataset split into 75% training data and 25% testing data. This step is essential for assessing the performance and generalization capabilities of the KNN model. It allows for an unbiased evaluation and helps prevent overfitting, which is critical for developing reliable machine-learning models. Next, we created a model recipe and a specification for the training data and implemented 5-fold cross-validation to optimize the hyperparameter K. We tuned the KNN classifier with these predictors and collected the accuracy for the best K. By creating a plot with estimated accuracy versus the number of neighbors from 1 to 15, we found the best K value to be 5 or 6 (Fig. 1). The plot shows the accuracy estimates increase with K value from 1 to 6, followed by a slight decrease. Since the dataset is relatively large as shown in Table 9, choosing a large K value has its advantages, such as lower variance to avoid overfitting and reduced sensitivity to noise. However, it also introduces drawbacks, including potential loss of local detail and increased bias. The optimal K value depends on the specific characteristics of the dataset and the balance between bias and variance that is suitable for the given problem. \n",
    "\n",
    "According to the accuracy plot, we picked K = 10 for the KNN classifier model of the testing data. We used the metrics function to assess the model's performance, with the final accuracy achieved as 0.8538360, and the Kappa (kap) statistic was 0.6885618 (Table 8). The accuracy of 85.38% suggests that our classification model is performing well. This metric represents the proportion of correctly classified instances among the total instances in the testing set. In the context of our predictive question, this high accuracy indicates that the observed characteristics in the Kepler exoplanet dataset are informative and discriminatory enough to distinguish between exoplanets and other celestial bodies. The Kappa statistic measures the agreement between the predicted and actual classifications while accounting for the possibility of agreement occurring by chance. A Kappa value of 0.6885618 suggests substantial agreement beyond what would be expected by random chance. In the context of our analysis, this indicates that our classification model is accurate and robust, as it considers the possibility of random agreement and still demonstrates significant predictive power."
   ]
  },
  {
   "cell_type": "markdown",
   "id": "6701c7cb-c99f-4d30-9f08-16a9cadec806",
   "metadata": {},
   "source": [
    "## Predictor Correlation Plot"
   ]
  },
  {
   "cell_type": "code",
   "execution_count": 21,
   "id": "4a395f11-dea0-4802-98f6-126c13e6ccee",
   "metadata": {
    "tags": []
   },
   "outputs": [
    {
     "ename": "ERROR",
     "evalue": "Error in ggpairs(exoplanet_selected, columns = 2:5, ggplot2::aes(colour = koi_disposition), : could not find function \"ggpairs\"\n",
     "output_type": "error",
     "traceback": [
      "Error in ggpairs(exoplanet_selected, columns = 2:5, ggplot2::aes(colour = koi_disposition), : could not find function \"ggpairs\"\nTraceback:\n"
     ]
    }
   ],
   "source": [
    "options(repr.plot.width = 11, repr.plot.height = 11)\n",
    "predictor_plot <- ggpairs(exoplanet_selected, columns = 2:5, \n",
    "                          ggplot2::aes(colour = koi_disposition), \n",
    "                          upper = list(continuous = wrap(\"cor\", size = 4)), \n",
    "                          lower = list(continuous = wrap(\"points\", alpha = 0.6)))\n",
    "predictor_plot + theme(axis.text = element_text(size = 12), \n",
    "                       strip.text.x = element_text(size = 15), \n",
    "                       strip.text.y = element_text(size = 15)) +\n",
    "                       ggtitle(\"Figure 2. Correlation between all the predictors in the selected Exoplanet dataset\")"
   ]
  },
  {
   "cell_type": "code",
   "execution_count": 22,
   "id": "45f7b41a-8d5b-48c0-908c-4656f268db13",
   "metadata": {
    "tags": []
   },
   "outputs": [
    {
     "name": "stdout",
     "output_type": "stream",
     "text": [
      "\n",
      "↓ Table 9. Disposition Count ↓\n"
     ]
    },
    {
     "data": {
      "text/html": [
       "<table class=\"dataframe\">\n",
       "<caption>A tibble: 2 × 2</caption>\n",
       "<thead>\n",
       "\t<tr><th scope=col>koi_disposition</th><th scope=col>count</th></tr>\n",
       "\t<tr><th scope=col>&lt;fct&gt;</th><th scope=col>&lt;int&gt;</th></tr>\n",
       "</thead>\n",
       "<tbody>\n",
       "\t<tr><td>CONFIRMED    </td><td>2183</td></tr>\n",
       "\t<tr><td>NOT EXOPLANET</td><td>3862</td></tr>\n",
       "</tbody>\n",
       "</table>\n"
      ],
      "text/latex": [
       "A tibble: 2 × 2\n",
       "\\begin{tabular}{ll}\n",
       " koi\\_disposition & count\\\\\n",
       " <fct> & <int>\\\\\n",
       "\\hline\n",
       "\t CONFIRMED     & 2183\\\\\n",
       "\t NOT EXOPLANET & 3862\\\\\n",
       "\\end{tabular}\n"
      ],
      "text/markdown": [
       "\n",
       "A tibble: 2 × 2\n",
       "\n",
       "| koi_disposition &lt;fct&gt; | count &lt;int&gt; |\n",
       "|---|---|\n",
       "| CONFIRMED     | 2183 |\n",
       "| NOT EXOPLANET | 3862 |\n",
       "\n"
      ],
      "text/plain": [
       "  koi_disposition count\n",
       "1 CONFIRMED       2183 \n",
       "2 NOT EXOPLANET   3862 "
      ]
     },
     "metadata": {},
     "output_type": "display_data"
    },
    {
     "name": "stdout",
     "output_type": "stream",
     "text": [
      "\n",
      "↓ Table 10. Means of all predictors for CONFIRMED exoplanets ↓\n"
     ]
    },
    {
     "data": {
      "text/html": [
       "<table class=\"dataframe\">\n",
       "<caption>A tibble: 1 × 4</caption>\n",
       "<thead>\n",
       "\t<tr><th scope=col>koi_period</th><th scope=col>koi_depth</th><th scope=col>koi_duration</th><th scope=col>koi_impact</th></tr>\n",
       "\t<tr><th scope=col>&lt;dbl&gt;</th><th scope=col>&lt;dbl&gt;</th><th scope=col>&lt;dbl&gt;</th><th scope=col>&lt;dbl&gt;</th></tr>\n",
       "</thead>\n",
       "<tbody>\n",
       "\t<tr><td>24.86312</td><td>1096.265</td><td>4.233625</td><td>0.4253344</td></tr>\n",
       "</tbody>\n",
       "</table>\n"
      ],
      "text/latex": [
       "A tibble: 1 × 4\n",
       "\\begin{tabular}{llll}\n",
       " koi\\_period & koi\\_depth & koi\\_duration & koi\\_impact\\\\\n",
       " <dbl> & <dbl> & <dbl> & <dbl>\\\\\n",
       "\\hline\n",
       "\t 24.86312 & 1096.265 & 4.233625 & 0.4253344\\\\\n",
       "\\end{tabular}\n"
      ],
      "text/markdown": [
       "\n",
       "A tibble: 1 × 4\n",
       "\n",
       "| koi_period &lt;dbl&gt; | koi_depth &lt;dbl&gt; | koi_duration &lt;dbl&gt; | koi_impact &lt;dbl&gt; |\n",
       "|---|---|---|---|\n",
       "| 24.86312 | 1096.265 | 4.233625 | 0.4253344 |\n",
       "\n"
      ],
      "text/plain": [
       "  koi_period koi_depth koi_duration koi_impact\n",
       "1 24.86312   1096.265  4.233625     0.4253344 "
      ]
     },
     "metadata": {},
     "output_type": "display_data"
    },
    {
     "name": "stdout",
     "output_type": "stream",
     "text": [
      "\n",
      "↓ Table 11. Standard deviation of all predictors for CONFIRMED exoplanets ↓\n"
     ]
    },
    {
     "data": {
      "text/html": [
       "<table class=\"dataframe\">\n",
       "<caption>A tibble: 1 × 4</caption>\n",
       "<thead>\n",
       "\t<tr><th scope=col>koi_period</th><th scope=col>koi_depth</th><th scope=col>koi_duration</th><th scope=col>koi_impact</th></tr>\n",
       "\t<tr><th scope=col>&lt;dbl&gt;</th><th scope=col>&lt;dbl&gt;</th><th scope=col>&lt;dbl&gt;</th><th scope=col>&lt;dbl&gt;</th></tr>\n",
       "</thead>\n",
       "<tbody>\n",
       "\t<tr><td>42.64761</td><td>2581.022</td><td>2.603013</td><td>0.3313387</td></tr>\n",
       "</tbody>\n",
       "</table>\n"
      ],
      "text/latex": [
       "A tibble: 1 × 4\n",
       "\\begin{tabular}{llll}\n",
       " koi\\_period & koi\\_depth & koi\\_duration & koi\\_impact\\\\\n",
       " <dbl> & <dbl> & <dbl> & <dbl>\\\\\n",
       "\\hline\n",
       "\t 42.64761 & 2581.022 & 2.603013 & 0.3313387\\\\\n",
       "\\end{tabular}\n"
      ],
      "text/markdown": [
       "\n",
       "A tibble: 1 × 4\n",
       "\n",
       "| koi_period &lt;dbl&gt; | koi_depth &lt;dbl&gt; | koi_duration &lt;dbl&gt; | koi_impact &lt;dbl&gt; |\n",
       "|---|---|---|---|\n",
       "| 42.64761 | 2581.022 | 2.603013 | 0.3313387 |\n",
       "\n"
      ],
      "text/plain": [
       "  koi_period koi_depth koi_duration koi_impact\n",
       "1 42.64761   2581.022  2.603013     0.3313387 "
      ]
     },
     "metadata": {},
     "output_type": "display_data"
    },
    {
     "name": "stdout",
     "output_type": "stream",
     "text": [
      "\n",
      "↓ Table 12. Means of all predictors for NOT EXOPLANETS ↓\n"
     ]
    },
    {
     "data": {
      "text/html": [
       "<table class=\"dataframe\">\n",
       "<caption>A tibble: 1 × 4</caption>\n",
       "<thead>\n",
       "\t<tr><th scope=col>koi_period</th><th scope=col>koi_depth</th><th scope=col>koi_duration</th><th scope=col>koi_impact</th></tr>\n",
       "\t<tr><th scope=col>&lt;dbl&gt;</th><th scope=col>&lt;dbl&gt;</th><th scope=col>&lt;dbl&gt;</th><th scope=col>&lt;dbl&gt;</th></tr>\n",
       "</thead>\n",
       "<tbody>\n",
       "\t<tr><td>39.87195</td><td>53463.21</td><td>6.420553</td><td>0.7935036</td></tr>\n",
       "</tbody>\n",
       "</table>\n"
      ],
      "text/latex": [
       "A tibble: 1 × 4\n",
       "\\begin{tabular}{llll}\n",
       " koi\\_period & koi\\_depth & koi\\_duration & koi\\_impact\\\\\n",
       " <dbl> & <dbl> & <dbl> & <dbl>\\\\\n",
       "\\hline\n",
       "\t 39.87195 & 53463.21 & 6.420553 & 0.7935036\\\\\n",
       "\\end{tabular}\n"
      ],
      "text/markdown": [
       "\n",
       "A tibble: 1 × 4\n",
       "\n",
       "| koi_period &lt;dbl&gt; | koi_depth &lt;dbl&gt; | koi_duration &lt;dbl&gt; | koi_impact &lt;dbl&gt; |\n",
       "|---|---|---|---|\n",
       "| 39.87195 | 53463.21 | 6.420553 | 0.7935036 |\n",
       "\n"
      ],
      "text/plain": [
       "  koi_period koi_depth koi_duration koi_impact\n",
       "1 39.87195   53463.21  6.420553     0.7935036 "
      ]
     },
     "metadata": {},
     "output_type": "display_data"
    },
    {
     "name": "stdout",
     "output_type": "stream",
     "text": [
      "\n",
      "↓ Table 13. Standard deviation of all predictors for NOT EXOPLANETS ↓\n"
     ]
    },
    {
     "data": {
      "text/html": [
       "<table class=\"dataframe\">\n",
       "<caption>A tibble: 1 × 4</caption>\n",
       "<thead>\n",
       "\t<tr><th scope=col>koi_period</th><th scope=col>koi_depth</th><th scope=col>koi_duration</th><th scope=col>koi_impact</th></tr>\n",
       "\t<tr><th scope=col>&lt;dbl&gt;</th><th scope=col>&lt;dbl&gt;</th><th scope=col>&lt;dbl&gt;</th><th scope=col>&lt;dbl&gt;</th></tr>\n",
       "</thead>\n",
       "<tbody>\n",
       "\t<tr><td>101.0794</td><td>116145.5</td><td>8.28621</td><td>1.006435</td></tr>\n",
       "</tbody>\n",
       "</table>\n"
      ],
      "text/latex": [
       "A tibble: 1 × 4\n",
       "\\begin{tabular}{llll}\n",
       " koi\\_period & koi\\_depth & koi\\_duration & koi\\_impact\\\\\n",
       " <dbl> & <dbl> & <dbl> & <dbl>\\\\\n",
       "\\hline\n",
       "\t 101.0794 & 116145.5 & 8.28621 & 1.006435\\\\\n",
       "\\end{tabular}\n"
      ],
      "text/markdown": [
       "\n",
       "A tibble: 1 × 4\n",
       "\n",
       "| koi_period &lt;dbl&gt; | koi_depth &lt;dbl&gt; | koi_duration &lt;dbl&gt; | koi_impact &lt;dbl&gt; |\n",
       "|---|---|---|---|\n",
       "| 101.0794 | 116145.5 | 8.28621 | 1.006435 |\n",
       "\n"
      ],
      "text/plain": [
       "  koi_period koi_depth koi_duration koi_impact\n",
       "1 101.0794   116145.5  8.28621      1.006435  "
      ]
     },
     "metadata": {},
     "output_type": "display_data"
    }
   ],
   "source": [
    "#Summary Tables:-\n",
    "\n",
    "\n",
    "\n",
    "\n",
    "##Count the number of confirmed and not exoplanet\n",
    "\n",
    "\n",
    "\n",
    "disposition_count <- exoplanet_selected |>\n",
    "                     group_by(koi_disposition) |>\n",
    "                     summarize(count = n())\n",
    "\n",
    "cat(\"\\n↓ Table 9. Disposition Count ↓\\n\")\n",
    "\n",
    "disposition_count\n",
    "\n",
    "\n",
    "\n",
    "##Mean and SD for predictor values for confirmed\n",
    "\n",
    "\n",
    "exoplanet_filter_confirmed_mean <- exoplanet_selected |>\n",
    "                                filter(koi_disposition == \"CONFIRMED\") |>\n",
    "                                select(-koi_disposition, -koi_score) |>\n",
    "                                map_df(mean, na.rm = TRUE)\n",
    "\n",
    "\n",
    "exoplanet_filter_confirmed_sd <- exoplanet_selected |>\n",
    "                                filter(koi_disposition == \"CONFIRMED\") |>\n",
    "                                select(-koi_disposition, -koi_score) |>\n",
    "                                map_df(sd, na.rm = TRUE)\n",
    "\n",
    "\n",
    "\n",
    "cat(\"\\n↓ Table 10. Means of all predictors for CONFIRMED exoplanets ↓\\n\")\n",
    "\n",
    "exoplanet_filter_confirmed_mean\n",
    "\n",
    "cat(\"\\n↓ Table 11. Standard deviation of all predictors for CONFIRMED exoplanets ↓\\n\")\n",
    "\n",
    "exoplanet_filter_confirmed_sd\n",
    "##Mean and SD for predictor values for not exoplanet\n",
    "\n",
    "\n",
    "exoplanet_filter_not_exoplanet_mean <- exoplanet_selected |>\n",
    "                                filter(koi_disposition == \"NOT EXOPLANET\") |>\n",
    "                                select(-koi_disposition, -koi_score) |>\n",
    "                                map_df(mean, na.rm = TRUE)\n",
    "\n",
    "\n",
    "\n",
    "exoplanet_filter_not_exoplanet_sd <- exoplanet_selected |>\n",
    "                                filter(koi_disposition == \"NOT EXOPLANET\") |>\n",
    "                                select(-koi_disposition, -koi_score) |>\n",
    "                                map_df(sd, na.rm = TRUE)\n",
    "\n",
    "cat(\"\\n↓ Table 12. Means of all predictors for NOT EXOPLANETS ↓\\n\")\n",
    "\n",
    "exoplanet_filter_not_exoplanet_mean\n",
    "\n",
    "cat(\"\\n↓ Table 13. Standard deviation of all predictors for NOT EXOPLANETS ↓\\n\")\n",
    "\n",
    "exoplanet_filter_not_exoplanet_sd"
   ]
  },
  {
   "cell_type": "markdown",
   "id": "6e4a1dee-cea7-4006-afea-0678a6853051",
   "metadata": {},
   "source": [
    "## References"
   ]
  },
  {
   "cell_type": "markdown",
   "id": "af516328-2d27-487c-ac4a-16d4f20d2acb",
   "metadata": {},
   "source": [
    "Dataset: https://www.kaggle.com/datasets/nasa/kepler-exoplanet-search-results\n",
    "\n",
    "Column Explanation: https://exoplanetarchive.ipac.caltech.edu/docs/API_kepcandidate_columns.html\n"
   ]
  }
 ],
 "metadata": {
  "kernelspec": {
   "display_name": "R",
   "language": "R",
   "name": "ir"
  },
  "language_info": {
   "codemirror_mode": "r",
   "file_extension": ".r",
   "mimetype": "text/x-r-source",
   "name": "R",
   "pygments_lexer": "r",
   "version": "4.2.2"
  },
  "widgets": {
   "application/vnd.jupyter.widget-state+json": {
    "state": {},
    "version_major": 2,
    "version_minor": 0
   }
  }
 },
 "nbformat": 4,
 "nbformat_minor": 5
}
