{
 "cells": [
  {
   "cell_type": "markdown",
   "id": "9704ab68-e8ad-48e3-b8bb-91cb7db82be7",
   "metadata": {},
   "source": [
    "## Classifying Exoplanets: Exploring NASA's Kepler Space Observatory Dataset"
   ]
  },
  {
   "cell_type": "markdown",
   "id": "6e98bb8b-f8bc-4efb-a805-0d3b94196126",
   "metadata": {},
   "source": [
    "## Introduction"
   ]
  },
  {
   "cell_type": "markdown",
   "id": "b10228b4-d07b-4293-beff-d9ad31b433ee",
   "metadata": {
    "tags": []
   },
   "source": [
    "One of the most fascinating subjects in astronomical research is finding exoplanets, planets that orbit stars beyond our solar system. The Kepler Space Observatory, a NASA space telescope for finding exoplanets, has analyzed thousands of planets, especially ones that are roughly Earth-sized and within habitable zones. From 2009 to 2018, Kepler revolutionized our understanding of extrasolar systems by cross-checking previous observations of exoplanets and labeling them as confirmed planets, candidates, or false positives.\n",
    "Our primary question is: *Can we accurately classify celestial bodies as exoplanets based on their observed characteristics using the Kepler exoplanet dataset?*\n",
    "Our project will analyze the NASA Kepler exoplanet dataset. This dataset contains details about celestial objects, including their radius, transit, stellar luminosity, and other essential attributes. By analyzing this dataset, we hope to develop a predictive model that discerns exoplanets from other extrasolar entities."
   ]
  },
  {
   "cell_type": "code",
   "execution_count": 2,
   "id": "e69aab02-7920-4c96-bde2-2fc4d047aa4c",
   "metadata": {
    "tags": []
   },
   "outputs": [
    {
     "name": "stderr",
     "output_type": "stream",
     "text": [
      "── \u001b[1mAttaching packages\u001b[22m ─────────────────────────────────────── tidyverse 1.3.2 ──\n",
      "\u001b[32m✔\u001b[39m \u001b[34mggplot2\u001b[39m 3.4.2     \u001b[32m✔\u001b[39m \u001b[34mpurrr  \u001b[39m 1.0.1\n",
      "\u001b[32m✔\u001b[39m \u001b[34mtibble \u001b[39m 3.2.1     \u001b[32m✔\u001b[39m \u001b[34mdplyr  \u001b[39m 1.1.1\n",
      "\u001b[32m✔\u001b[39m \u001b[34mtidyr  \u001b[39m 1.3.0     \u001b[32m✔\u001b[39m \u001b[34mstringr\u001b[39m 1.5.0\n",
      "\u001b[32m✔\u001b[39m \u001b[34mreadr  \u001b[39m 2.1.3     \u001b[32m✔\u001b[39m \u001b[34mforcats\u001b[39m 0.5.2\n",
      "── \u001b[1mConflicts\u001b[22m ────────────────────────────────────────── tidyverse_conflicts() ──\n",
      "\u001b[31m✖\u001b[39m \u001b[34mdplyr\u001b[39m::\u001b[32mfilter()\u001b[39m masks \u001b[34mstats\u001b[39m::filter()\n",
      "\u001b[31m✖\u001b[39m \u001b[34mdplyr\u001b[39m::\u001b[32mlag()\u001b[39m    masks \u001b[34mstats\u001b[39m::lag()\n",
      "── \u001b[1mAttaching packages\u001b[22m ────────────────────────────────────── tidymodels 1.0.0 ──\n",
      "\n",
      "\u001b[32m✔\u001b[39m \u001b[34mbroom       \u001b[39m 1.0.2     \u001b[32m✔\u001b[39m \u001b[34mrsample     \u001b[39m 1.1.1\n",
      "\u001b[32m✔\u001b[39m \u001b[34mdials       \u001b[39m 1.1.0     \u001b[32m✔\u001b[39m \u001b[34mtune        \u001b[39m 1.0.1\n",
      "\u001b[32m✔\u001b[39m \u001b[34minfer       \u001b[39m 1.0.4     \u001b[32m✔\u001b[39m \u001b[34mworkflows   \u001b[39m 1.1.2\n",
      "\u001b[32m✔\u001b[39m \u001b[34mmodeldata   \u001b[39m 1.0.1     \u001b[32m✔\u001b[39m \u001b[34mworkflowsets\u001b[39m 1.0.0\n",
      "\u001b[32m✔\u001b[39m \u001b[34mparsnip     \u001b[39m 1.0.3     \u001b[32m✔\u001b[39m \u001b[34myardstick   \u001b[39m 1.1.0\n",
      "\u001b[32m✔\u001b[39m \u001b[34mrecipes     \u001b[39m 1.0.4     \n",
      "\n",
      "── \u001b[1mConflicts\u001b[22m ───────────────────────────────────────── tidymodels_conflicts() ──\n",
      "\u001b[31m✖\u001b[39m \u001b[34mscales\u001b[39m::\u001b[32mdiscard()\u001b[39m masks \u001b[34mpurrr\u001b[39m::discard()\n",
      "\u001b[31m✖\u001b[39m \u001b[34mdplyr\u001b[39m::\u001b[32mfilter()\u001b[39m   masks \u001b[34mstats\u001b[39m::filter()\n",
      "\u001b[31m✖\u001b[39m \u001b[34mrecipes\u001b[39m::\u001b[32mfixed()\u001b[39m  masks \u001b[34mstringr\u001b[39m::fixed()\n",
      "\u001b[31m✖\u001b[39m \u001b[34mdplyr\u001b[39m::\u001b[32mlag()\u001b[39m      masks \u001b[34mstats\u001b[39m::lag()\n",
      "\u001b[31m✖\u001b[39m \u001b[34myardstick\u001b[39m::\u001b[32mspec()\u001b[39m masks \u001b[34mreadr\u001b[39m::spec()\n",
      "\u001b[31m✖\u001b[39m \u001b[34mrecipes\u001b[39m::\u001b[32mstep()\u001b[39m   masks \u001b[34mstats\u001b[39m::step()\n",
      "\u001b[34m•\u001b[39m Search for functions across packages at \u001b[32mhttps://www.tidymodels.org/find/\u001b[39m\n",
      "\n"
     ]
    }
   ],
   "source": [
    "library(tidyverse)\n",
    "library(repr)\n",
    "library(tidymodels)\n",
    "options(repr.matrix.max.rows = 6)"
   ]
  },
  {
   "cell_type": "code",
   "execution_count": 3,
   "id": "da17381d-b216-433b-8c43-9126be735bfd",
   "metadata": {
    "tags": []
   },
   "outputs": [
    {
     "name": "stderr",
     "output_type": "stream",
     "text": [
      "\u001b[1mRows: \u001b[22m\u001b[34m9564\u001b[39m \u001b[1mColumns: \u001b[22m\u001b[34m50\u001b[39m\n",
      "\u001b[36m──\u001b[39m \u001b[1mColumn specification\u001b[22m \u001b[36m────────────────────────────────────────────────────────\u001b[39m\n",
      "\u001b[1mDelimiter:\u001b[22m \",\"\n",
      "\u001b[31mchr\u001b[39m  (5): kepoi_name, kepler_name, koi_disposition, koi_pdisposition, koi_tc...\n",
      "\u001b[32mdbl\u001b[39m (43): rowid, kepid, koi_score, koi_fpflag_nt, koi_fpflag_ss, koi_fpflag_...\n",
      "\u001b[33mlgl\u001b[39m  (2): koi_teq_err1, koi_teq_err2\n",
      "\n",
      "\u001b[36mℹ\u001b[39m Use `spec()` to retrieve the full column specification for this data.\n",
      "\u001b[36mℹ\u001b[39m Specify the column types or set `show_col_types = FALSE` to quiet this message.\n"
     ]
    },
    {
     "data": {
      "text/html": [
       "<table class=\"dataframe\">\n",
       "<caption>A tibble: 6 × 5</caption>\n",
       "<thead>\n",
       "\t<tr><th scope=col>koi_disposition</th><th scope=col>koi_period</th><th scope=col>koi_depth</th><th scope=col>koi_duration</th><th scope=col>koi_impact</th></tr>\n",
       "\t<tr><th scope=col>&lt;chr&gt;</th><th scope=col>&lt;dbl&gt;</th><th scope=col>&lt;dbl&gt;</th><th scope=col>&lt;dbl&gt;</th><th scope=col>&lt;dbl&gt;</th></tr>\n",
       "</thead>\n",
       "<tbody>\n",
       "\t<tr><td>CONFIRMED     </td><td> 9.488036</td><td>  615.8</td><td>2.95750</td><td>0.146</td></tr>\n",
       "\t<tr><td>CONFIRMED     </td><td>54.418383</td><td>  874.8</td><td>4.50700</td><td>0.586</td></tr>\n",
       "\t<tr><td>FALSE POSITIVE</td><td>19.899140</td><td>10829.0</td><td>1.78220</td><td>0.969</td></tr>\n",
       "\t<tr><td>FALSE POSITIVE</td><td> 1.736952</td><td> 8079.2</td><td>2.40641</td><td>1.276</td></tr>\n",
       "\t<tr><td>CONFIRMED     </td><td> 2.525592</td><td>  603.3</td><td>1.65450</td><td>0.701</td></tr>\n",
       "\t<tr><td>CONFIRMED     </td><td>11.094321</td><td> 1517.5</td><td>4.59450</td><td>0.538</td></tr>\n",
       "</tbody>\n",
       "</table>\n"
      ],
      "text/latex": [
       "A tibble: 6 × 5\n",
       "\\begin{tabular}{lllll}\n",
       " koi\\_disposition & koi\\_period & koi\\_depth & koi\\_duration & koi\\_impact\\\\\n",
       " <chr> & <dbl> & <dbl> & <dbl> & <dbl>\\\\\n",
       "\\hline\n",
       "\t CONFIRMED      &  9.488036 &   615.8 & 2.95750 & 0.146\\\\\n",
       "\t CONFIRMED      & 54.418383 &   874.8 & 4.50700 & 0.586\\\\\n",
       "\t FALSE POSITIVE & 19.899140 & 10829.0 & 1.78220 & 0.969\\\\\n",
       "\t FALSE POSITIVE &  1.736952 &  8079.2 & 2.40641 & 1.276\\\\\n",
       "\t CONFIRMED      &  2.525592 &   603.3 & 1.65450 & 0.701\\\\\n",
       "\t CONFIRMED      & 11.094321 &  1517.5 & 4.59450 & 0.538\\\\\n",
       "\\end{tabular}\n"
      ],
      "text/markdown": [
       "\n",
       "A tibble: 6 × 5\n",
       "\n",
       "| koi_disposition &lt;chr&gt; | koi_period &lt;dbl&gt; | koi_depth &lt;dbl&gt; | koi_duration &lt;dbl&gt; | koi_impact &lt;dbl&gt; |\n",
       "|---|---|---|---|---|\n",
       "| CONFIRMED      |  9.488036 |   615.8 | 2.95750 | 0.146 |\n",
       "| CONFIRMED      | 54.418383 |   874.8 | 4.50700 | 0.586 |\n",
       "| FALSE POSITIVE | 19.899140 | 10829.0 | 1.78220 | 0.969 |\n",
       "| FALSE POSITIVE |  1.736952 |  8079.2 | 2.40641 | 1.276 |\n",
       "| CONFIRMED      |  2.525592 |   603.3 | 1.65450 | 0.701 |\n",
       "| CONFIRMED      | 11.094321 |  1517.5 | 4.59450 | 0.538 |\n",
       "\n"
      ],
      "text/plain": [
       "  koi_disposition koi_period koi_depth koi_duration koi_impact\n",
       "1 CONFIRMED        9.488036    615.8   2.95750      0.146     \n",
       "2 CONFIRMED       54.418383    874.8   4.50700      0.586     \n",
       "3 FALSE POSITIVE  19.899140  10829.0   1.78220      0.969     \n",
       "4 FALSE POSITIVE   1.736952   8079.2   2.40641      1.276     \n",
       "5 CONFIRMED        2.525592    603.3   1.65450      0.701     \n",
       "6 CONFIRMED       11.094321   1517.5   4.59450      0.538     "
      ]
     },
     "metadata": {},
     "output_type": "display_data"
    }
   ],
   "source": [
    "## Reading the data \n",
    "exoplanet <- read_csv(\"https://raw.githubusercontent.com/QuwackJ/dsci-100-group-37/main/Data/cumulative.csv\")\n",
    "\n",
    "\n",
    "## Selecting for our predictors\n",
    "exoplanet_selected <- exoplanet |>\n",
    "                        select(koi_disposition, koi_period, koi_depth, koi_duration, koi_impact)\n",
    "\n",
    "\n",
    "head(exoplanet_selected)\n",
    "\n",
    "## Splitting into training and testing data\n",
    "exoplanet_split <- initial_split(exoplanet_selected, prop = 0.75, strata = koi_disposition)\n",
    "training_data <- training(exoplanet_split)   \n",
    "testing_data <- testing(exoplanet_split)"
   ]
  },
  {
   "cell_type": "markdown",
   "id": "6e4a1dee-cea7-4006-afea-0678a6853051",
   "metadata": {},
   "source": [
    "## References"
   ]
  },
  {
   "cell_type": "markdown",
   "id": "af516328-2d27-487c-ac4a-16d4f20d2acb",
   "metadata": {},
   "source": [
    "Dataset: https://www.kaggle.com/datasets/nasa/kepler-exoplanet-search-results\n",
    "\n",
    "Column Explanation: https://exoplanetarchive.ipac.caltech.edu/docs/API_kepcandidate_columns.html\n"
   ]
  }
 ],
 "metadata": {
  "kernelspec": {
   "display_name": "R",
   "language": "R",
   "name": "ir"
  },
  "language_info": {
   "codemirror_mode": "r",
   "file_extension": ".r",
   "mimetype": "text/x-r-source",
   "name": "R",
   "pygments_lexer": "r",
   "version": "4.2.2"
  }
 },
 "nbformat": 4,
 "nbformat_minor": 5
}
