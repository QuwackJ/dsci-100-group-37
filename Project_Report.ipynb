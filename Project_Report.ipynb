{
 "cells": [
  {
   "cell_type": "markdown",
   "id": "9704ab68-e8ad-48e3-b8bb-91cb7db82be7",
   "metadata": {},
   "source": [
    "## Classifying Exoplanets: Exploring NASA's Kepler Space Observatory Dataset"
   ]
  },
  {
   "cell_type": "markdown",
   "id": "6e98bb8b-f8bc-4efb-a805-0d3b94196126",
   "metadata": {},
   "source": [
    "## Introduction"
   ]
  },
  {
   "cell_type": "markdown",
   "id": "b10228b4-d07b-4293-beff-d9ad31b433ee",
   "metadata": {
    "tags": []
   },
   "source": [
    "One of the most fascinating subjects in astronomical research is finding exoplanets, planets that orbit stars beyond our solar system. The Kepler Space Observatory, a NASA space telescope for finding exoplanets, has analyzed thousands of planets, especially ones that are roughly Earth-sized and within habitable zones. From 2009 to 2018, Kepler revolutionized our understanding of extrasolar systems by cross-checking previous observations of exoplanets and labeling them as confirmed planets, candidates, or false positives.\n",
    "Our primary question is: *Can we accurately classify celestial bodies as exoplanets based on their observed characteristics using the Kepler exoplanet dataset?*\n",
    "Our project will analyze the NASA Kepler exoplanet dataset. This dataset contains details about celestial objects, including their radius, transit, stellar luminosity, and other essential attributes. By analyzing this dataset, we hope to develop a predictive classification model that discerns exoplanets from other extrasolar entities."
   ]
  },
  {
   "cell_type": "code",
   "execution_count": 4,
   "id": "ce77fc2b-71ee-49e8-b700-1b1298d62697",
   "metadata": {
    "tags": []
   },
   "outputs": [
    {
     "name": "stderr",
     "output_type": "stream",
     "text": [
      "Updating HTML index of packages in '.Library'\n",
      "\n",
      "Making 'packages.html' ...\n",
      " done\n",
      "\n",
      "Updating HTML index of packages in '.Library'\n",
      "\n",
      "Making 'packages.html' ...\n",
      " done\n",
      "\n",
      "Updating HTML index of packages in '.Library'\n",
      "\n",
      "Making 'packages.html' ...\n",
      " done\n",
      "\n"
     ]
    }
   ],
   "source": [
    "install.packages(\"GGally\")\n",
    "install.packages(\"recipes\")\n",
    "install.packages(\"kknn\")"
   ]
  },
  {
   "cell_type": "code",
   "execution_count": 5,
   "id": "e69aab02-7920-4c96-bde2-2fc4d047aa4c",
   "metadata": {
    "tags": []
   },
   "outputs": [],
   "source": [
    "library(tidyverse)\n",
    "library(tidymodels)\n",
    "library(GGally)\n",
    "library(repr)\n",
    "library(recipes)\n",
    "library(kknn)\n",
    "options(repr.matrix.max.rows = 6)"
   ]
  },
  {
   "cell_type": "markdown",
   "id": "6638b6d5-2ced-48d4-b88a-8bb4736c03c6",
   "metadata": {},
   "source": [
    "## Loading Original Data"
   ]
  },
  {
   "cell_type": "code",
   "execution_count": 6,
   "id": "da17381d-b216-433b-8c43-9126be735bfd",
   "metadata": {
    "tags": []
   },
   "outputs": [
    {
     "name": "stderr",
     "output_type": "stream",
     "text": [
      "\u001b[1mRows: \u001b[22m\u001b[34m9564\u001b[39m \u001b[1mColumns: \u001b[22m\u001b[34m50\u001b[39m\n",
      "\u001b[36m──\u001b[39m \u001b[1mColumn specification\u001b[22m \u001b[36m────────────────────────────────────────────────────────\u001b[39m\n",
      "\u001b[1mDelimiter:\u001b[22m \",\"\n",
      "\u001b[31mchr\u001b[39m  (5): kepoi_name, kepler_name, koi_disposition, koi_pdisposition, koi_tc...\n",
      "\u001b[32mdbl\u001b[39m (43): rowid, kepid, koi_score, koi_fpflag_nt, koi_fpflag_ss, koi_fpflag_...\n",
      "\u001b[33mlgl\u001b[39m  (2): koi_teq_err1, koi_teq_err2\n",
      "\n",
      "\u001b[36mℹ\u001b[39m Use `spec()` to retrieve the full column specification for this data.\n",
      "\u001b[36mℹ\u001b[39m Specify the column types or set `show_col_types = FALSE` to quiet this message.\n"
     ]
    },
    {
     "data": {
      "text/html": [
       "<table class=\"dataframe\">\n",
       "<caption>A tibble: 6 × 50</caption>\n",
       "<thead>\n",
       "\t<tr><th scope=col>rowid</th><th scope=col>kepid</th><th scope=col>kepoi_name</th><th scope=col>kepler_name</th><th scope=col>koi_disposition</th><th scope=col>koi_pdisposition</th><th scope=col>koi_score</th><th scope=col>koi_fpflag_nt</th><th scope=col>koi_fpflag_ss</th><th scope=col>koi_fpflag_co</th><th scope=col>⋯</th><th scope=col>koi_steff_err2</th><th scope=col>koi_slogg</th><th scope=col>koi_slogg_err1</th><th scope=col>koi_slogg_err2</th><th scope=col>koi_srad</th><th scope=col>koi_srad_err1</th><th scope=col>koi_srad_err2</th><th scope=col>ra</th><th scope=col>dec</th><th scope=col>koi_kepmag</th></tr>\n",
       "\t<tr><th scope=col>&lt;dbl&gt;</th><th scope=col>&lt;dbl&gt;</th><th scope=col>&lt;chr&gt;</th><th scope=col>&lt;chr&gt;</th><th scope=col>&lt;chr&gt;</th><th scope=col>&lt;chr&gt;</th><th scope=col>&lt;dbl&gt;</th><th scope=col>&lt;dbl&gt;</th><th scope=col>&lt;dbl&gt;</th><th scope=col>&lt;dbl&gt;</th><th scope=col>⋯</th><th scope=col>&lt;dbl&gt;</th><th scope=col>&lt;dbl&gt;</th><th scope=col>&lt;dbl&gt;</th><th scope=col>&lt;dbl&gt;</th><th scope=col>&lt;dbl&gt;</th><th scope=col>&lt;dbl&gt;</th><th scope=col>&lt;dbl&gt;</th><th scope=col>&lt;dbl&gt;</th><th scope=col>&lt;dbl&gt;</th><th scope=col>&lt;dbl&gt;</th></tr>\n",
       "</thead>\n",
       "<tbody>\n",
       "\t<tr><td>1</td><td>10797460</td><td>K00752.01</td><td>Kepler-227 b</td><td>CONFIRMED     </td><td>CANDIDATE     </td><td>1.000</td><td>0</td><td>0</td><td>0</td><td>⋯</td><td> -81</td><td>4.467</td><td>0.064</td><td>-0.096</td><td>0.927</td><td>0.105</td><td>-0.061</td><td>291.9342</td><td>48.14165</td><td>15.347</td></tr>\n",
       "\t<tr><td>2</td><td>10797460</td><td>K00752.02</td><td>Kepler-227 c</td><td>CONFIRMED     </td><td>CANDIDATE     </td><td>0.969</td><td>0</td><td>0</td><td>0</td><td>⋯</td><td> -81</td><td>4.467</td><td>0.064</td><td>-0.096</td><td>0.927</td><td>0.105</td><td>-0.061</td><td>291.9342</td><td>48.14165</td><td>15.347</td></tr>\n",
       "\t<tr><td>3</td><td>10811496</td><td>K00753.01</td><td>NA          </td><td>FALSE POSITIVE</td><td>FALSE POSITIVE</td><td>0.000</td><td>0</td><td>1</td><td>0</td><td>⋯</td><td>-176</td><td>4.544</td><td>0.044</td><td>-0.176</td><td>0.868</td><td>0.233</td><td>-0.078</td><td>297.0048</td><td>48.13413</td><td>15.436</td></tr>\n",
       "\t<tr><td>4</td><td>10848459</td><td>K00754.01</td><td>NA          </td><td>FALSE POSITIVE</td><td>FALSE POSITIVE</td><td>0.000</td><td>0</td><td>1</td><td>0</td><td>⋯</td><td>-174</td><td>4.564</td><td>0.053</td><td>-0.168</td><td>0.791</td><td>0.201</td><td>-0.067</td><td>285.5346</td><td>48.28521</td><td>15.597</td></tr>\n",
       "\t<tr><td>5</td><td>10854555</td><td>K00755.01</td><td>Kepler-664 b</td><td>CONFIRMED     </td><td>CANDIDATE     </td><td>1.000</td><td>0</td><td>0</td><td>0</td><td>⋯</td><td>-211</td><td>4.438</td><td>0.070</td><td>-0.210</td><td>1.046</td><td>0.334</td><td>-0.133</td><td>288.7549</td><td>48.22620</td><td>15.509</td></tr>\n",
       "\t<tr><td>6</td><td>10872983</td><td>K00756.01</td><td>Kepler-228 d</td><td>CONFIRMED     </td><td>CANDIDATE     </td><td>1.000</td><td>0</td><td>0</td><td>0</td><td>⋯</td><td>-232</td><td>4.486</td><td>0.054</td><td>-0.229</td><td>0.972</td><td>0.315</td><td>-0.105</td><td>296.2861</td><td>48.22467</td><td>15.714</td></tr>\n",
       "</tbody>\n",
       "</table>\n"
      ],
      "text/latex": [
       "A tibble: 6 × 50\n",
       "\\begin{tabular}{lllllllllllllllllllll}\n",
       " rowid & kepid & kepoi\\_name & kepler\\_name & koi\\_disposition & koi\\_pdisposition & koi\\_score & koi\\_fpflag\\_nt & koi\\_fpflag\\_ss & koi\\_fpflag\\_co & ⋯ & koi\\_steff\\_err2 & koi\\_slogg & koi\\_slogg\\_err1 & koi\\_slogg\\_err2 & koi\\_srad & koi\\_srad\\_err1 & koi\\_srad\\_err2 & ra & dec & koi\\_kepmag\\\\\n",
       " <dbl> & <dbl> & <chr> & <chr> & <chr> & <chr> & <dbl> & <dbl> & <dbl> & <dbl> & ⋯ & <dbl> & <dbl> & <dbl> & <dbl> & <dbl> & <dbl> & <dbl> & <dbl> & <dbl> & <dbl>\\\\\n",
       "\\hline\n",
       "\t 1 & 10797460 & K00752.01 & Kepler-227 b & CONFIRMED      & CANDIDATE      & 1.000 & 0 & 0 & 0 & ⋯ &  -81 & 4.467 & 0.064 & -0.096 & 0.927 & 0.105 & -0.061 & 291.9342 & 48.14165 & 15.347\\\\\n",
       "\t 2 & 10797460 & K00752.02 & Kepler-227 c & CONFIRMED      & CANDIDATE      & 0.969 & 0 & 0 & 0 & ⋯ &  -81 & 4.467 & 0.064 & -0.096 & 0.927 & 0.105 & -0.061 & 291.9342 & 48.14165 & 15.347\\\\\n",
       "\t 3 & 10811496 & K00753.01 & NA           & FALSE POSITIVE & FALSE POSITIVE & 0.000 & 0 & 1 & 0 & ⋯ & -176 & 4.544 & 0.044 & -0.176 & 0.868 & 0.233 & -0.078 & 297.0048 & 48.13413 & 15.436\\\\\n",
       "\t 4 & 10848459 & K00754.01 & NA           & FALSE POSITIVE & FALSE POSITIVE & 0.000 & 0 & 1 & 0 & ⋯ & -174 & 4.564 & 0.053 & -0.168 & 0.791 & 0.201 & -0.067 & 285.5346 & 48.28521 & 15.597\\\\\n",
       "\t 5 & 10854555 & K00755.01 & Kepler-664 b & CONFIRMED      & CANDIDATE      & 1.000 & 0 & 0 & 0 & ⋯ & -211 & 4.438 & 0.070 & -0.210 & 1.046 & 0.334 & -0.133 & 288.7549 & 48.22620 & 15.509\\\\\n",
       "\t 6 & 10872983 & K00756.01 & Kepler-228 d & CONFIRMED      & CANDIDATE      & 1.000 & 0 & 0 & 0 & ⋯ & -232 & 4.486 & 0.054 & -0.229 & 0.972 & 0.315 & -0.105 & 296.2861 & 48.22467 & 15.714\\\\\n",
       "\\end{tabular}\n"
      ],
      "text/markdown": [
       "\n",
       "A tibble: 6 × 50\n",
       "\n",
       "| rowid &lt;dbl&gt; | kepid &lt;dbl&gt; | kepoi_name &lt;chr&gt; | kepler_name &lt;chr&gt; | koi_disposition &lt;chr&gt; | koi_pdisposition &lt;chr&gt; | koi_score &lt;dbl&gt; | koi_fpflag_nt &lt;dbl&gt; | koi_fpflag_ss &lt;dbl&gt; | koi_fpflag_co &lt;dbl&gt; | ⋯ ⋯ | koi_steff_err2 &lt;dbl&gt; | koi_slogg &lt;dbl&gt; | koi_slogg_err1 &lt;dbl&gt; | koi_slogg_err2 &lt;dbl&gt; | koi_srad &lt;dbl&gt; | koi_srad_err1 &lt;dbl&gt; | koi_srad_err2 &lt;dbl&gt; | ra &lt;dbl&gt; | dec &lt;dbl&gt; | koi_kepmag &lt;dbl&gt; |\n",
       "|---|---|---|---|---|---|---|---|---|---|---|---|---|---|---|---|---|---|---|---|---|\n",
       "| 1 | 10797460 | K00752.01 | Kepler-227 b | CONFIRMED      | CANDIDATE      | 1.000 | 0 | 0 | 0 | ⋯ |  -81 | 4.467 | 0.064 | -0.096 | 0.927 | 0.105 | -0.061 | 291.9342 | 48.14165 | 15.347 |\n",
       "| 2 | 10797460 | K00752.02 | Kepler-227 c | CONFIRMED      | CANDIDATE      | 0.969 | 0 | 0 | 0 | ⋯ |  -81 | 4.467 | 0.064 | -0.096 | 0.927 | 0.105 | -0.061 | 291.9342 | 48.14165 | 15.347 |\n",
       "| 3 | 10811496 | K00753.01 | NA           | FALSE POSITIVE | FALSE POSITIVE | 0.000 | 0 | 1 | 0 | ⋯ | -176 | 4.544 | 0.044 | -0.176 | 0.868 | 0.233 | -0.078 | 297.0048 | 48.13413 | 15.436 |\n",
       "| 4 | 10848459 | K00754.01 | NA           | FALSE POSITIVE | FALSE POSITIVE | 0.000 | 0 | 1 | 0 | ⋯ | -174 | 4.564 | 0.053 | -0.168 | 0.791 | 0.201 | -0.067 | 285.5346 | 48.28521 | 15.597 |\n",
       "| 5 | 10854555 | K00755.01 | Kepler-664 b | CONFIRMED      | CANDIDATE      | 1.000 | 0 | 0 | 0 | ⋯ | -211 | 4.438 | 0.070 | -0.210 | 1.046 | 0.334 | -0.133 | 288.7549 | 48.22620 | 15.509 |\n",
       "| 6 | 10872983 | K00756.01 | Kepler-228 d | CONFIRMED      | CANDIDATE      | 1.000 | 0 | 0 | 0 | ⋯ | -232 | 4.486 | 0.054 | -0.229 | 0.972 | 0.315 | -0.105 | 296.2861 | 48.22467 | 15.714 |\n",
       "\n"
      ],
      "text/plain": [
       "  rowid kepid    kepoi_name kepler_name  koi_disposition koi_pdisposition\n",
       "1 1     10797460 K00752.01  Kepler-227 b CONFIRMED       CANDIDATE       \n",
       "2 2     10797460 K00752.02  Kepler-227 c CONFIRMED       CANDIDATE       \n",
       "3 3     10811496 K00753.01  NA           FALSE POSITIVE  FALSE POSITIVE  \n",
       "4 4     10848459 K00754.01  NA           FALSE POSITIVE  FALSE POSITIVE  \n",
       "5 5     10854555 K00755.01  Kepler-664 b CONFIRMED       CANDIDATE       \n",
       "6 6     10872983 K00756.01  Kepler-228 d CONFIRMED       CANDIDATE       \n",
       "  koi_score koi_fpflag_nt koi_fpflag_ss koi_fpflag_co ⋯ koi_steff_err2\n",
       "1 1.000     0             0             0             ⋯  -81          \n",
       "2 0.969     0             0             0             ⋯  -81          \n",
       "3 0.000     0             1             0             ⋯ -176          \n",
       "4 0.000     0             1             0             ⋯ -174          \n",
       "5 1.000     0             0             0             ⋯ -211          \n",
       "6 1.000     0             0             0             ⋯ -232          \n",
       "  koi_slogg koi_slogg_err1 koi_slogg_err2 koi_srad koi_srad_err1 koi_srad_err2\n",
       "1 4.467     0.064          -0.096         0.927    0.105         -0.061       \n",
       "2 4.467     0.064          -0.096         0.927    0.105         -0.061       \n",
       "3 4.544     0.044          -0.176         0.868    0.233         -0.078       \n",
       "4 4.564     0.053          -0.168         0.791    0.201         -0.067       \n",
       "5 4.438     0.070          -0.210         1.046    0.334         -0.133       \n",
       "6 4.486     0.054          -0.229         0.972    0.315         -0.105       \n",
       "  ra       dec      koi_kepmag\n",
       "1 291.9342 48.14165 15.347    \n",
       "2 291.9342 48.14165 15.347    \n",
       "3 297.0048 48.13413 15.436    \n",
       "4 285.5346 48.28521 15.597    \n",
       "5 288.7549 48.22620 15.509    \n",
       "6 296.2861 48.22467 15.714    "
      ]
     },
     "metadata": {},
     "output_type": "display_data"
    }
   ],
   "source": [
    "## Reading the original data from Kaggle\n",
    "exoplanet <- read_csv(\"https://raw.githubusercontent.com/QuwackJ/dsci-100-group-37/main/Data/cumulative.csv\")\n",
    "\n",
    "head(exoplanet)"
   ]
  },
  {
   "cell_type": "markdown",
   "id": "796991ca-eee6-44cd-a6d0-7db77f39a722",
   "metadata": {},
   "source": [
    "## Wrangling Original Data"
   ]
  },
  {
   "cell_type": "code",
   "execution_count": 10,
   "id": "da6f0d80-aac8-4e21-bca5-872f6d168cf1",
   "metadata": {
    "tags": []
   },
   "outputs": [
    {
     "data": {
      "text/html": [
       "<table class=\"dataframe\">\n",
       "<caption>A tibble: 1 × 50</caption>\n",
       "<thead>\n",
       "\t<tr><th scope=col>rowid</th><th scope=col>kepid</th><th scope=col>kepoi_name</th><th scope=col>kepler_name</th><th scope=col>koi_disposition</th><th scope=col>koi_pdisposition</th><th scope=col>koi_score</th><th scope=col>koi_fpflag_nt</th><th scope=col>koi_fpflag_ss</th><th scope=col>koi_fpflag_co</th><th scope=col>⋯</th><th scope=col>koi_steff_err2</th><th scope=col>koi_slogg</th><th scope=col>koi_slogg_err1</th><th scope=col>koi_slogg_err2</th><th scope=col>koi_srad</th><th scope=col>koi_srad_err1</th><th scope=col>koi_srad_err2</th><th scope=col>ra</th><th scope=col>dec</th><th scope=col>koi_kepmag</th></tr>\n",
       "\t<tr><th scope=col>&lt;int&gt;</th><th scope=col>&lt;int&gt;</th><th scope=col>&lt;int&gt;</th><th scope=col>&lt;int&gt;</th><th scope=col>&lt;int&gt;</th><th scope=col>&lt;int&gt;</th><th scope=col>&lt;int&gt;</th><th scope=col>&lt;int&gt;</th><th scope=col>&lt;int&gt;</th><th scope=col>&lt;int&gt;</th><th scope=col>⋯</th><th scope=col>&lt;int&gt;</th><th scope=col>&lt;int&gt;</th><th scope=col>&lt;int&gt;</th><th scope=col>&lt;int&gt;</th><th scope=col>&lt;int&gt;</th><th scope=col>&lt;int&gt;</th><th scope=col>&lt;int&gt;</th><th scope=col>&lt;int&gt;</th><th scope=col>&lt;int&gt;</th><th scope=col>&lt;int&gt;</th></tr>\n",
       "</thead>\n",
       "<tbody>\n",
       "\t<tr><td>0</td><td>0</td><td>0</td><td>7270</td><td>0</td><td>0</td><td>1510</td><td>0</td><td>0</td><td>0</td><td>⋯</td><td>483</td><td>363</td><td>468</td><td>468</td><td>363</td><td>468</td><td>468</td><td>0</td><td>0</td><td>1</td></tr>\n",
       "</tbody>\n",
       "</table>\n"
      ],
      "text/latex": [
       "A tibble: 1 × 50\n",
       "\\begin{tabular}{lllllllllllllllllllll}\n",
       " rowid & kepid & kepoi\\_name & kepler\\_name & koi\\_disposition & koi\\_pdisposition & koi\\_score & koi\\_fpflag\\_nt & koi\\_fpflag\\_ss & koi\\_fpflag\\_co & ⋯ & koi\\_steff\\_err2 & koi\\_slogg & koi\\_slogg\\_err1 & koi\\_slogg\\_err2 & koi\\_srad & koi\\_srad\\_err1 & koi\\_srad\\_err2 & ra & dec & koi\\_kepmag\\\\\n",
       " <int> & <int> & <int> & <int> & <int> & <int> & <int> & <int> & <int> & <int> & ⋯ & <int> & <int> & <int> & <int> & <int> & <int> & <int> & <int> & <int> & <int>\\\\\n",
       "\\hline\n",
       "\t 0 & 0 & 0 & 7270 & 0 & 0 & 1510 & 0 & 0 & 0 & ⋯ & 483 & 363 & 468 & 468 & 363 & 468 & 468 & 0 & 0 & 1\\\\\n",
       "\\end{tabular}\n"
      ],
      "text/markdown": [
       "\n",
       "A tibble: 1 × 50\n",
       "\n",
       "| rowid &lt;int&gt; | kepid &lt;int&gt; | kepoi_name &lt;int&gt; | kepler_name &lt;int&gt; | koi_disposition &lt;int&gt; | koi_pdisposition &lt;int&gt; | koi_score &lt;int&gt; | koi_fpflag_nt &lt;int&gt; | koi_fpflag_ss &lt;int&gt; | koi_fpflag_co &lt;int&gt; | ⋯ ⋯ | koi_steff_err2 &lt;int&gt; | koi_slogg &lt;int&gt; | koi_slogg_err1 &lt;int&gt; | koi_slogg_err2 &lt;int&gt; | koi_srad &lt;int&gt; | koi_srad_err1 &lt;int&gt; | koi_srad_err2 &lt;int&gt; | ra &lt;int&gt; | dec &lt;int&gt; | koi_kepmag &lt;int&gt; |\n",
       "|---|---|---|---|---|---|---|---|---|---|---|---|---|---|---|---|---|---|---|---|---|\n",
       "| 0 | 0 | 0 | 7270 | 0 | 0 | 1510 | 0 | 0 | 0 | ⋯ | 483 | 363 | 468 | 468 | 363 | 468 | 468 | 0 | 0 | 1 |\n",
       "\n"
      ],
      "text/plain": [
       "  rowid kepid kepoi_name kepler_name koi_disposition koi_pdisposition koi_score\n",
       "1 0     0     0          7270        0               0                1510     \n",
       "  koi_fpflag_nt koi_fpflag_ss koi_fpflag_co ⋯ koi_steff_err2 koi_slogg\n",
       "1 0             0             0             ⋯ 483            363      \n",
       "  koi_slogg_err1 koi_slogg_err2 koi_srad koi_srad_err1 koi_srad_err2 ra dec\n",
       "1 468            468            363      468           468           0  0  \n",
       "  koi_kepmag\n",
       "1 1         "
      ]
     },
     "metadata": {},
     "output_type": "display_data"
    },
    {
     "data": {
      "text/html": [
       "<table class=\"dataframe\">\n",
       "<caption>A tibble: 6 × 6</caption>\n",
       "<thead>\n",
       "\t<tr><th scope=col>koi_disposition</th><th scope=col>koi_score</th><th scope=col>koi_period</th><th scope=col>koi_depth</th><th scope=col>koi_duration</th><th scope=col>koi_impact</th></tr>\n",
       "\t<tr><th scope=col>&lt;fct&gt;</th><th scope=col>&lt;dbl&gt;</th><th scope=col>&lt;dbl&gt;</th><th scope=col>&lt;dbl&gt;</th><th scope=col>&lt;dbl&gt;</th><th scope=col>&lt;dbl&gt;</th></tr>\n",
       "</thead>\n",
       "<tbody>\n",
       "\t<tr><td>CONFIRMED    </td><td>1.000</td><td> 9.488036</td><td>  615.8</td><td>2.95750</td><td>0.146</td></tr>\n",
       "\t<tr><td>CONFIRMED    </td><td>0.969</td><td>54.418383</td><td>  874.8</td><td>4.50700</td><td>0.586</td></tr>\n",
       "\t<tr><td>NOT EXOPLANET</td><td>0.000</td><td>19.899140</td><td>10829.0</td><td>1.78220</td><td>0.969</td></tr>\n",
       "\t<tr><td>NOT EXOPLANET</td><td>0.000</td><td> 1.736952</td><td> 8079.2</td><td>2.40641</td><td>1.276</td></tr>\n",
       "\t<tr><td>CONFIRMED    </td><td>1.000</td><td> 2.525592</td><td>  603.3</td><td>1.65450</td><td>0.701</td></tr>\n",
       "\t<tr><td>CONFIRMED    </td><td>1.000</td><td>11.094321</td><td> 1517.5</td><td>4.59450</td><td>0.538</td></tr>\n",
       "</tbody>\n",
       "</table>\n"
      ],
      "text/latex": [
       "A tibble: 6 × 6\n",
       "\\begin{tabular}{llllll}\n",
       " koi\\_disposition & koi\\_score & koi\\_period & koi\\_depth & koi\\_duration & koi\\_impact\\\\\n",
       " <fct> & <dbl> & <dbl> & <dbl> & <dbl> & <dbl>\\\\\n",
       "\\hline\n",
       "\t CONFIRMED     & 1.000 &  9.488036 &   615.8 & 2.95750 & 0.146\\\\\n",
       "\t CONFIRMED     & 0.969 & 54.418383 &   874.8 & 4.50700 & 0.586\\\\\n",
       "\t NOT EXOPLANET & 0.000 & 19.899140 & 10829.0 & 1.78220 & 0.969\\\\\n",
       "\t NOT EXOPLANET & 0.000 &  1.736952 &  8079.2 & 2.40641 & 1.276\\\\\n",
       "\t CONFIRMED     & 1.000 &  2.525592 &   603.3 & 1.65450 & 0.701\\\\\n",
       "\t CONFIRMED     & 1.000 & 11.094321 &  1517.5 & 4.59450 & 0.538\\\\\n",
       "\\end{tabular}\n"
      ],
      "text/markdown": [
       "\n",
       "A tibble: 6 × 6\n",
       "\n",
       "| koi_disposition &lt;fct&gt; | koi_score &lt;dbl&gt; | koi_period &lt;dbl&gt; | koi_depth &lt;dbl&gt; | koi_duration &lt;dbl&gt; | koi_impact &lt;dbl&gt; |\n",
       "|---|---|---|---|---|---|\n",
       "| CONFIRMED     | 1.000 |  9.488036 |   615.8 | 2.95750 | 0.146 |\n",
       "| CONFIRMED     | 0.969 | 54.418383 |   874.8 | 4.50700 | 0.586 |\n",
       "| NOT EXOPLANET | 0.000 | 19.899140 | 10829.0 | 1.78220 | 0.969 |\n",
       "| NOT EXOPLANET | 0.000 |  1.736952 |  8079.2 | 2.40641 | 1.276 |\n",
       "| CONFIRMED     | 1.000 |  2.525592 |   603.3 | 1.65450 | 0.701 |\n",
       "| CONFIRMED     | 1.000 | 11.094321 |  1517.5 | 4.59450 | 0.538 |\n",
       "\n"
      ],
      "text/plain": [
       "  koi_disposition koi_score koi_period koi_depth koi_duration koi_impact\n",
       "1 CONFIRMED       1.000      9.488036    615.8   2.95750      0.146     \n",
       "2 CONFIRMED       0.969     54.418383    874.8   4.50700      0.586     \n",
       "3 NOT EXOPLANET   0.000     19.899140  10829.0   1.78220      0.969     \n",
       "4 NOT EXOPLANET   0.000      1.736952   8079.2   2.40641      1.276     \n",
       "5 CONFIRMED       1.000      2.525592    603.3   1.65450      0.701     \n",
       "6 CONFIRMED       1.000     11.094321   1517.5   4.59450      0.538     "
      ]
     },
     "metadata": {},
     "output_type": "display_data"
    },
    {
     "data": {
      "text/html": [
       "<table class=\"dataframe\">\n",
       "<caption>A tibble: 2 × 2</caption>\n",
       "<thead>\n",
       "\t<tr><th scope=col>koi_disposition</th><th scope=col>count</th></tr>\n",
       "\t<tr><th scope=col>&lt;fct&gt;</th><th scope=col>&lt;int&gt;</th></tr>\n",
       "</thead>\n",
       "<tbody>\n",
       "\t<tr><td>CONFIRMED    </td><td>2183</td></tr>\n",
       "\t<tr><td>NOT EXOPLANET</td><td>3916</td></tr>\n",
       "</tbody>\n",
       "</table>\n"
      ],
      "text/latex": [
       "A tibble: 2 × 2\n",
       "\\begin{tabular}{ll}\n",
       " koi\\_disposition & count\\\\\n",
       " <fct> & <int>\\\\\n",
       "\\hline\n",
       "\t CONFIRMED     & 2183\\\\\n",
       "\t NOT EXOPLANET & 3916\\\\\n",
       "\\end{tabular}\n"
      ],
      "text/markdown": [
       "\n",
       "A tibble: 2 × 2\n",
       "\n",
       "| koi_disposition &lt;fct&gt; | count &lt;int&gt; |\n",
       "|---|---|\n",
       "| CONFIRMED     | 2183 |\n",
       "| NOT EXOPLANET | 3916 |\n",
       "\n"
      ],
      "text/plain": [
       "  koi_disposition count\n",
       "1 CONFIRMED       2183 \n",
       "2 NOT EXOPLANET   3916 "
      ]
     },
     "metadata": {},
     "output_type": "display_data"
    },
    {
     "data": {
      "text/html": [
       "<table class=\"dataframe\">\n",
       "<caption>A tibble: 1 × 6</caption>\n",
       "<thead>\n",
       "\t<tr><th scope=col>koi_disposition</th><th scope=col>koi_score</th><th scope=col>koi_period</th><th scope=col>koi_depth</th><th scope=col>koi_duration</th><th scope=col>koi_impact</th></tr>\n",
       "\t<tr><th scope=col>&lt;int&gt;</th><th scope=col>&lt;int&gt;</th><th scope=col>&lt;int&gt;</th><th scope=col>&lt;int&gt;</th><th scope=col>&lt;int&gt;</th><th scope=col>&lt;int&gt;</th></tr>\n",
       "</thead>\n",
       "<tbody>\n",
       "\t<tr><td>0</td><td>0</td><td>0</td><td>54</td><td>0</td><td>54</td></tr>\n",
       "</tbody>\n",
       "</table>\n"
      ],
      "text/latex": [
       "A tibble: 1 × 6\n",
       "\\begin{tabular}{llllll}\n",
       " koi\\_disposition & koi\\_score & koi\\_period & koi\\_depth & koi\\_duration & koi\\_impact\\\\\n",
       " <int> & <int> & <int> & <int> & <int> & <int>\\\\\n",
       "\\hline\n",
       "\t 0 & 0 & 0 & 54 & 0 & 54\\\\\n",
       "\\end{tabular}\n"
      ],
      "text/markdown": [
       "\n",
       "A tibble: 1 × 6\n",
       "\n",
       "| koi_disposition &lt;int&gt; | koi_score &lt;int&gt; | koi_period &lt;int&gt; | koi_depth &lt;int&gt; | koi_duration &lt;int&gt; | koi_impact &lt;int&gt; |\n",
       "|---|---|---|---|---|---|\n",
       "| 0 | 0 | 0 | 54 | 0 | 54 |\n",
       "\n"
      ],
      "text/plain": [
       "  koi_disposition koi_score koi_period koi_depth koi_duration koi_impact\n",
       "1 0               0         0          54        0            54        "
      ]
     },
     "metadata": {},
     "output_type": "display_data"
    },
    {
     "data": {
      "text/html": [
       "<table class=\"dataframe\">\n",
       "<caption>A tibble: 1 × 1</caption>\n",
       "<thead>\n",
       "\t<tr><th scope=col>n</th></tr>\n",
       "\t<tr><th scope=col>&lt;int&gt;</th></tr>\n",
       "</thead>\n",
       "<tbody>\n",
       "\t<tr><td>6099</td></tr>\n",
       "</tbody>\n",
       "</table>\n"
      ],
      "text/latex": [
       "A tibble: 1 × 1\n",
       "\\begin{tabular}{l}\n",
       " n\\\\\n",
       " <int>\\\\\n",
       "\\hline\n",
       "\t 6099\\\\\n",
       "\\end{tabular}\n"
      ],
      "text/markdown": [
       "\n",
       "A tibble: 1 × 1\n",
       "\n",
       "| n &lt;int&gt; |\n",
       "|---|\n",
       "| 6099 |\n",
       "\n"
      ],
      "text/plain": [
       "  n   \n",
       "1 6099"
      ]
     },
     "metadata": {},
     "output_type": "display_data"
    }
   ],
   "source": [
    "## Counting NA values in original data\n",
    "na_in_exoplanet <- exoplanet |>\n",
    "                   summarize_all(~ sum(is.na(.)))\n",
    "\n",
    "na_in_exoplanet\n",
    "\n",
    "## Selecting for our predictors\n",
    "exoplanet_selected <- exoplanet |>\n",
    "                        mutate(koi_disposition = as_factor(koi_disposition)) |>\n",
    "                        mutate(koi_disposition = fct_recode(koi_disposition, \"NOT EXOPLANET\" = \"FALSE POSITIVE\")) |>\n",
    "                        filter((koi_disposition == \"NOT EXOPLANET\" & koi_score <= 0.3) | (koi_disposition == \"CONFIRMED\" & koi_score >= 0.8)) |>\n",
    "                        select(koi_disposition, koi_score, koi_period, koi_depth, koi_duration, koi_impact)\n",
    "\n",
    "head(exoplanet_selected)\n",
    "\n",
    "disposition_count <- exoplanet_selected |>\n",
    "                     group_by(koi_disposition) |>\n",
    "                     summarize(count = n())\n",
    "\n",
    "disposition_count\n",
    "\n",
    "## Counting NA values in selected data\n",
    "na_in_exoplanet_selected <- exoplanet_selected |>\n",
    "                            summarize_all(~ sum(is.na(.)))\n",
    "\n",
    "na_in_exoplanet_selected\n",
    "\n",
    "## Counting the number of rows in the selected data\n",
    "row_count_exoplanet_selected <- count(exoplanet_selected)\n",
    "\n",
    "row_count_exoplanet_selected\n",
    "\n",
    "\n",
    "## Splitting into training and testing data\n",
    "exoplanet_split <- initial_split(exoplanet_selected, prop = 0.75, strata = koi_disposition)\n",
    "training_data <- training(exoplanet_split)   \n",
    "testing_data <- testing(exoplanet_split)"
   ]
  },
  {
   "cell_type": "code",
   "execution_count": 11,
   "id": "7edef374-4797-44f1-a043-6525afafb898",
   "metadata": {
    "tags": []
   },
   "outputs": [
    {
     "name": "stderr",
     "output_type": "stream",
     "text": [
      "\u001b[31mx\u001b[39m \u001b[31mFold1: preprocessor 1/1, model 1/1 (predictions):\n",
      "  \u001b[1m\u001b[33mError\u001b[31m in `mutate()`:\u001b[22m\n",
      "  \u001b[1m\u001b[22m\u001b[36mℹ\u001b[31m In argument: `.row = orig_rows`.\n",
      "  \u001b[1mCaused by error:\u001b[22m\n",
      "  \u001b[1m\u001b[22m\u001b[33m!\u001b[31m `.row` must be size 900 or 1, not 916.\u001b[39m\n",
      "\n",
      "\u001b[31mx\u001b[39m \u001b[31mFold2: preprocessor 1/1, model 1/1 (predictions):\n",
      "  \u001b[1m\u001b[33mError\u001b[31m in `mutate()`:\u001b[22m\n",
      "  \u001b[1m\u001b[22m\u001b[36mℹ\u001b[31m In argument: `.row = orig_rows`.\n",
      "  \u001b[1mCaused by error:\u001b[22m\n",
      "  \u001b[1m\u001b[22m\u001b[33m!\u001b[31m `.row` must be size 908 or 1, not 916.\u001b[39m\n",
      "\n",
      "\u001b[31mx\u001b[39m \u001b[31mFold3: preprocessor 1/1, model 1/1 (predictions):\n",
      "  \u001b[1m\u001b[33mError\u001b[31m in `mutate()`:\u001b[22m\n",
      "  \u001b[1m\u001b[22m\u001b[36mℹ\u001b[31m In argument: `.row = orig_rows`.\n",
      "  \u001b[1mCaused by error:\u001b[22m\n",
      "  \u001b[1m\u001b[22m\u001b[33m!\u001b[31m `.row` must be size 906 or 1, not 914.\u001b[39m\n",
      "\n",
      "\u001b[31mx\u001b[39m \u001b[31mFold4: preprocessor 1/1, model 1/1 (predictions):\n",
      "  \u001b[1m\u001b[33mError\u001b[31m in `mutate()`:\u001b[22m\n",
      "  \u001b[1m\u001b[22m\u001b[36mℹ\u001b[31m In argument: `.row = orig_rows`.\n",
      "  \u001b[1mCaused by error:\u001b[22m\n",
      "  \u001b[1m\u001b[22m\u001b[33m!\u001b[31m `.row` must be size 910 or 1, not 914.\u001b[39m\n",
      "\n",
      "\u001b[31mx\u001b[39m \u001b[31mFold5: preprocessor 1/1, model 1/1 (predictions):\n",
      "  \u001b[1m\u001b[33mError\u001b[31m in `mutate()`:\u001b[22m\n",
      "  \u001b[1m\u001b[22m\u001b[36mℹ\u001b[31m In argument: `.row = orig_rows`.\n",
      "  \u001b[1mCaused by error:\u001b[22m\n",
      "  \u001b[1m\u001b[22m\u001b[33m!\u001b[31m `.row` must be size 908 or 1, not 914.\u001b[39m\n",
      "\n",
      "Warning message:\n",
      "“All models failed. Run `show_notes(.Last.tune.result)` for more information.”\n"
     ]
    },
    {
     "ename": "ERROR",
     "evalue": "\u001b[1m\u001b[33mError\u001b[39m in `estimate_tune_results()`:\u001b[22m\n\u001b[33m!\u001b[39m All of the models failed. See the .notes column.\n",
     "output_type": "error",
     "traceback": [
      "\u001b[1m\u001b[33mError\u001b[39m in `estimate_tune_results()`:\u001b[22m\n\u001b[33m!\u001b[39m All of the models failed. See the .notes column.\nTraceback:\n",
      "1. filter(collect_metrics(tune_grid(add_model(add_recipe(workflow(), \n .     recipe), knn_tune), resamples = vfold, grid = k_vals)), .metric == \n .     \"accuracy\")",
      "2. collect_metrics(tune_grid(add_model(add_recipe(workflow(), recipe), \n .     knn_tune), resamples = vfold, grid = k_vals))",
      "3. collect_metrics.tune_results(tune_grid(add_model(add_recipe(workflow(), \n .     recipe), knn_tune), resamples = vfold, grid = k_vals))",
      "4. estimate_tune_results(x)",
      "5. rlang::abort(\"All of the models failed. See the .notes column.\")",
      "6. signal_abort(cnd, .file)"
     ]
    }
   ],
   "source": [
    "set.seed(1234) \n",
    "\n",
    "options(repr.plot.height = 5, repr.plot.width = 6)\n",
    "\n",
    "recipe <- recipe(koi_disposition ~ ., data = training_data)\n",
    "\n",
    "knn_tune<-nearest_neighbor(weight_func = \"rectangular\", neighbors = tune()) |>\n",
    "       set_engine(\"kknn\") |>\n",
    "       set_mode(\"classification\")\n",
    "\n",
    "vfold <- vfold_cv(training_data, v = 5, strata = koi_disposition)\n",
    "\n",
    "k_vals <- tibble(neighbors = seq(from = 1, to = 5, by = 1))\n",
    "\n",
    "fit <- workflow() |>\n",
    "                  add_recipe(recipe) |>\n",
    "                  add_model(knn_tune) |>\n",
    "                  tune_grid(resamples=vfold,grid=k_vals) |>\n",
    "                  collect_metrics()|>\n",
    "filter(.metric == \"accuracy\")\n",
    "\n",
    "cross_val_plot<- ggplot(data = fit, aes(x = neighbors, y = mean)) +\n",
    "      geom_point() +\n",
    "      geom_line() +\n",
    "      labs(x = \"Neighbors\", y = \"Accuracy Estimate\") + \n",
    "scale_x_continuous(breaks = seq(0, 14, by = 1)) +  \n",
    "       scale_y_continuous(limits = c(0.4, 1.0)) +\n",
    "      theme(text = element_text(size = 12))\n",
    "\n",
    "cross_val_plot"
   ]
  },
  {
   "cell_type": "code",
   "execution_count": 12,
   "id": "5a3fa8b0-deba-44ab-85a5-e3466b20960a",
   "metadata": {
    "tags": []
   },
   "outputs": [
    {
     "ename": "ERROR",
     "evalue": "Error in set_engine(nearest_neighbor(weight_func = \"rectangular\", neighbors = ...), : '...' used in an incorrect context\n",
     "output_type": "error",
     "traceback": [
      "Error in set_engine(nearest_neighbor(weight_func = \"rectangular\", neighbors = ...), : '...' used in an incorrect context\nTraceback:\n",
      "1. set_mode(set_engine(nearest_neighbor(weight_func = \"rectangular\", \n .     neighbors = ...), \"kknn\"), \"classification\")",
      "2. set_engine(nearest_neighbor(weight_func = \"rectangular\", neighbors = ...), \n .     \"kknn\")"
     ]
    }
   ],
   "source": [
    "mnist_spec<- nearest_neighbor(weight_func = \"rectangular\", neighbors = ...)|>\n",
    "          set_engine(\"kknn\") |>\n",
    "          set_mode(\"classification\")\n",
    "\n",
    "mnist_fit <- workflow() |>\n",
    "          add_recipe(recipe) |>\n",
    "          add_model(mnist_spec) |>\n",
    "          fit(data = training_data)\n",
    "\n",
    "final_prediction <- predict(knn_fit, testing_data)\n",
    "final_prediction"
   ]
  },
  {
   "cell_type": "markdown",
   "id": "6e4a1dee-cea7-4006-afea-0678a6853051",
   "metadata": {},
   "source": [
    "## References"
   ]
  },
  {
   "cell_type": "markdown",
   "id": "af516328-2d27-487c-ac4a-16d4f20d2acb",
   "metadata": {},
   "source": [
    "Dataset: https://www.kaggle.com/datasets/nasa/kepler-exoplanet-search-results\n",
    "\n",
    "Column Explanation: https://exoplanetarchive.ipac.caltech.edu/docs/API_kepcandidate_columns.html\n"
   ]
  }
 ],
 "metadata": {
  "kernelspec": {
   "display_name": "R",
   "language": "R",
   "name": "ir"
  },
  "language_info": {
   "codemirror_mode": "r",
   "file_extension": ".r",
   "mimetype": "text/x-r-source",
   "name": "R",
   "pygments_lexer": "r",
   "version": "4.2.2"
  }
 },
 "nbformat": 4,
 "nbformat_minor": 5
}
