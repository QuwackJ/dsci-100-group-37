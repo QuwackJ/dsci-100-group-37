{
 "cells": [
  {
   "cell_type": "markdown",
   "id": "a073cd39-5945-42bf-b57e-f319409759af",
   "metadata": {},
   "source": [
    "**Classifying Exoplanets: An Exploration of NASA's Kepler Space Observatory Dataset**"
   ]
  },
  {
   "cell_type": "markdown",
   "id": "f1a92ecb-d525-4cfc-a2be-e71ec2771fab",
   "metadata": {},
   "source": [
    "The vast and mysterious cosmos has always beckoned humanity to explore and understand its depths. One of the most riveting subjects of contemporary astronomical research is exoplanets, planets that orbit stars beyond our solar system. The discovery and study of these distant worlds would enhance our knowledge of the universe and position Earth in a broader cosmic context. Examining exoplanets gives insight into the diversity of planetary formation and evolution, which is critical when searching for habitable planets.\n",
    "\n",
    "Central to this wave of discoveries has been the Kepler Space Observatory, a NASA-led mission dedicated to finding exoplanets, especially ones that are roughly Earth-sized and located within the habitable zones of their parent stars. Since 2009, Kepler has revolutionized our understanding of extrasolar systems by cross-checking previous observations of exoplanets and labeling them as confirmed planets, candidates, or false positives.\n",
    "\n",
    "Our project's primary question is: *Can we accurately classify celestial bodies as exoplanets based on their observed characteristics using the Kepler exoplanet dataset?*\n",
    "\n",
    "To answer this, we will analyze the NASA Kepler exoplanet dataset, a rich compilation of data procured from the Kepler Telescope. This dataset encompasses a range of details about celestial objects, including their radius, orbital period, stellar luminosity, and other essential attributes. By analyzing this dataset, we aspire to develop a robust predictive model that can discern exoplanets from other extrasolar entities, furthering our understanding and exploration of the grand tapestry of the universe."
   ]
  },
  {
   "cell_type": "code",
   "execution_count": 1,
   "id": "6e92c509-03bb-468e-b4fe-a5c3d99f8590",
   "metadata": {
    "tags": []
   },
   "outputs": [
    {
     "name": "stderr",
     "output_type": "stream",
     "text": [
      "── \u001b[1mAttaching packages\u001b[22m ─────────────────────────────────────── tidyverse 1.3.2 ──\n",
      "\u001b[32m✔\u001b[39m \u001b[34mggplot2\u001b[39m 3.4.2     \u001b[32m✔\u001b[39m \u001b[34mpurrr  \u001b[39m 1.0.1\n",
      "\u001b[32m✔\u001b[39m \u001b[34mtibble \u001b[39m 3.2.1     \u001b[32m✔\u001b[39m \u001b[34mdplyr  \u001b[39m 1.1.1\n",
      "\u001b[32m✔\u001b[39m \u001b[34mtidyr  \u001b[39m 1.3.0     \u001b[32m✔\u001b[39m \u001b[34mstringr\u001b[39m 1.5.0\n",
      "\u001b[32m✔\u001b[39m \u001b[34mreadr  \u001b[39m 2.1.3     \u001b[32m✔\u001b[39m \u001b[34mforcats\u001b[39m 0.5.2\n",
      "── \u001b[1mConflicts\u001b[22m ────────────────────────────────────────── tidyverse_conflicts() ──\n",
      "\u001b[31m✖\u001b[39m \u001b[34mdplyr\u001b[39m::\u001b[32mfilter()\u001b[39m masks \u001b[34mstats\u001b[39m::filter()\n",
      "\u001b[31m✖\u001b[39m \u001b[34mdplyr\u001b[39m::\u001b[32mlag()\u001b[39m    masks \u001b[34mstats\u001b[39m::lag()\n"
     ]
    }
   ],
   "source": [
    "library(tidyverse)"
   ]
  },
  {
   "cell_type": "code",
   "execution_count": 3,
   "id": "ea587c07-fcd2-4254-8fad-d7c359a47222",
   "metadata": {
    "tags": []
   },
   "outputs": [
    {
     "name": "stderr",
     "output_type": "stream",
     "text": [
      "Warning message:\n",
      "“\u001b[1m\u001b[22mOne or more parsing issues, call `problems()` on your data frame for details,\n",
      "e.g.:\n",
      "  dat <- vroom(...)\n",
      "  problems(dat)”\n",
      "\u001b[1mRows: \u001b[22m\u001b[34m9620\u001b[39m \u001b[1mColumns: \u001b[22m\u001b[34m1\u001b[39m\n",
      "\u001b[36m──\u001b[39m \u001b[1mColumn specification\u001b[22m \u001b[36m────────────────────────────────────────────────────────\u001b[39m\n",
      "\u001b[1mDelimiter:\u001b[22m \",\"\n",
      "\u001b[31mchr\u001b[39m (1): # This file was produced by the NASA Exoplanet Archive  http://exop...\n",
      "\n",
      "\u001b[36mℹ\u001b[39m Use `spec()` to retrieve the full column specification for this data.\n",
      "\u001b[36mℹ\u001b[39m Specify the column types or set `show_col_types = FALSE` to quiet this message.\n"
     ]
    },
    {
     "data": {
      "text/html": [
       "<table class=\"dataframe\">\n",
       "<caption>A tibble: 6 × 1</caption>\n",
       "<thead>\n",
       "\t<tr><th scope=col># This file was produced by the NASA Exoplanet Archive  http://exoplanetarchive.ipac.caltech.edu</th></tr>\n",
       "\t<tr><th scope=col>&lt;chr&gt;</th></tr>\n",
       "</thead>\n",
       "<tbody>\n",
       "\t<tr><td># Wed Oct 25 16:38:40 2023       </td></tr>\n",
       "\t<tr><td>#                                </td></tr>\n",
       "\t<tr><td># User preference: *             </td></tr>\n",
       "\t<tr><td>#                                </td></tr>\n",
       "\t<tr><td># COLUMN kepid:          KepID   </td></tr>\n",
       "\t<tr><td># COLUMN kepoi_name:     KOI Name</td></tr>\n",
       "</tbody>\n",
       "</table>\n"
      ],
      "text/latex": [
       "A tibble: 6 × 1\n",
       "\\begin{tabular}{l}\n",
       " \\# This file was produced by the NASA Exoplanet Archive  http://exoplanetarchive.ipac.caltech.edu\\\\\n",
       " <chr>\\\\\n",
       "\\hline\n",
       "\t \\# Wed Oct 25 16:38:40 2023       \\\\\n",
       "\t \\#                                \\\\\n",
       "\t \\# User preference: *             \\\\\n",
       "\t \\#                                \\\\\n",
       "\t \\# COLUMN kepid:          KepID   \\\\\n",
       "\t \\# COLUMN kepoi\\_name:     KOI Name\\\\\n",
       "\\end{tabular}\n"
      ],
      "text/markdown": [
       "\n",
       "A tibble: 6 × 1\n",
       "\n",
       "| # This file was produced by the NASA Exoplanet Archive  http://exoplanetarchive.ipac.caltech.edu &lt;chr&gt; |\n",
       "|---|\n",
       "| # Wed Oct 25 16:38:40 2023        |\n",
       "| #                                 |\n",
       "| # User preference: *              |\n",
       "| #                                 |\n",
       "| # COLUMN kepid:          KepID    |\n",
       "| # COLUMN kepoi_name:     KOI Name |\n",
       "\n"
      ],
      "text/plain": [
       "  # This file was produced by the NASA Exoplanet Archive  http://exoplanetarchive.ipac.caltech.edu\n",
       "1 # Wed Oct 25 16:38:40 2023                                                                      \n",
       "2 #                                                                                               \n",
       "3 # User preference: *                                                                            \n",
       "4 #                                                                                               \n",
       "5 # COLUMN kepid:          KepID                                                                  \n",
       "6 # COLUMN kepoi_name:     KOI Name                                                               "
      ]
     },
     "metadata": {},
     "output_type": "display_data"
    }
   ],
   "source": [
    "exoplanet <- read_csv(\"\")\n",
    "head(exoplanet)"
   ]
  },
  {
   "cell_type": "code",
   "execution_count": null,
   "id": "642c302a-a672-4726-8493-4f2d52d24100",
   "metadata": {},
   "outputs": [],
   "source": []
  },
  {
   "cell_type": "code",
   "execution_count": null,
   "id": "f3572b1e-5a95-4d94-930b-fb92f3058805",
   "metadata": {},
   "outputs": [],
   "source": []
  }
 ],
 "metadata": {
  "kernelspec": {
   "display_name": "R",
   "language": "R",
   "name": "ir"
  },
  "language_info": {
   "codemirror_mode": "r",
   "file_extension": ".r",
   "mimetype": "text/x-r-source",
   "name": "R",
   "pygments_lexer": "r",
   "version": "4.2.2"
  },
  "toc-autonumbering": false,
  "toc-showcode": false,
  "toc-showmarkdowntxt": false,
  "widgets": {
   "application/vnd.jupyter.widget-state+json": {
    "state": {},
    "version_major": 2,
    "version_minor": 0
   }
  }
 },
 "nbformat": 4,
 "nbformat_minor": 5
}
