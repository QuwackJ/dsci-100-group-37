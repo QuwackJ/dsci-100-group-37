{
 "cells": [
  {
   "cell_type": "markdown",
   "id": "a073cd39-5945-42bf-b57e-f319409759af",
   "metadata": {},
   "source": [
    "**Classifying Exoplanets: Exploring NASA's Kepler Space Observatory Dataset**"
   ]
  },
  {
   "cell_type": "markdown",
   "id": "f1a92ecb-d525-4cfc-a2be-e71ec2771fab",
   "metadata": {},
   "source": [
    "Space has always beckoned humanity to explore its depths. One of the most fascinating subjects in astronomical research is exoplanets, planets that orbit stars beyond our solar system. Examining exoplanets gives insight into planetary formation and evolution, critical information when searching for habitable planets.\n",
    "\n",
    "The Kepler Space Observatory, a NASA space telescope for finding exoplanets, has analyzed thousands of planets, especially ones that are roughly Earth-sized and located within the habitable zones of their parent stars. From 2009 to 2018, Kepler revolutionized our understanding of extrasolar systems by cross-checking previous observations of exoplanets and labeling them as confirmed planets, candidates, or false positives.\n",
    "\n",
    "Our primary question is: *Can we accurately classify celestial bodies as exoplanets based on their observed characteristics using the Kepler exoplanet dataset?*\n",
    "\n",
    "Our project will analyze the NASA Kepler exoplanet dataset from the Kepler Telescope. This dataset contains details about celestial objects, including their radius, transit, stellar luminosity, and other essential attributes. By analyzing this dataset, we hope to develop a predictive model that discerns exoplanets from other extrasolar entities, furthering our understanding of the universe."
   ]
  },
  {
   "cell_type": "code",
   "execution_count": 1,
   "id": "6e92c509-03bb-468e-b4fe-a5c3d99f8590",
   "metadata": {
    "tags": []
   },
   "outputs": [
    {
     "name": "stderr",
     "output_type": "stream",
     "text": [
      "── \u001b[1mAttaching packages\u001b[22m ─────────────────────────────────────── tidyverse 1.3.2 ──\n",
      "\u001b[32m✔\u001b[39m \u001b[34mggplot2\u001b[39m 3.4.2     \u001b[32m✔\u001b[39m \u001b[34mpurrr  \u001b[39m 1.0.1\n",
      "\u001b[32m✔\u001b[39m \u001b[34mtibble \u001b[39m 3.2.1     \u001b[32m✔\u001b[39m \u001b[34mdplyr  \u001b[39m 1.1.1\n",
      "\u001b[32m✔\u001b[39m \u001b[34mtidyr  \u001b[39m 1.3.0     \u001b[32m✔\u001b[39m \u001b[34mstringr\u001b[39m 1.5.0\n",
      "\u001b[32m✔\u001b[39m \u001b[34mreadr  \u001b[39m 2.1.3     \u001b[32m✔\u001b[39m \u001b[34mforcats\u001b[39m 0.5.2\n",
      "── \u001b[1mConflicts\u001b[22m ────────────────────────────────────────── tidyverse_conflicts() ──\n",
      "\u001b[31m✖\u001b[39m \u001b[34mdplyr\u001b[39m::\u001b[32mfilter()\u001b[39m masks \u001b[34mstats\u001b[39m::filter()\n",
      "\u001b[31m✖\u001b[39m \u001b[34mdplyr\u001b[39m::\u001b[32mlag()\u001b[39m    masks \u001b[34mstats\u001b[39m::lag()\n"
     ]
    }
   ],
   "source": [
    "library(tidyverse)"
   ]
  },
  {
   "cell_type": "code",
   "execution_count": 3,
   "id": "ea587c07-fcd2-4254-8fad-d7c359a47222",
   "metadata": {
    "tags": []
   },
   "outputs": [
    {
     "name": "stderr",
     "output_type": "stream",
     "text": [
      "\u001b[1mRows: \u001b[22m\u001b[34m9564\u001b[39m \u001b[1mColumns: \u001b[22m\u001b[34m50\u001b[39m\n",
      "\u001b[36m──\u001b[39m \u001b[1mColumn specification\u001b[22m \u001b[36m────────────────────────────────────────────────────────\u001b[39m\n",
      "\u001b[1mDelimiter:\u001b[22m \",\"\n",
      "\u001b[31mchr\u001b[39m  (5): kepoi_name, kepler_name, koi_disposition, koi_pdisposition, koi_tc...\n",
      "\u001b[32mdbl\u001b[39m (43): rowid, kepid, koi_score, koi_fpflag_nt, koi_fpflag_ss, koi_fpflag_...\n",
      "\u001b[33mlgl\u001b[39m  (2): koi_teq_err1, koi_teq_err2\n",
      "\n",
      "\u001b[36mℹ\u001b[39m Use `spec()` to retrieve the full column specification for this data.\n",
      "\u001b[36mℹ\u001b[39m Specify the column types or set `show_col_types = FALSE` to quiet this message.\n"
     ]
    },
    {
     "data": {
      "text/html": [
       "<table class=\"dataframe\">\n",
       "<caption>A tibble: 6 × 50</caption>\n",
       "<thead>\n",
       "\t<tr><th scope=col>rowid</th><th scope=col>kepid</th><th scope=col>kepoi_name</th><th scope=col>kepler_name</th><th scope=col>koi_disposition</th><th scope=col>koi_pdisposition</th><th scope=col>koi_score</th><th scope=col>koi_fpflag_nt</th><th scope=col>koi_fpflag_ss</th><th scope=col>koi_fpflag_co</th><th scope=col>⋯</th><th scope=col>koi_steff_err2</th><th scope=col>koi_slogg</th><th scope=col>koi_slogg_err1</th><th scope=col>koi_slogg_err2</th><th scope=col>koi_srad</th><th scope=col>koi_srad_err1</th><th scope=col>koi_srad_err2</th><th scope=col>ra</th><th scope=col>dec</th><th scope=col>koi_kepmag</th></tr>\n",
       "\t<tr><th scope=col>&lt;dbl&gt;</th><th scope=col>&lt;dbl&gt;</th><th scope=col>&lt;chr&gt;</th><th scope=col>&lt;chr&gt;</th><th scope=col>&lt;chr&gt;</th><th scope=col>&lt;chr&gt;</th><th scope=col>&lt;dbl&gt;</th><th scope=col>&lt;dbl&gt;</th><th scope=col>&lt;dbl&gt;</th><th scope=col>&lt;dbl&gt;</th><th scope=col>⋯</th><th scope=col>&lt;dbl&gt;</th><th scope=col>&lt;dbl&gt;</th><th scope=col>&lt;dbl&gt;</th><th scope=col>&lt;dbl&gt;</th><th scope=col>&lt;dbl&gt;</th><th scope=col>&lt;dbl&gt;</th><th scope=col>&lt;dbl&gt;</th><th scope=col>&lt;dbl&gt;</th><th scope=col>&lt;dbl&gt;</th><th scope=col>&lt;dbl&gt;</th></tr>\n",
       "</thead>\n",
       "<tbody>\n",
       "\t<tr><td>1</td><td>10797460</td><td>K00752.01</td><td>Kepler-227 b</td><td>CONFIRMED     </td><td>CANDIDATE     </td><td>1.000</td><td>0</td><td>0</td><td>0</td><td>⋯</td><td> -81</td><td>4.467</td><td>0.064</td><td>-0.096</td><td>0.927</td><td>0.105</td><td>-0.061</td><td>291.9342</td><td>48.14165</td><td>15.347</td></tr>\n",
       "\t<tr><td>2</td><td>10797460</td><td>K00752.02</td><td>Kepler-227 c</td><td>CONFIRMED     </td><td>CANDIDATE     </td><td>0.969</td><td>0</td><td>0</td><td>0</td><td>⋯</td><td> -81</td><td>4.467</td><td>0.064</td><td>-0.096</td><td>0.927</td><td>0.105</td><td>-0.061</td><td>291.9342</td><td>48.14165</td><td>15.347</td></tr>\n",
       "\t<tr><td>3</td><td>10811496</td><td>K00753.01</td><td>NA          </td><td>FALSE POSITIVE</td><td>FALSE POSITIVE</td><td>0.000</td><td>0</td><td>1</td><td>0</td><td>⋯</td><td>-176</td><td>4.544</td><td>0.044</td><td>-0.176</td><td>0.868</td><td>0.233</td><td>-0.078</td><td>297.0048</td><td>48.13413</td><td>15.436</td></tr>\n",
       "\t<tr><td>4</td><td>10848459</td><td>K00754.01</td><td>NA          </td><td>FALSE POSITIVE</td><td>FALSE POSITIVE</td><td>0.000</td><td>0</td><td>1</td><td>0</td><td>⋯</td><td>-174</td><td>4.564</td><td>0.053</td><td>-0.168</td><td>0.791</td><td>0.201</td><td>-0.067</td><td>285.5346</td><td>48.28521</td><td>15.597</td></tr>\n",
       "\t<tr><td>5</td><td>10854555</td><td>K00755.01</td><td>Kepler-664 b</td><td>CONFIRMED     </td><td>CANDIDATE     </td><td>1.000</td><td>0</td><td>0</td><td>0</td><td>⋯</td><td>-211</td><td>4.438</td><td>0.070</td><td>-0.210</td><td>1.046</td><td>0.334</td><td>-0.133</td><td>288.7549</td><td>48.22620</td><td>15.509</td></tr>\n",
       "\t<tr><td>6</td><td>10872983</td><td>K00756.01</td><td>Kepler-228 d</td><td>CONFIRMED     </td><td>CANDIDATE     </td><td>1.000</td><td>0</td><td>0</td><td>0</td><td>⋯</td><td>-232</td><td>4.486</td><td>0.054</td><td>-0.229</td><td>0.972</td><td>0.315</td><td>-0.105</td><td>296.2861</td><td>48.22467</td><td>15.714</td></tr>\n",
       "</tbody>\n",
       "</table>\n"
      ],
      "text/latex": [
       "A tibble: 6 × 50\n",
       "\\begin{tabular}{lllllllllllllllllllll}\n",
       " rowid & kepid & kepoi\\_name & kepler\\_name & koi\\_disposition & koi\\_pdisposition & koi\\_score & koi\\_fpflag\\_nt & koi\\_fpflag\\_ss & koi\\_fpflag\\_co & ⋯ & koi\\_steff\\_err2 & koi\\_slogg & koi\\_slogg\\_err1 & koi\\_slogg\\_err2 & koi\\_srad & koi\\_srad\\_err1 & koi\\_srad\\_err2 & ra & dec & koi\\_kepmag\\\\\n",
       " <dbl> & <dbl> & <chr> & <chr> & <chr> & <chr> & <dbl> & <dbl> & <dbl> & <dbl> & ⋯ & <dbl> & <dbl> & <dbl> & <dbl> & <dbl> & <dbl> & <dbl> & <dbl> & <dbl> & <dbl>\\\\\n",
       "\\hline\n",
       "\t 1 & 10797460 & K00752.01 & Kepler-227 b & CONFIRMED      & CANDIDATE      & 1.000 & 0 & 0 & 0 & ⋯ &  -81 & 4.467 & 0.064 & -0.096 & 0.927 & 0.105 & -0.061 & 291.9342 & 48.14165 & 15.347\\\\\n",
       "\t 2 & 10797460 & K00752.02 & Kepler-227 c & CONFIRMED      & CANDIDATE      & 0.969 & 0 & 0 & 0 & ⋯ &  -81 & 4.467 & 0.064 & -0.096 & 0.927 & 0.105 & -0.061 & 291.9342 & 48.14165 & 15.347\\\\\n",
       "\t 3 & 10811496 & K00753.01 & NA           & FALSE POSITIVE & FALSE POSITIVE & 0.000 & 0 & 1 & 0 & ⋯ & -176 & 4.544 & 0.044 & -0.176 & 0.868 & 0.233 & -0.078 & 297.0048 & 48.13413 & 15.436\\\\\n",
       "\t 4 & 10848459 & K00754.01 & NA           & FALSE POSITIVE & FALSE POSITIVE & 0.000 & 0 & 1 & 0 & ⋯ & -174 & 4.564 & 0.053 & -0.168 & 0.791 & 0.201 & -0.067 & 285.5346 & 48.28521 & 15.597\\\\\n",
       "\t 5 & 10854555 & K00755.01 & Kepler-664 b & CONFIRMED      & CANDIDATE      & 1.000 & 0 & 0 & 0 & ⋯ & -211 & 4.438 & 0.070 & -0.210 & 1.046 & 0.334 & -0.133 & 288.7549 & 48.22620 & 15.509\\\\\n",
       "\t 6 & 10872983 & K00756.01 & Kepler-228 d & CONFIRMED      & CANDIDATE      & 1.000 & 0 & 0 & 0 & ⋯ & -232 & 4.486 & 0.054 & -0.229 & 0.972 & 0.315 & -0.105 & 296.2861 & 48.22467 & 15.714\\\\\n",
       "\\end{tabular}\n"
      ],
      "text/markdown": [
       "\n",
       "A tibble: 6 × 50\n",
       "\n",
       "| rowid &lt;dbl&gt; | kepid &lt;dbl&gt; | kepoi_name &lt;chr&gt; | kepler_name &lt;chr&gt; | koi_disposition &lt;chr&gt; | koi_pdisposition &lt;chr&gt; | koi_score &lt;dbl&gt; | koi_fpflag_nt &lt;dbl&gt; | koi_fpflag_ss &lt;dbl&gt; | koi_fpflag_co &lt;dbl&gt; | ⋯ ⋯ | koi_steff_err2 &lt;dbl&gt; | koi_slogg &lt;dbl&gt; | koi_slogg_err1 &lt;dbl&gt; | koi_slogg_err2 &lt;dbl&gt; | koi_srad &lt;dbl&gt; | koi_srad_err1 &lt;dbl&gt; | koi_srad_err2 &lt;dbl&gt; | ra &lt;dbl&gt; | dec &lt;dbl&gt; | koi_kepmag &lt;dbl&gt; |\n",
       "|---|---|---|---|---|---|---|---|---|---|---|---|---|---|---|---|---|---|---|---|---|\n",
       "| 1 | 10797460 | K00752.01 | Kepler-227 b | CONFIRMED      | CANDIDATE      | 1.000 | 0 | 0 | 0 | ⋯ |  -81 | 4.467 | 0.064 | -0.096 | 0.927 | 0.105 | -0.061 | 291.9342 | 48.14165 | 15.347 |\n",
       "| 2 | 10797460 | K00752.02 | Kepler-227 c | CONFIRMED      | CANDIDATE      | 0.969 | 0 | 0 | 0 | ⋯ |  -81 | 4.467 | 0.064 | -0.096 | 0.927 | 0.105 | -0.061 | 291.9342 | 48.14165 | 15.347 |\n",
       "| 3 | 10811496 | K00753.01 | NA           | FALSE POSITIVE | FALSE POSITIVE | 0.000 | 0 | 1 | 0 | ⋯ | -176 | 4.544 | 0.044 | -0.176 | 0.868 | 0.233 | -0.078 | 297.0048 | 48.13413 | 15.436 |\n",
       "| 4 | 10848459 | K00754.01 | NA           | FALSE POSITIVE | FALSE POSITIVE | 0.000 | 0 | 1 | 0 | ⋯ | -174 | 4.564 | 0.053 | -0.168 | 0.791 | 0.201 | -0.067 | 285.5346 | 48.28521 | 15.597 |\n",
       "| 5 | 10854555 | K00755.01 | Kepler-664 b | CONFIRMED      | CANDIDATE      | 1.000 | 0 | 0 | 0 | ⋯ | -211 | 4.438 | 0.070 | -0.210 | 1.046 | 0.334 | -0.133 | 288.7549 | 48.22620 | 15.509 |\n",
       "| 6 | 10872983 | K00756.01 | Kepler-228 d | CONFIRMED      | CANDIDATE      | 1.000 | 0 | 0 | 0 | ⋯ | -232 | 4.486 | 0.054 | -0.229 | 0.972 | 0.315 | -0.105 | 296.2861 | 48.22467 | 15.714 |\n",
       "\n"
      ],
      "text/plain": [
       "  rowid kepid    kepoi_name kepler_name  koi_disposition koi_pdisposition\n",
       "1 1     10797460 K00752.01  Kepler-227 b CONFIRMED       CANDIDATE       \n",
       "2 2     10797460 K00752.02  Kepler-227 c CONFIRMED       CANDIDATE       \n",
       "3 3     10811496 K00753.01  NA           FALSE POSITIVE  FALSE POSITIVE  \n",
       "4 4     10848459 K00754.01  NA           FALSE POSITIVE  FALSE POSITIVE  \n",
       "5 5     10854555 K00755.01  Kepler-664 b CONFIRMED       CANDIDATE       \n",
       "6 6     10872983 K00756.01  Kepler-228 d CONFIRMED       CANDIDATE       \n",
       "  koi_score koi_fpflag_nt koi_fpflag_ss koi_fpflag_co ⋯ koi_steff_err2\n",
       "1 1.000     0             0             0             ⋯  -81          \n",
       "2 0.969     0             0             0             ⋯  -81          \n",
       "3 0.000     0             1             0             ⋯ -176          \n",
       "4 0.000     0             1             0             ⋯ -174          \n",
       "5 1.000     0             0             0             ⋯ -211          \n",
       "6 1.000     0             0             0             ⋯ -232          \n",
       "  koi_slogg koi_slogg_err1 koi_slogg_err2 koi_srad koi_srad_err1 koi_srad_err2\n",
       "1 4.467     0.064          -0.096         0.927    0.105         -0.061       \n",
       "2 4.467     0.064          -0.096         0.927    0.105         -0.061       \n",
       "3 4.544     0.044          -0.176         0.868    0.233         -0.078       \n",
       "4 4.564     0.053          -0.168         0.791    0.201         -0.067       \n",
       "5 4.438     0.070          -0.210         1.046    0.334         -0.133       \n",
       "6 4.486     0.054          -0.229         0.972    0.315         -0.105       \n",
       "  ra       dec      koi_kepmag\n",
       "1 291.9342 48.14165 15.347    \n",
       "2 291.9342 48.14165 15.347    \n",
       "3 297.0048 48.13413 15.436    \n",
       "4 285.5346 48.28521 15.597    \n",
       "5 288.7549 48.22620 15.509    \n",
       "6 296.2861 48.22467 15.714    "
      ]
     },
     "metadata": {},
     "output_type": "display_data"
    }
   ],
   "source": [
    "exoplanet <- read_csv(\"https://raw.githubusercontent.com/QuwackJ/dsci-100-group-37/main/Data/cumulative.csv?token=GHSAT0AAAAAACJLMIED7O62XE357P5RDVQ2ZJ3GMBQ\")\n",
    "head(exoplanet)"
   ]
  },
  {
   "cell_type": "code",
   "execution_count": null,
   "id": "dac98811-402b-4dbd-a97e-c24ea9ba6e0e",
   "metadata": {},
   "outputs": [],
   "source": []
  }
 ],
 "metadata": {
  "kernelspec": {
   "display_name": "R",
   "language": "R",
   "name": "ir"
  },
  "language_info": {
   "codemirror_mode": "r",
   "file_extension": ".r",
   "mimetype": "text/x-r-source",
   "name": "R",
   "pygments_lexer": "r",
   "version": "4.2.2"
  },
  "toc-autonumbering": false,
  "toc-showcode": false,
  "toc-showmarkdowntxt": false,
  "widgets": {
   "application/vnd.jupyter.widget-state+json": {
    "state": {},
    "version_major": 2,
    "version_minor": 0
   }
  }
 },
 "nbformat": 4,
 "nbformat_minor": 5
}
