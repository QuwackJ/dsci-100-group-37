{
 "cells": [
  {
   "cell_type": "markdown",
   "id": "a073cd39-5945-42bf-b57e-f319409759af",
   "metadata": {},
   "source": [
    "**Classifying Exoplanets: Exploring NASA's Kepler Space Observatory Dataset**"
   ]
  },
  {
   "cell_type": "markdown",
   "id": "f1a92ecb-d525-4cfc-a2be-e71ec2771fab",
   "metadata": {},
   "source": [
    "Space has always beckoned humanity to explore its depths. One of the most fascinating subjects in astronomical research is exoplanets, planets that orbit stars beyond our solar system. Examining exoplanets gives insight into planetary formation and evolution, critical information when searching for habitable planets.\n",
    "\n",
    "The Kepler Space Observatory, a NASA space telescope for finding exoplanets, has analyzed thousands of planets, especially ones that are roughly Earth-sized and located within the habitable zones of their parent stars. From 2009 to 2018, Kepler revolutionized our understanding of extrasolar systems by cross-checking previous observations of exoplanets and labeling them as confirmed planets, candidates, or false positives.\n",
    "\n",
    "Our primary question is: *Can we accurately classify celestial bodies as exoplanets based on their observed characteristics using the Kepler exoplanet dataset?*\n",
    "\n",
    "Our project will analyze the NASA Kepler exoplanet dataset from the Kepler Telescope. This dataset contains details about celestial objects, including their radius, transit, stellar luminosity, and other essential attributes. By analyzing this dataset, we hope to develop a predictive model that discerns exoplanets from other extrasolar entities, furthering our understanding of the universe."
   ]
  },
  {
   "cell_type": "code",
   "execution_count": 2,
   "id": "6e92c509-03bb-468e-b4fe-a5c3d99f8590",
   "metadata": {
    "tags": []
   },
   "outputs": [
    {
     "name": "stderr",
     "output_type": "stream",
     "text": [
      "── \u001b[1mAttaching packages\u001b[22m ─────────────────────────────────────── tidyverse 1.3.2 ──\n",
      "\u001b[32m✔\u001b[39m \u001b[34mggplot2\u001b[39m 3.4.2     \u001b[32m✔\u001b[39m \u001b[34mpurrr  \u001b[39m 1.0.1\n",
      "\u001b[32m✔\u001b[39m \u001b[34mtibble \u001b[39m 3.2.1     \u001b[32m✔\u001b[39m \u001b[34mdplyr  \u001b[39m 1.1.1\n",
      "\u001b[32m✔\u001b[39m \u001b[34mtidyr  \u001b[39m 1.3.0     \u001b[32m✔\u001b[39m \u001b[34mstringr\u001b[39m 1.5.0\n",
      "\u001b[32m✔\u001b[39m \u001b[34mreadr  \u001b[39m 2.1.3     \u001b[32m✔\u001b[39m \u001b[34mforcats\u001b[39m 0.5.2\n",
      "── \u001b[1mConflicts\u001b[22m ────────────────────────────────────────── tidyverse_conflicts() ──\n",
      "\u001b[31m✖\u001b[39m \u001b[34mdplyr\u001b[39m::\u001b[32mfilter()\u001b[39m masks \u001b[34mstats\u001b[39m::filter()\n",
      "\u001b[31m✖\u001b[39m \u001b[34mdplyr\u001b[39m::\u001b[32mlag()\u001b[39m    masks \u001b[34mstats\u001b[39m::lag()\n",
      "── \u001b[1mAttaching packages\u001b[22m ────────────────────────────────────── tidymodels 1.0.0 ──\n",
      "\n",
      "\u001b[32m✔\u001b[39m \u001b[34mbroom       \u001b[39m 1.0.2     \u001b[32m✔\u001b[39m \u001b[34mrsample     \u001b[39m 1.1.1\n",
      "\u001b[32m✔\u001b[39m \u001b[34mdials       \u001b[39m 1.1.0     \u001b[32m✔\u001b[39m \u001b[34mtune        \u001b[39m 1.0.1\n",
      "\u001b[32m✔\u001b[39m \u001b[34minfer       \u001b[39m 1.0.4     \u001b[32m✔\u001b[39m \u001b[34mworkflows   \u001b[39m 1.1.2\n",
      "\u001b[32m✔\u001b[39m \u001b[34mmodeldata   \u001b[39m 1.0.1     \u001b[32m✔\u001b[39m \u001b[34mworkflowsets\u001b[39m 1.0.0\n",
      "\u001b[32m✔\u001b[39m \u001b[34mparsnip     \u001b[39m 1.0.3     \u001b[32m✔\u001b[39m \u001b[34myardstick   \u001b[39m 1.1.0\n",
      "\u001b[32m✔\u001b[39m \u001b[34mrecipes     \u001b[39m 1.0.4     \n",
      "\n",
      "── \u001b[1mConflicts\u001b[22m ───────────────────────────────────────── tidymodels_conflicts() ──\n",
      "\u001b[31m✖\u001b[39m \u001b[34mscales\u001b[39m::\u001b[32mdiscard()\u001b[39m masks \u001b[34mpurrr\u001b[39m::discard()\n",
      "\u001b[31m✖\u001b[39m \u001b[34mdplyr\u001b[39m::\u001b[32mfilter()\u001b[39m   masks \u001b[34mstats\u001b[39m::filter()\n",
      "\u001b[31m✖\u001b[39m \u001b[34mrecipes\u001b[39m::\u001b[32mfixed()\u001b[39m  masks \u001b[34mstringr\u001b[39m::fixed()\n",
      "\u001b[31m✖\u001b[39m \u001b[34mdplyr\u001b[39m::\u001b[32mlag()\u001b[39m      masks \u001b[34mstats\u001b[39m::lag()\n",
      "\u001b[31m✖\u001b[39m \u001b[34myardstick\u001b[39m::\u001b[32mspec()\u001b[39m masks \u001b[34mreadr\u001b[39m::spec()\n",
      "\u001b[31m✖\u001b[39m \u001b[34mrecipes\u001b[39m::\u001b[32mstep()\u001b[39m   masks \u001b[34mstats\u001b[39m::step()\n",
      "\u001b[34m•\u001b[39m Learn how to get started at \u001b[32mhttps://www.tidymodels.org/start/\u001b[39m\n",
      "\n",
      "Warning message in file(filename, \"r\", encoding = encoding):\n",
      "“cannot open file 'tests.R': No such file or directory”\n"
     ]
    },
    {
     "ename": "ERROR",
     "evalue": "Error in file(filename, \"r\", encoding = encoding): cannot open the connection\n",
     "output_type": "error",
     "traceback": [
      "Error in file(filename, \"r\", encoding = encoding): cannot open the connection\nTraceback:\n",
      "1. source(\"tests.R\")",
      "2. file(filename, \"r\", encoding = encoding)"
     ]
    }
   ],
   "source": [
    "library(tidyverse)\n",
    "library(repr)\n",
    "library(tidymodels)\n",
    "options(repr.matrix.max.rows = 6)\n",
    "source('tests.R')\n",
    "source('cleanup.R')"
   ]
  },
  {
   "cell_type": "code",
   "execution_count": 3,
   "id": "ea587c07-fcd2-4254-8fad-d7c359a47222",
   "metadata": {
    "tags": []
   },
   "outputs": [
    {
     "name": "stderr",
     "output_type": "stream",
     "text": [
      "\u001b[1mRows: \u001b[22m\u001b[34m9564\u001b[39m \u001b[1mColumns: \u001b[22m\u001b[34m50\u001b[39m\n",
      "\u001b[36m──\u001b[39m \u001b[1mColumn specification\u001b[22m \u001b[36m────────────────────────────────────────────────────────\u001b[39m\n",
      "\u001b[1mDelimiter:\u001b[22m \",\"\n",
      "\u001b[31mchr\u001b[39m  (5): kepoi_name, kepler_name, koi_disposition, koi_pdisposition, koi_tc...\n",
      "\u001b[32mdbl\u001b[39m (43): rowid, kepid, koi_score, koi_fpflag_nt, koi_fpflag_ss, koi_fpflag_...\n",
      "\u001b[33mlgl\u001b[39m  (2): koi_teq_err1, koi_teq_err2\n",
      "\n",
      "\u001b[36mℹ\u001b[39m Use `spec()` to retrieve the full column specification for this data.\n",
      "\u001b[36mℹ\u001b[39m Specify the column types or set `show_col_types = FALSE` to quiet this message.\n"
     ]
    },
    {
     "data": {
      "text/html": [
       "<table class=\"dataframe\">\n",
       "<caption>A tibble: 6 × 5</caption>\n",
       "<thead>\n",
       "\t<tr><th scope=col>koi_disposition</th><th scope=col>koi_period</th><th scope=col>koi_depth</th><th scope=col>koi_duration</th><th scope=col>koi_impact</th></tr>\n",
       "\t<tr><th scope=col>&lt;chr&gt;</th><th scope=col>&lt;dbl&gt;</th><th scope=col>&lt;dbl&gt;</th><th scope=col>&lt;dbl&gt;</th><th scope=col>&lt;dbl&gt;</th></tr>\n",
       "</thead>\n",
       "<tbody>\n",
       "\t<tr><td>CANDIDATE     </td><td>47.1096306</td><td> 752.2</td><td>5.7410</td><td>1.230</td></tr>\n",
       "\t<tr><td>FALSE POSITIVE</td><td> 8.5898708</td><td>  87.7</td><td>4.8060</td><td>0.765</td></tr>\n",
       "\t<tr><td>FALSE POSITIVE</td><td> 0.5276985</td><td>1579.2</td><td>3.2221</td><td>1.252</td></tr>\n",
       "\t<tr><td>CANDIDATE     </td><td> 1.7398494</td><td>  48.5</td><td>3.1140</td><td>0.043</td></tr>\n",
       "\t<tr><td>FALSE POSITIVE</td><td> 0.6814016</td><td> 103.6</td><td>0.8650</td><td>0.147</td></tr>\n",
       "\t<tr><td>FALSE POSITIVE</td><td> 4.8560348</td><td>  76.7</td><td>3.0780</td><td>0.134</td></tr>\n",
       "</tbody>\n",
       "</table>\n"
      ],
      "text/latex": [
       "A tibble: 6 × 5\n",
       "\\begin{tabular}{lllll}\n",
       " koi\\_disposition & koi\\_period & koi\\_depth & koi\\_duration & koi\\_impact\\\\\n",
       " <chr> & <dbl> & <dbl> & <dbl> & <dbl>\\\\\n",
       "\\hline\n",
       "\t CANDIDATE      & 47.1096306 &  752.2 & 5.7410 & 1.230\\\\\n",
       "\t FALSE POSITIVE &  8.5898708 &   87.7 & 4.8060 & 0.765\\\\\n",
       "\t FALSE POSITIVE &  0.5276985 & 1579.2 & 3.2221 & 1.252\\\\\n",
       "\t CANDIDATE      &  1.7398494 &   48.5 & 3.1140 & 0.043\\\\\n",
       "\t FALSE POSITIVE &  0.6814016 &  103.6 & 0.8650 & 0.147\\\\\n",
       "\t FALSE POSITIVE &  4.8560348 &   76.7 & 3.0780 & 0.134\\\\\n",
       "\\end{tabular}\n"
      ],
      "text/markdown": [
       "\n",
       "A tibble: 6 × 5\n",
       "\n",
       "| koi_disposition &lt;chr&gt; | koi_period &lt;dbl&gt; | koi_depth &lt;dbl&gt; | koi_duration &lt;dbl&gt; | koi_impact &lt;dbl&gt; |\n",
       "|---|---|---|---|---|\n",
       "| CANDIDATE      | 47.1096306 |  752.2 | 5.7410 | 1.230 |\n",
       "| FALSE POSITIVE |  8.5898708 |   87.7 | 4.8060 | 0.765 |\n",
       "| FALSE POSITIVE |  0.5276985 | 1579.2 | 3.2221 | 1.252 |\n",
       "| CANDIDATE      |  1.7398494 |   48.5 | 3.1140 | 0.043 |\n",
       "| FALSE POSITIVE |  0.6814016 |  103.6 | 0.8650 | 0.147 |\n",
       "| FALSE POSITIVE |  4.8560348 |   76.7 | 3.0780 | 0.134 |\n",
       "\n"
      ],
      "text/plain": [
       "  koi_disposition koi_period koi_depth koi_duration koi_impact\n",
       "1 CANDIDATE       47.1096306  752.2    5.7410       1.230     \n",
       "2 FALSE POSITIVE   8.5898708   87.7    4.8060       0.765     \n",
       "3 FALSE POSITIVE   0.5276985 1579.2    3.2221       1.252     \n",
       "4 CANDIDATE        1.7398494   48.5    3.1140       0.043     \n",
       "5 FALSE POSITIVE   0.6814016  103.6    0.8650       0.147     \n",
       "6 FALSE POSITIVE   4.8560348   76.7    3.0780       0.134     "
      ]
     },
     "metadata": {},
     "output_type": "display_data"
    },
    {
     "data": {
      "text/html": [
       "<table class=\"dataframe\">\n",
       "<caption>A tibble: 1 × 4</caption>\n",
       "<thead>\n",
       "\t<tr><th scope=col>koi_period</th><th scope=col>koi_depth</th><th scope=col>koi_duration</th><th scope=col>koi_impact</th></tr>\n",
       "\t<tr><th scope=col>&lt;dbl&gt;</th><th scope=col>&lt;dbl&gt;</th><th scope=col>&lt;dbl&gt;</th><th scope=col>&lt;dbl&gt;</th></tr>\n",
       "</thead>\n",
       "<tbody>\n",
       "\t<tr><td>80.445</td><td>23356.05</td><td>5.641699</td><td>0.7256953</td></tr>\n",
       "</tbody>\n",
       "</table>\n"
      ],
      "text/latex": [
       "A tibble: 1 × 4\n",
       "\\begin{tabular}{llll}\n",
       " koi\\_period & koi\\_depth & koi\\_duration & koi\\_impact\\\\\n",
       " <dbl> & <dbl> & <dbl> & <dbl>\\\\\n",
       "\\hline\n",
       "\t 80.445 & 23356.05 & 5.641699 & 0.7256953\\\\\n",
       "\\end{tabular}\n"
      ],
      "text/markdown": [
       "\n",
       "A tibble: 1 × 4\n",
       "\n",
       "| koi_period &lt;dbl&gt; | koi_depth &lt;dbl&gt; | koi_duration &lt;dbl&gt; | koi_impact &lt;dbl&gt; |\n",
       "|---|---|---|---|\n",
       "| 80.445 | 23356.05 | 5.641699 | 0.7256953 |\n",
       "\n"
      ],
      "text/plain": [
       "  koi_period koi_depth koi_duration koi_impact\n",
       "1 80.445     23356.05  5.641699     0.7256953 "
      ]
     },
     "metadata": {},
     "output_type": "display_data"
    },
    {
     "data": {
      "text/html": [
       "<table class=\"dataframe\">\n",
       "<caption>A tibble: 1 × 4</caption>\n",
       "<thead>\n",
       "\t<tr><th scope=col>koi_period</th><th scope=col>koi_depth</th><th scope=col>koi_duration</th><th scope=col>koi_impact</th></tr>\n",
       "\t<tr><th scope=col>&lt;dbl&gt;</th><th scope=col>&lt;dbl&gt;</th><th scope=col>&lt;dbl&gt;</th><th scope=col>&lt;dbl&gt;</th></tr>\n",
       "</thead>\n",
       "<tbody>\n",
       "\t<tr><td>26.95055</td><td>1140.939</td><td>4.309482</td><td>0.4208111</td></tr>\n",
       "</tbody>\n",
       "</table>\n"
      ],
      "text/latex": [
       "A tibble: 1 × 4\n",
       "\\begin{tabular}{llll}\n",
       " koi\\_period & koi\\_depth & koi\\_duration & koi\\_impact\\\\\n",
       " <dbl> & <dbl> & <dbl> & <dbl>\\\\\n",
       "\\hline\n",
       "\t 26.95055 & 1140.939 & 4.309482 & 0.4208111\\\\\n",
       "\\end{tabular}\n"
      ],
      "text/markdown": [
       "\n",
       "A tibble: 1 × 4\n",
       "\n",
       "| koi_period &lt;dbl&gt; | koi_depth &lt;dbl&gt; | koi_duration &lt;dbl&gt; | koi_impact &lt;dbl&gt; |\n",
       "|---|---|---|---|\n",
       "| 26.95055 | 1140.939 | 4.309482 | 0.4208111 |\n",
       "\n"
      ],
      "text/plain": [
       "  koi_period koi_depth koi_duration koi_impact\n",
       "1 26.95055   1140.939  4.309482     0.4208111 "
      ]
     },
     "metadata": {},
     "output_type": "display_data"
    },
    {
     "data": {
      "text/html": [
       "<table class=\"dataframe\">\n",
       "<caption>A tibble: 1 × 4</caption>\n",
       "<thead>\n",
       "\t<tr><th scope=col>koi_period</th><th scope=col>koi_depth</th><th scope=col>koi_duration</th><th scope=col>koi_impact</th></tr>\n",
       "\t<tr><th scope=col>&lt;dbl&gt;</th><th scope=col>&lt;dbl&gt;</th><th scope=col>&lt;dbl&gt;</th><th scope=col>&lt;dbl&gt;</th></tr>\n",
       "</thead>\n",
       "<tbody>\n",
       "\t<tr><td>73.64063</td><td>44131.4</td><td>6.607775</td><td>0.9504213</td></tr>\n",
       "</tbody>\n",
       "</table>\n"
      ],
      "text/latex": [
       "A tibble: 1 × 4\n",
       "\\begin{tabular}{llll}\n",
       " koi\\_period & koi\\_depth & koi\\_duration & koi\\_impact\\\\\n",
       " <dbl> & <dbl> & <dbl> & <dbl>\\\\\n",
       "\\hline\n",
       "\t 73.64063 & 44131.4 & 6.607775 & 0.9504213\\\\\n",
       "\\end{tabular}\n"
      ],
      "text/markdown": [
       "\n",
       "A tibble: 1 × 4\n",
       "\n",
       "| koi_period &lt;dbl&gt; | koi_depth &lt;dbl&gt; | koi_duration &lt;dbl&gt; | koi_impact &lt;dbl&gt; |\n",
       "|---|---|---|---|\n",
       "| 73.64063 | 44131.4 | 6.607775 | 0.9504213 |\n",
       "\n"
      ],
      "text/plain": [
       "  koi_period koi_depth koi_duration koi_impact\n",
       "1 73.64063   44131.4   6.607775     0.9504213 "
      ]
     },
     "metadata": {},
     "output_type": "display_data"
    }
   ],
   "source": [
    "\n",
    "##Reaing the data \n",
    "exoplanet <- read_csv(\"https://raw.githubusercontent.com/QuwackJ/dsci-100-group-37/main/Data/cumulative.csv\")\n",
    "\n",
    "\n",
    "##Selecting for our predictors\n",
    "exoplanet_selected <- exoplanet |>\n",
    "                        select(koi_disposition, koi_period, koi_depth, koi_duration, koi_impact)\n",
    "\n",
    "\n",
    "tail(exoplanet_selected)\n",
    "\n",
    "##splitting into training and testing data\n",
    "exoplanet_split <- initial_split(exoplanet_selected, prop = 0.75, strata = koi_disposition)\n",
    "training_data <- training(exoplanet_split)   \n",
    "testing_data <- testing(exoplanet_split)\n",
    "\n",
    "\n",
    "\n",
    "# COUNT of all CONFIRMED, FALSE POSITIVE, and CANDIDATE planets"
   ]
  },
  {
   "cell_type": "code",
   "execution_count": 4,
   "id": "dac98811-402b-4dbd-a97e-c24ea9ba6e0e",
   "metadata": {
    "tags": []
   },
   "outputs": [
    {
     "ename": "ERROR",
     "evalue": "Error in parse(text = x, srcfile = src): <text>:1:6: unexpected symbol\n1: Mean value\n         ^\n",
     "output_type": "error",
     "traceback": [
      "Error in parse(text = x, srcfile = src): <text>:1:6: unexpected symbol\n1: Mean value\n         ^\nTraceback:\n"
     ]
    }
   ],
   "source": [
    "Mean value of all predictors for the whole dataset\n"
   ]
  },
  {
   "cell_type": "code",
   "execution_count": 5,
   "id": "5f611e1e-768f-4e78-9dc8-84518bc160e4",
   "metadata": {
    "tags": []
   },
   "outputs": [
    {
     "data": {
      "text/html": [
       "<table class=\"dataframe\">\n",
       "<caption>A tibble: 1 × 4</caption>\n",
       "<thead>\n",
       "\t<tr><th scope=col>koi_period</th><th scope=col>koi_depth</th><th scope=col>koi_duration</th><th scope=col>koi_impact</th></tr>\n",
       "\t<tr><th scope=col>&lt;dbl&gt;</th><th scope=col>&lt;dbl&gt;</th><th scope=col>&lt;dbl&gt;</th><th scope=col>&lt;dbl&gt;</th></tr>\n",
       "</thead>\n",
       "<tbody>\n",
       "\t<tr><td>80.445</td><td>23356.05</td><td>5.641699</td><td>0.7256953</td></tr>\n",
       "</tbody>\n",
       "</table>\n"
      ],
      "text/latex": [
       "A tibble: 1 × 4\n",
       "\\begin{tabular}{llll}\n",
       " koi\\_period & koi\\_depth & koi\\_duration & koi\\_impact\\\\\n",
       " <dbl> & <dbl> & <dbl> & <dbl>\\\\\n",
       "\\hline\n",
       "\t 80.445 & 23356.05 & 5.641699 & 0.7256953\\\\\n",
       "\\end{tabular}\n"
      ],
      "text/markdown": [
       "\n",
       "A tibble: 1 × 4\n",
       "\n",
       "| koi_period &lt;dbl&gt; | koi_depth &lt;dbl&gt; | koi_duration &lt;dbl&gt; | koi_impact &lt;dbl&gt; |\n",
       "|---|---|---|---|\n",
       "| 80.445 | 23356.05 | 5.641699 | 0.7256953 |\n",
       "\n"
      ],
      "text/plain": [
       "  koi_period koi_depth koi_duration koi_impact\n",
       "1 80.445     23356.05  5.641699     0.7256953 "
      ]
     },
     "metadata": {},
     "output_type": "display_data"
    }
   ],
   "source": [
    "##MEAN value of all predictors for the whole dataset\n",
    "summary_table <- training_data |>\n",
    "                    select(-koi_disposition) |>\n",
    "                    map_df(mean, na.rm = TRUE)\n",
    "summary_table"
   ]
  },
  {
   "cell_type": "code",
   "execution_count": 6,
   "id": "ac0b0136-a7ec-4284-8fb1-a5c60adc73d4",
   "metadata": {
    "tags": []
   },
   "outputs": [
    {
     "ename": "ERROR",
     "evalue": "Error in parse(text = x, srcfile = src): <text>:1:6: unexpected symbol\n1: Mean value\n         ^\n",
     "output_type": "error",
     "traceback": [
      "Error in parse(text = x, srcfile = src): <text>:1:6: unexpected symbol\n1: Mean value\n         ^\nTraceback:\n"
     ]
    }
   ],
   "source": [
    "Mean value of all predictors for confirmed exoplanets"
   ]
  },
  {
   "cell_type": "code",
   "execution_count": 7,
   "id": "f58b883a-dcdb-40f5-a2cc-9fcb8bb29f87",
   "metadata": {
    "tags": []
   },
   "outputs": [
    {
     "data": {
      "text/html": [
       "<table class=\"dataframe\">\n",
       "<caption>A tibble: 1 × 4</caption>\n",
       "<thead>\n",
       "\t<tr><th scope=col>koi_period</th><th scope=col>koi_depth</th><th scope=col>koi_duration</th><th scope=col>koi_impact</th></tr>\n",
       "\t<tr><th scope=col>&lt;dbl&gt;</th><th scope=col>&lt;dbl&gt;</th><th scope=col>&lt;dbl&gt;</th><th scope=col>&lt;dbl&gt;</th></tr>\n",
       "</thead>\n",
       "<tbody>\n",
       "\t<tr><td>26.95055</td><td>1140.939</td><td>4.309482</td><td>0.4208111</td></tr>\n",
       "</tbody>\n",
       "</table>\n"
      ],
      "text/latex": [
       "A tibble: 1 × 4\n",
       "\\begin{tabular}{llll}\n",
       " koi\\_period & koi\\_depth & koi\\_duration & koi\\_impact\\\\\n",
       " <dbl> & <dbl> & <dbl> & <dbl>\\\\\n",
       "\\hline\n",
       "\t 26.95055 & 1140.939 & 4.309482 & 0.4208111\\\\\n",
       "\\end{tabular}\n"
      ],
      "text/markdown": [
       "\n",
       "A tibble: 1 × 4\n",
       "\n",
       "| koi_period &lt;dbl&gt; | koi_depth &lt;dbl&gt; | koi_duration &lt;dbl&gt; | koi_impact &lt;dbl&gt; |\n",
       "|---|---|---|---|\n",
       "| 26.95055 | 1140.939 | 4.309482 | 0.4208111 |\n",
       "\n"
      ],
      "text/plain": [
       "  koi_period koi_depth koi_duration koi_impact\n",
       "1 26.95055   1140.939  4.309482     0.4208111 "
      ]
     },
     "metadata": {},
     "output_type": "display_data"
    }
   ],
   "source": [
    "##MEAN value of all predictors for confirmed exoplanets\n",
    "summary_table_confirmed <- training_data |>\n",
    "                    filter(koi_disposition == \"CONFIRMED\") |>\n",
    "                    select(-koi_disposition) |>\n",
    "                    map_df(mean, na.rm = TRUE)\n",
    "summary_table_confirmed"
   ]
  },
  {
   "cell_type": "code",
   "execution_count": 8,
   "id": "f6ec6e08-685a-475a-a4af-2bf42f3e2b01",
   "metadata": {
    "tags": []
   },
   "outputs": [
    {
     "ename": "ERROR",
     "evalue": "Error in parse(text = x, srcfile = src): <text>:1:6: unexpected symbol\n1: Mean value\n         ^\n",
     "output_type": "error",
     "traceback": [
      "Error in parse(text = x, srcfile = src): <text>:1:6: unexpected symbol\n1: Mean value\n         ^\nTraceback:\n"
     ]
    }
   ],
   "source": [
    "Mean value of all predictors for false positives that are not exoplanets"
   ]
  },
  {
   "cell_type": "code",
   "execution_count": 9,
   "id": "7a88bcf8-3d11-4452-a30b-2f77df781e13",
   "metadata": {
    "tags": []
   },
   "outputs": [
    {
     "data": {
      "text/html": [
       "<table class=\"dataframe\">\n",
       "<caption>A tibble: 1 × 4</caption>\n",
       "<thead>\n",
       "\t<tr><th scope=col>koi_period</th><th scope=col>koi_depth</th><th scope=col>koi_duration</th><th scope=col>koi_impact</th></tr>\n",
       "\t<tr><th scope=col>&lt;dbl&gt;</th><th scope=col>&lt;dbl&gt;</th><th scope=col>&lt;dbl&gt;</th><th scope=col>&lt;dbl&gt;</th></tr>\n",
       "</thead>\n",
       "<tbody>\n",
       "\t<tr><td>73.64063</td><td>44131.4</td><td>6.607775</td><td>0.9504213</td></tr>\n",
       "</tbody>\n",
       "</table>\n"
      ],
      "text/latex": [
       "A tibble: 1 × 4\n",
       "\\begin{tabular}{llll}\n",
       " koi\\_period & koi\\_depth & koi\\_duration & koi\\_impact\\\\\n",
       " <dbl> & <dbl> & <dbl> & <dbl>\\\\\n",
       "\\hline\n",
       "\t 73.64063 & 44131.4 & 6.607775 & 0.9504213\\\\\n",
       "\\end{tabular}\n"
      ],
      "text/markdown": [
       "\n",
       "A tibble: 1 × 4\n",
       "\n",
       "| koi_period &lt;dbl&gt; | koi_depth &lt;dbl&gt; | koi_duration &lt;dbl&gt; | koi_impact &lt;dbl&gt; |\n",
       "|---|---|---|---|\n",
       "| 73.64063 | 44131.4 | 6.607775 | 0.9504213 |\n",
       "\n"
      ],
      "text/plain": [
       "  koi_period koi_depth koi_duration koi_impact\n",
       "1 73.64063   44131.4   6.607775     0.9504213 "
      ]
     },
     "metadata": {},
     "output_type": "display_data"
    }
   ],
   "source": [
    "summary_table_false <- training_data |>\n",
    "                    filter(koi_disposition == \"FALSE POSITIVE\") |>\n",
    "                    select(-koi_disposition) |>\n",
    "                    map_df(mean, na.rm = TRUE)\n",
    "summary_table_false"
   ]
  },
  {
   "cell_type": "code",
   "execution_count": null,
   "id": "cc5f92e1-0826-427b-9f9d-c60cee5620a0",
   "metadata": {},
   "outputs": [],
   "source": []
  }
 ],
 "metadata": {
  "kernelspec": {
   "display_name": "R",
   "language": "R",
   "name": "ir"
  },
  "language_info": {
   "codemirror_mode": "r",
   "file_extension": ".r",
   "mimetype": "text/x-r-source",
   "name": "R",
   "pygments_lexer": "r",
   "version": "4.2.2"
  },
  "toc-autonumbering": false,
  "toc-showcode": false,
  "toc-showmarkdowntxt": false,
  "widgets": {
   "application/vnd.jupyter.widget-state+json": {
    "state": {},
    "version_major": 2,
    "version_minor": 0
   }
  }
 },
 "nbformat": 4,
 "nbformat_minor": 5
}
