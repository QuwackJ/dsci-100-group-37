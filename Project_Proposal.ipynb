{
 "cells": [
  {
   "cell_type": "markdown",
   "id": "a073cd39-5945-42bf-b57e-f319409759af",
   "metadata": {},
   "source": [
    "**Classifying Exoplanets: Exploring NASA's Kepler Space Observatory Dataset**"
   ]
  },
  {
   "cell_type": "markdown",
   "id": "f1a92ecb-d525-4cfc-a2be-e71ec2771fab",
   "metadata": {},
   "source": [
    "Space has always beckoned humanity to explore its depths. One of the most fascinating subjects in astronomical research is exoplanets, planets that orbit stars beyond our solar system. Examining exoplanets gives insight into planetary formation and evolution, critical information when searching for habitable planets.\n",
    "\n",
    "The Kepler Space Observatory, a NASA space telescope for finding exoplanets, has analyzed thousands of planets, especially ones that are roughly Earth-sized and located within the habitable zones of their parent stars. From 2009 to 2018, Kepler revolutionized our understanding of extrasolar systems by cross-checking previous observations of exoplanets and labeling them as confirmed planets, candidates, or false positives.\n",
    "\n",
    "Our primary question is: *Can we accurately classify celestial bodies as exoplanets based on their observed characteristics using the Kepler exoplanet dataset?*\n",
    "\n",
    "Our project will analyze the NASA Kepler exoplanet dataset from the Kepler Telescope. This dataset contains details about celestial objects, including their radius, transit, stellar luminosity, and other essential attributes. By analyzing this dataset, we hope to develop a predictive model that discerns exoplanets from other extrasolar entities, furthering our understanding of the universe."
   ]
  },
  {
   "cell_type": "code",
   "execution_count": 4,
   "id": "6e92c509-03bb-468e-b4fe-a5c3d99f8590",
   "metadata": {
    "tags": []
   },
   "outputs": [],
   "source": [
    "library(tidyverse)\n",
    "library(repr)\n",
    "library(tidymodels)\n",
    "options(repr.matrix.max.rows = 6)"
   ]
  },
  {
   "cell_type": "code",
   "execution_count": 5,
   "id": "ea587c07-fcd2-4254-8fad-d7c359a47222",
   "metadata": {
    "tags": []
   },
   "outputs": [
    {
     "name": "stderr",
     "output_type": "stream",
     "text": [
      "\u001b[1mRows: \u001b[22m\u001b[34m9564\u001b[39m \u001b[1mColumns: \u001b[22m\u001b[34m50\u001b[39m\n",
      "\u001b[36m──\u001b[39m \u001b[1mColumn specification\u001b[22m \u001b[36m────────────────────────────────────────────────────────\u001b[39m\n",
      "\u001b[1mDelimiter:\u001b[22m \",\"\n",
      "\u001b[31mchr\u001b[39m  (5): kepoi_name, kepler_name, koi_disposition, koi_pdisposition, koi_tc...\n",
      "\u001b[32mdbl\u001b[39m (43): rowid, kepid, koi_score, koi_fpflag_nt, koi_fpflag_ss, koi_fpflag_...\n",
      "\u001b[33mlgl\u001b[39m  (2): koi_teq_err1, koi_teq_err2\n",
      "\n",
      "\u001b[36mℹ\u001b[39m Use `spec()` to retrieve the full column specification for this data.\n",
      "\u001b[36mℹ\u001b[39m Specify the column types or set `show_col_types = FALSE` to quiet this message.\n"
     ]
    },
    {
     "data": {
      "text/html": [
       "<table class=\"dataframe\">\n",
       "<caption>A tibble: 6 × 5</caption>\n",
       "<thead>\n",
       "\t<tr><th scope=col>koi_disposition</th><th scope=col>koi_period</th><th scope=col>koi_depth</th><th scope=col>koi_duration</th><th scope=col>koi_impact</th></tr>\n",
       "\t<tr><th scope=col>&lt;chr&gt;</th><th scope=col>&lt;dbl&gt;</th><th scope=col>&lt;dbl&gt;</th><th scope=col>&lt;dbl&gt;</th><th scope=col>&lt;dbl&gt;</th></tr>\n",
       "</thead>\n",
       "<tbody>\n",
       "\t<tr><td>CANDIDATE     </td><td>47.1096306</td><td> 752.2</td><td>5.7410</td><td>1.230</td></tr>\n",
       "\t<tr><td>FALSE POSITIVE</td><td> 8.5898708</td><td>  87.7</td><td>4.8060</td><td>0.765</td></tr>\n",
       "\t<tr><td>FALSE POSITIVE</td><td> 0.5276985</td><td>1579.2</td><td>3.2221</td><td>1.252</td></tr>\n",
       "\t<tr><td>CANDIDATE     </td><td> 1.7398494</td><td>  48.5</td><td>3.1140</td><td>0.043</td></tr>\n",
       "\t<tr><td>FALSE POSITIVE</td><td> 0.6814016</td><td> 103.6</td><td>0.8650</td><td>0.147</td></tr>\n",
       "\t<tr><td>FALSE POSITIVE</td><td> 4.8560348</td><td>  76.7</td><td>3.0780</td><td>0.134</td></tr>\n",
       "</tbody>\n",
       "</table>\n"
      ],
      "text/latex": [
       "A tibble: 6 × 5\n",
       "\\begin{tabular}{lllll}\n",
       " koi\\_disposition & koi\\_period & koi\\_depth & koi\\_duration & koi\\_impact\\\\\n",
       " <chr> & <dbl> & <dbl> & <dbl> & <dbl>\\\\\n",
       "\\hline\n",
       "\t CANDIDATE      & 47.1096306 &  752.2 & 5.7410 & 1.230\\\\\n",
       "\t FALSE POSITIVE &  8.5898708 &   87.7 & 4.8060 & 0.765\\\\\n",
       "\t FALSE POSITIVE &  0.5276985 & 1579.2 & 3.2221 & 1.252\\\\\n",
       "\t CANDIDATE      &  1.7398494 &   48.5 & 3.1140 & 0.043\\\\\n",
       "\t FALSE POSITIVE &  0.6814016 &  103.6 & 0.8650 & 0.147\\\\\n",
       "\t FALSE POSITIVE &  4.8560348 &   76.7 & 3.0780 & 0.134\\\\\n",
       "\\end{tabular}\n"
      ],
      "text/markdown": [
       "\n",
       "A tibble: 6 × 5\n",
       "\n",
       "| koi_disposition &lt;chr&gt; | koi_period &lt;dbl&gt; | koi_depth &lt;dbl&gt; | koi_duration &lt;dbl&gt; | koi_impact &lt;dbl&gt; |\n",
       "|---|---|---|---|---|\n",
       "| CANDIDATE      | 47.1096306 |  752.2 | 5.7410 | 1.230 |\n",
       "| FALSE POSITIVE |  8.5898708 |   87.7 | 4.8060 | 0.765 |\n",
       "| FALSE POSITIVE |  0.5276985 | 1579.2 | 3.2221 | 1.252 |\n",
       "| CANDIDATE      |  1.7398494 |   48.5 | 3.1140 | 0.043 |\n",
       "| FALSE POSITIVE |  0.6814016 |  103.6 | 0.8650 | 0.147 |\n",
       "| FALSE POSITIVE |  4.8560348 |   76.7 | 3.0780 | 0.134 |\n",
       "\n"
      ],
      "text/plain": [
       "  koi_disposition koi_period koi_depth koi_duration koi_impact\n",
       "1 CANDIDATE       47.1096306  752.2    5.7410       1.230     \n",
       "2 FALSE POSITIVE   8.5898708   87.7    4.8060       0.765     \n",
       "3 FALSE POSITIVE   0.5276985 1579.2    3.2221       1.252     \n",
       "4 CANDIDATE        1.7398494   48.5    3.1140       0.043     \n",
       "5 FALSE POSITIVE   0.6814016  103.6    0.8650       0.147     \n",
       "6 FALSE POSITIVE   4.8560348   76.7    3.0780       0.134     "
      ]
     },
     "metadata": {},
     "output_type": "display_data"
    }
   ],
   "source": [
    "\n",
    "##Reading the data \n",
    "exoplanet <- read_csv(\"https://raw.githubusercontent.com/QuwackJ/dsci-100-group-37/main/Data/cumulative.csv\")\n",
    "\n",
    "\n",
    "##Selecting for our predictors\n",
    "exoplanet_selected <- exoplanet |>\n",
    "                        select(koi_disposition, koi_period, koi_depth, koi_duration, koi_impact)\n",
    "\n",
    "\n",
    "tail(exoplanet_selected)\n",
    "\n",
    "##splitting into training and testing data\n",
    "exoplanet_split <- initial_split(exoplanet_selected, prop = 0.75, strata = koi_disposition)\n",
    "training_data <- training(exoplanet_split)   \n",
    "testing_data <- testing(exoplanet_split)\n",
    "\n",
    "\n",
    "\n",
    "# COUNT of all CONFIRMED, FALSE POSITIVE, and CANDIDATE planets"
   ]
  },
  {
   "cell_type": "markdown",
   "id": "2b59fd82-0ae7-4978-b0cc-61c0d6af80f2",
   "metadata": {
    "tags": []
   },
   "source": [
    "Mean value of all predictors for the whole dataset\n"
   ]
  },
  {
   "cell_type": "code",
   "execution_count": 5,
   "id": "5f611e1e-768f-4e78-9dc8-84518bc160e4",
   "metadata": {
    "tags": []
   },
   "outputs": [
    {
     "data": {
      "text/html": [
       "<table class=\"dataframe\">\n",
       "<caption>A tibble: 1 × 4</caption>\n",
       "<thead>\n",
       "\t<tr><th scope=col>koi_period</th><th scope=col>koi_depth</th><th scope=col>koi_duration</th><th scope=col>koi_impact</th></tr>\n",
       "\t<tr><th scope=col>&lt;dbl&gt;</th><th scope=col>&lt;dbl&gt;</th><th scope=col>&lt;dbl&gt;</th><th scope=col>&lt;dbl&gt;</th></tr>\n",
       "</thead>\n",
       "<tbody>\n",
       "\t<tr><td>80.445</td><td>23356.05</td><td>5.641699</td><td>0.7256953</td></tr>\n",
       "</tbody>\n",
       "</table>\n"
      ],
      "text/latex": [
       "A tibble: 1 × 4\n",
       "\\begin{tabular}{llll}\n",
       " koi\\_period & koi\\_depth & koi\\_duration & koi\\_impact\\\\\n",
       " <dbl> & <dbl> & <dbl> & <dbl>\\\\\n",
       "\\hline\n",
       "\t 80.445 & 23356.05 & 5.641699 & 0.7256953\\\\\n",
       "\\end{tabular}\n"
      ],
      "text/markdown": [
       "\n",
       "A tibble: 1 × 4\n",
       "\n",
       "| koi_period &lt;dbl&gt; | koi_depth &lt;dbl&gt; | koi_duration &lt;dbl&gt; | koi_impact &lt;dbl&gt; |\n",
       "|---|---|---|---|\n",
       "| 80.445 | 23356.05 | 5.641699 | 0.7256953 |\n",
       "\n"
      ],
      "text/plain": [
       "  koi_period koi_depth koi_duration koi_impact\n",
       "1 80.445     23356.05  5.641699     0.7256953 "
      ]
     },
     "metadata": {},
     "output_type": "display_data"
    }
   ],
   "source": [
    "##MEAN value of all predictors for the whole dataset\n",
    "summary_table <- training_data |>\n",
    "                    select(-koi_disposition) |>\n",
    "                    map_df(mean, na.rm = TRUE)\n",
    "summary_table"
   ]
  },
  {
   "cell_type": "markdown",
   "id": "ce308d3b-e753-4796-9464-aaca6e0d24d4",
   "metadata": {
    "tags": []
   },
   "source": [
    "Mean value of all predictors for confirmed exoplanets"
   ]
  },
  {
   "cell_type": "code",
   "execution_count": 7,
   "id": "f58b883a-dcdb-40f5-a2cc-9fcb8bb29f87",
   "metadata": {
    "tags": []
   },
   "outputs": [
    {
     "data": {
      "text/html": [
       "<table class=\"dataframe\">\n",
       "<caption>A tibble: 1 × 4</caption>\n",
       "<thead>\n",
       "\t<tr><th scope=col>koi_period</th><th scope=col>koi_depth</th><th scope=col>koi_duration</th><th scope=col>koi_impact</th></tr>\n",
       "\t<tr><th scope=col>&lt;dbl&gt;</th><th scope=col>&lt;dbl&gt;</th><th scope=col>&lt;dbl&gt;</th><th scope=col>&lt;dbl&gt;</th></tr>\n",
       "</thead>\n",
       "<tbody>\n",
       "\t<tr><td>26.95055</td><td>1140.939</td><td>4.309482</td><td>0.4208111</td></tr>\n",
       "</tbody>\n",
       "</table>\n"
      ],
      "text/latex": [
       "A tibble: 1 × 4\n",
       "\\begin{tabular}{llll}\n",
       " koi\\_period & koi\\_depth & koi\\_duration & koi\\_impact\\\\\n",
       " <dbl> & <dbl> & <dbl> & <dbl>\\\\\n",
       "\\hline\n",
       "\t 26.95055 & 1140.939 & 4.309482 & 0.4208111\\\\\n",
       "\\end{tabular}\n"
      ],
      "text/markdown": [
       "\n",
       "A tibble: 1 × 4\n",
       "\n",
       "| koi_period &lt;dbl&gt; | koi_depth &lt;dbl&gt; | koi_duration &lt;dbl&gt; | koi_impact &lt;dbl&gt; |\n",
       "|---|---|---|---|\n",
       "| 26.95055 | 1140.939 | 4.309482 | 0.4208111 |\n",
       "\n"
      ],
      "text/plain": [
       "  koi_period koi_depth koi_duration koi_impact\n",
       "1 26.95055   1140.939  4.309482     0.4208111 "
      ]
     },
     "metadata": {},
     "output_type": "display_data"
    }
   ],
   "source": [
    "##MEAN value of all predictors for confirmed exoplanets\n",
    "summary_table_confirmed <- training_data |>\n",
    "                    filter(koi_disposition == \"CONFIRMED\") |>\n",
    "                    select(-koi_disposition) |>\n",
    "                    map_df(mean, na.rm = TRUE)\n",
    "summary_table_confirmed"
   ]
  },
  {
   "cell_type": "markdown",
   "id": "cb13b61c-5f4e-4385-93ab-d93f854caf99",
   "metadata": {
    "tags": []
   },
   "source": [
    "Mean value of all predictors for false positives that are not exoplanets"
   ]
  },
  {
   "cell_type": "code",
   "execution_count": 9,
   "id": "7a88bcf8-3d11-4452-a30b-2f77df781e13",
   "metadata": {
    "tags": []
   },
   "outputs": [
    {
     "data": {
      "text/html": [
       "<table class=\"dataframe\">\n",
       "<caption>A tibble: 1 × 4</caption>\n",
       "<thead>\n",
       "\t<tr><th scope=col>koi_period</th><th scope=col>koi_depth</th><th scope=col>koi_duration</th><th scope=col>koi_impact</th></tr>\n",
       "\t<tr><th scope=col>&lt;dbl&gt;</th><th scope=col>&lt;dbl&gt;</th><th scope=col>&lt;dbl&gt;</th><th scope=col>&lt;dbl&gt;</th></tr>\n",
       "</thead>\n",
       "<tbody>\n",
       "\t<tr><td>73.64063</td><td>44131.4</td><td>6.607775</td><td>0.9504213</td></tr>\n",
       "</tbody>\n",
       "</table>\n"
      ],
      "text/latex": [
       "A tibble: 1 × 4\n",
       "\\begin{tabular}{llll}\n",
       " koi\\_period & koi\\_depth & koi\\_duration & koi\\_impact\\\\\n",
       " <dbl> & <dbl> & <dbl> & <dbl>\\\\\n",
       "\\hline\n",
       "\t 73.64063 & 44131.4 & 6.607775 & 0.9504213\\\\\n",
       "\\end{tabular}\n"
      ],
      "text/markdown": [
       "\n",
       "A tibble: 1 × 4\n",
       "\n",
       "| koi_period &lt;dbl&gt; | koi_depth &lt;dbl&gt; | koi_duration &lt;dbl&gt; | koi_impact &lt;dbl&gt; |\n",
       "|---|---|---|---|\n",
       "| 73.64063 | 44131.4 | 6.607775 | 0.9504213 |\n",
       "\n"
      ],
      "text/plain": [
       "  koi_period koi_depth koi_duration koi_impact\n",
       "1 73.64063   44131.4   6.607775     0.9504213 "
      ]
     },
     "metadata": {},
     "output_type": "display_data"
    }
   ],
   "source": [
    "summary_table_false <- training_data |>\n",
    "                    filter(koi_disposition == \"FALSE POSITIVE\") |>\n",
    "                    select(-koi_disposition) |>\n",
    "                    map_df(mean, na.rm = TRUE)\n",
    "summary_table_false"
   ]
  },
  {
   "cell_type": "markdown",
   "id": "37a60b54-1b5d-41c8-9255-0cb784a1451c",
   "metadata": {},
   "source": [
    "## Methods"
   ]
  },
  {
   "cell_type": "markdown",
   "id": "2b6d7850-2572-4247-8485-1f3afffd21b4",
   "metadata": {},
   "source": [
    "Using the NASA Kepler exoplanet dataset, we aim to perform **K-nearest neighbor classification** and predict the most probable physical explanation of a KOI (Kepler Object of Interest). Since our objective is simply to classify whether a celestial body is an exoplanet or not, without delving into specifics about the planet type, we focus on the features that are most indicative of a planet's presence. In this context, the most crucial columns to include in our model to leverage the data most directly associated to exoplanets would be:\n",
    "\n",
    "### Categorical variable:\n",
    " - **koi_disposition:** Category of a KOI from the Exoplanet Archive and using Kepler Data. A KOI can be classified into:\n",
    "     - **Confirmed**: is an exoplanet\n",
    "     - **False Positive**: failed one or more tests\n",
    "     - **Candidate**: passed all prior tests but does not mean that all tests have been conducted.\n",
    "     - **Not dispositioned**: Not enough tests have been performed\n",
    "     \n",
    "### Predictor variables:\n",
    " - **koi_period (Orbital period):** The presence of a consistent orbital period is one of the primary methods for detecting exoplanets, especially with the transit method.\n",
    " - **koi_depth (Transit depth):** The amount by which the star's brightness drops during a transit (indicative of a planet passing in front of the star). A significant, repeatable transit depth is a strong signal of an exoplanet.\n",
    " - **koi_duration (Transit Duration):** Gives information about the size and speed of the orbiting body. Together with orbital period and transit depth, it helps confirm the presence of a planet and rules out other phenomena like binary stars.\n",
    " - **koi_impact (Impact Parameter):** Sky-projected distance of the planet's path across the stellar disc. A feasible impact parameter, in conjunction with other transit characteristics, can help confirm the transit signals are due to a planet.\n",
    "\n",
    "We have included a **bar graph** to compare the total counts of all dispositions of the exoplanets in the dataset used. \\\n",
    "We also have some **scatter plots** comparing the different predictors we are using against one another."
   ]
  },
  {
   "cell_type": "code",
   "execution_count": null,
   "id": "80554310-57aa-4eff-811b-b831495ee451",
   "metadata": {},
   "outputs": [],
   "source": []
  }
 ],
 "metadata": {
  "kernelspec": {
   "display_name": "R",
   "language": "R",
   "name": "ir"
  },
  "language_info": {
   "codemirror_mode": "r",
   "file_extension": ".r",
   "mimetype": "text/x-r-source",
   "name": "R",
   "pygments_lexer": "r",
   "version": "4.2.2"
  },
  "toc-autonumbering": false,
  "toc-showcode": false,
  "toc-showmarkdowntxt": false,
  "widgets": {
   "application/vnd.jupyter.widget-state+json": {
    "state": {},
    "version_major": 2,
    "version_minor": 0
   }
  }
 },
 "nbformat": 4,
 "nbformat_minor": 5
}
