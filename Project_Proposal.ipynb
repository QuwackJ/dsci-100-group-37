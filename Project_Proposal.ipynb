{
 "cells": [
  {
   "cell_type": "markdown",
   "id": "a073cd39-5945-42bf-b57e-f319409759af",
   "metadata": {},
   "source": [
    "**Classifying Exoplanets: Exploring NASA's Kepler Space Observatory Dataset**"
   ]
  },
  {
   "cell_type": "markdown",
   "id": "f1a92ecb-d525-4cfc-a2be-e71ec2771fab",
   "metadata": {},
   "source": [
    "Space has always beckoned humanity to explore its depths. One of the most fascinating subjects in astronomical research is exoplanets, planets that orbit stars beyond our solar system. Examining exoplanets gives insight into planetary formation and evolution, critical information when searching for habitable planets.\n",
    "\n",
    "The Kepler Space Observatory, a NASA space telescope for finding exoplanets, has analyzed thousands of planets, especially ones that are roughly Earth-sized and located within the habitable zones of their parent stars. From 2009 to 2018, Kepler revolutionized our understanding of extrasolar systems by cross-checking previous observations of exoplanets and labeling them as confirmed planets, candidates, or false positives.\n",
    "\n",
    "Our primary question is: *Can we accurately classify celestial bodies as exoplanets based on their observed characteristics using the Kepler exoplanet dataset?*\n",
    "\n",
    "Our project will analyze the NASA Kepler exoplanet dataset from the Kepler Telescope. This dataset contains details about celestial objects, including their radius, transit, stellar luminosity, and other essential attributes. By analyzing this dataset, we hope to develop a predictive model that discerns exoplanets from other extrasolar entities, furthering our understanding of the universe."
   ]
  },
  {
   "cell_type": "code",
   "execution_count": 17,
   "id": "6e92c509-03bb-468e-b4fe-a5c3d99f8590",
   "metadata": {
    "tags": []
   },
   "outputs": [
    {
     "name": "stderr",
     "output_type": "stream",
     "text": [
      "── \u001b[1mAttaching packages\u001b[22m ────────────────────────────────────── tidymodels 1.0.0 ──\n",
      "\n",
      "\u001b[32m✔\u001b[39m \u001b[34mbroom       \u001b[39m 1.0.2     \u001b[32m✔\u001b[39m \u001b[34mrsample     \u001b[39m 1.1.1\n",
      "\u001b[32m✔\u001b[39m \u001b[34mdials       \u001b[39m 1.1.0     \u001b[32m✔\u001b[39m \u001b[34mtune        \u001b[39m 1.0.1\n",
      "\u001b[32m✔\u001b[39m \u001b[34minfer       \u001b[39m 1.0.4     \u001b[32m✔\u001b[39m \u001b[34mworkflows   \u001b[39m 1.1.2\n",
      "\u001b[32m✔\u001b[39m \u001b[34mmodeldata   \u001b[39m 1.0.1     \u001b[32m✔\u001b[39m \u001b[34mworkflowsets\u001b[39m 1.0.0\n",
      "\u001b[32m✔\u001b[39m \u001b[34mparsnip     \u001b[39m 1.0.3     \u001b[32m✔\u001b[39m \u001b[34myardstick   \u001b[39m 1.1.0\n",
      "\u001b[32m✔\u001b[39m \u001b[34mrecipes     \u001b[39m 1.0.4     \n",
      "\n",
      "── \u001b[1mConflicts\u001b[22m ───────────────────────────────────────── tidymodels_conflicts() ──\n",
      "\u001b[31m✖\u001b[39m \u001b[34mscales\u001b[39m::\u001b[32mdiscard()\u001b[39m masks \u001b[34mpurrr\u001b[39m::discard()\n",
      "\u001b[31m✖\u001b[39m \u001b[34mdplyr\u001b[39m::\u001b[32mfilter()\u001b[39m   masks \u001b[34mstats\u001b[39m::filter()\n",
      "\u001b[31m✖\u001b[39m \u001b[34mrecipes\u001b[39m::\u001b[32mfixed()\u001b[39m  masks \u001b[34mstringr\u001b[39m::fixed()\n",
      "\u001b[31m✖\u001b[39m \u001b[34mdplyr\u001b[39m::\u001b[32mlag()\u001b[39m      masks \u001b[34mstats\u001b[39m::lag()\n",
      "\u001b[31m✖\u001b[39m \u001b[34myardstick\u001b[39m::\u001b[32mspec()\u001b[39m masks \u001b[34mreadr\u001b[39m::spec()\n",
      "\u001b[31m✖\u001b[39m \u001b[34mrecipes\u001b[39m::\u001b[32mstep()\u001b[39m   masks \u001b[34mstats\u001b[39m::step()\n",
      "\u001b[34m•\u001b[39m Use \u001b[32mtidymodels_prefer()\u001b[39m to resolve common conflicts.\n",
      "\n",
      "Warning message in file(filename, \"r\", encoding = encoding):\n",
      "“cannot open file 'tests.R': No such file or directory”\n"
     ]
    },
    {
     "ename": "ERROR",
     "evalue": "Error in file(filename, \"r\", encoding = encoding): cannot open the connection\n",
     "output_type": "error",
     "traceback": [
      "Error in file(filename, \"r\", encoding = encoding): cannot open the connection\nTraceback:\n",
      "1. source(\"tests.R\")",
      "2. file(filename, \"r\", encoding = encoding)"
     ]
    }
   ],
   "source": [
    "library(tidyverse)\n",
    "library(repr)\n",
    "library(tidymodels)\n",
    "options(repr.matrix.max.rows = 6)\n",
    "source('tests.R')\n",
    "source('cleanup.R')"
   ]
  },
  {
   "cell_type": "code",
   "execution_count": 31,
   "id": "ea587c07-fcd2-4254-8fad-d7c359a47222",
   "metadata": {
    "tags": []
   },
   "outputs": [
    {
     "name": "stderr",
     "output_type": "stream",
     "text": [
      "\u001b[1mRows: \u001b[22m\u001b[34m9564\u001b[39m \u001b[1mColumns: \u001b[22m\u001b[34m50\u001b[39m\n",
      "\u001b[36m──\u001b[39m \u001b[1mColumn specification\u001b[22m \u001b[36m────────────────────────────────────────────────────────\u001b[39m\n",
      "\u001b[1mDelimiter:\u001b[22m \",\"\n",
      "\u001b[31mchr\u001b[39m  (5): kepoi_name, kepler_name, koi_disposition, koi_pdisposition, koi_tc...\n",
      "\u001b[32mdbl\u001b[39m (43): rowid, kepid, koi_score, koi_fpflag_nt, koi_fpflag_ss, koi_fpflag_...\n",
      "\u001b[33mlgl\u001b[39m  (2): koi_teq_err1, koi_teq_err2\n",
      "\n",
      "\u001b[36mℹ\u001b[39m Use `spec()` to retrieve the full column specification for this data.\n",
      "\u001b[36mℹ\u001b[39m Specify the column types or set `show_col_types = FALSE` to quiet this message.\n"
     ]
    },
    {
     "data": {
      "text/html": [
       "<table class=\"dataframe\">\n",
       "<caption>A tibble: 6 × 5</caption>\n",
       "<thead>\n",
       "\t<tr><th scope=col>koi_disposition</th><th scope=col>koi_period</th><th scope=col>koi_depth</th><th scope=col>koi_duration</th><th scope=col>koi_impact</th></tr>\n",
       "\t<tr><th scope=col>&lt;chr&gt;</th><th scope=col>&lt;dbl&gt;</th><th scope=col>&lt;dbl&gt;</th><th scope=col>&lt;dbl&gt;</th><th scope=col>&lt;dbl&gt;</th></tr>\n",
       "</thead>\n",
       "<tbody>\n",
       "\t<tr><td>CONFIRMED     </td><td> 9.488036</td><td>  615.8</td><td>2.95750</td><td>0.146</td></tr>\n",
       "\t<tr><td>CONFIRMED     </td><td>54.418383</td><td>  874.8</td><td>4.50700</td><td>0.586</td></tr>\n",
       "\t<tr><td>FALSE POSITIVE</td><td>19.899140</td><td>10829.0</td><td>1.78220</td><td>0.969</td></tr>\n",
       "\t<tr><td>FALSE POSITIVE</td><td> 1.736952</td><td> 8079.2</td><td>2.40641</td><td>1.276</td></tr>\n",
       "\t<tr><td>CONFIRMED     </td><td> 2.525592</td><td>  603.3</td><td>1.65450</td><td>0.701</td></tr>\n",
       "\t<tr><td>CONFIRMED     </td><td>11.094321</td><td> 1517.5</td><td>4.59450</td><td>0.538</td></tr>\n",
       "</tbody>\n",
       "</table>\n"
      ],
      "text/latex": [
       "A tibble: 6 × 5\n",
       "\\begin{tabular}{lllll}\n",
       " koi\\_disposition & koi\\_period & koi\\_depth & koi\\_duration & koi\\_impact\\\\\n",
       " <chr> & <dbl> & <dbl> & <dbl> & <dbl>\\\\\n",
       "\\hline\n",
       "\t CONFIRMED      &  9.488036 &   615.8 & 2.95750 & 0.146\\\\\n",
       "\t CONFIRMED      & 54.418383 &   874.8 & 4.50700 & 0.586\\\\\n",
       "\t FALSE POSITIVE & 19.899140 & 10829.0 & 1.78220 & 0.969\\\\\n",
       "\t FALSE POSITIVE &  1.736952 &  8079.2 & 2.40641 & 1.276\\\\\n",
       "\t CONFIRMED      &  2.525592 &   603.3 & 1.65450 & 0.701\\\\\n",
       "\t CONFIRMED      & 11.094321 &  1517.5 & 4.59450 & 0.538\\\\\n",
       "\\end{tabular}\n"
      ],
      "text/markdown": [
       "\n",
       "A tibble: 6 × 5\n",
       "\n",
       "| koi_disposition &lt;chr&gt; | koi_period &lt;dbl&gt; | koi_depth &lt;dbl&gt; | koi_duration &lt;dbl&gt; | koi_impact &lt;dbl&gt; |\n",
       "|---|---|---|---|---|\n",
       "| CONFIRMED      |  9.488036 |   615.8 | 2.95750 | 0.146 |\n",
       "| CONFIRMED      | 54.418383 |   874.8 | 4.50700 | 0.586 |\n",
       "| FALSE POSITIVE | 19.899140 | 10829.0 | 1.78220 | 0.969 |\n",
       "| FALSE POSITIVE |  1.736952 |  8079.2 | 2.40641 | 1.276 |\n",
       "| CONFIRMED      |  2.525592 |   603.3 | 1.65450 | 0.701 |\n",
       "| CONFIRMED      | 11.094321 |  1517.5 | 4.59450 | 0.538 |\n",
       "\n"
      ],
      "text/plain": [
       "  koi_disposition koi_period koi_depth koi_duration koi_impact\n",
       "1 CONFIRMED        9.488036    615.8   2.95750      0.146     \n",
       "2 CONFIRMED       54.418383    874.8   4.50700      0.586     \n",
       "3 FALSE POSITIVE  19.899140  10829.0   1.78220      0.969     \n",
       "4 FALSE POSITIVE   1.736952   8079.2   2.40641      1.276     \n",
       "5 CONFIRMED        2.525592    603.3   1.65450      0.701     \n",
       "6 CONFIRMED       11.094321   1517.5   4.59450      0.538     "
      ]
     },
     "metadata": {},
     "output_type": "display_data"
    },
    {
     "data": {
      "text/html": [
       "<table class=\"dataframe\">\n",
       "<caption>A tibble: 1 × 4</caption>\n",
       "<thead>\n",
       "\t<tr><th scope=col>koi_period</th><th scope=col>koi_depth</th><th scope=col>koi_duration</th><th scope=col>koi_impact</th></tr>\n",
       "\t<tr><th scope=col>&lt;dbl&gt;</th><th scope=col>&lt;dbl&gt;</th><th scope=col>&lt;dbl&gt;</th><th scope=col>&lt;dbl&gt;</th></tr>\n",
       "</thead>\n",
       "<tbody>\n",
       "\t<tr><td>62.23215</td><td>24109.49</td><td>5.572078</td><td>0.7553464</td></tr>\n",
       "</tbody>\n",
       "</table>\n"
      ],
      "text/latex": [
       "A tibble: 1 × 4\n",
       "\\begin{tabular}{llll}\n",
       " koi\\_period & koi\\_depth & koi\\_duration & koi\\_impact\\\\\n",
       " <dbl> & <dbl> & <dbl> & <dbl>\\\\\n",
       "\\hline\n",
       "\t 62.23215 & 24109.49 & 5.572078 & 0.7553464\\\\\n",
       "\\end{tabular}\n"
      ],
      "text/markdown": [
       "\n",
       "A tibble: 1 × 4\n",
       "\n",
       "| koi_period &lt;dbl&gt; | koi_depth &lt;dbl&gt; | koi_duration &lt;dbl&gt; | koi_impact &lt;dbl&gt; |\n",
       "|---|---|---|---|\n",
       "| 62.23215 | 24109.49 | 5.572078 | 0.7553464 |\n",
       "\n"
      ],
      "text/plain": [
       "  koi_period koi_depth koi_duration koi_impact\n",
       "1 62.23215   24109.49  5.572078     0.7553464 "
      ]
     },
     "metadata": {},
     "output_type": "display_data"
    },
    {
     "data": {
      "text/html": [
       "<table class=\"dataframe\">\n",
       "<caption>A tibble: 1 × 4</caption>\n",
       "<thead>\n",
       "\t<tr><th scope=col>koi_period</th><th scope=col>koi_depth</th><th scope=col>koi_duration</th><th scope=col>koi_impact</th></tr>\n",
       "\t<tr><th scope=col>&lt;dbl&gt;</th><th scope=col>&lt;dbl&gt;</th><th scope=col>&lt;dbl&gt;</th><th scope=col>&lt;dbl&gt;</th></tr>\n",
       "</thead>\n",
       "<tbody>\n",
       "\t<tr><td>28.12939</td><td>1187.205</td><td>4.318154</td><td>0.426088</td></tr>\n",
       "</tbody>\n",
       "</table>\n"
      ],
      "text/latex": [
       "A tibble: 1 × 4\n",
       "\\begin{tabular}{llll}\n",
       " koi\\_period & koi\\_depth & koi\\_duration & koi\\_impact\\\\\n",
       " <dbl> & <dbl> & <dbl> & <dbl>\\\\\n",
       "\\hline\n",
       "\t 28.12939 & 1187.205 & 4.318154 & 0.426088\\\\\n",
       "\\end{tabular}\n"
      ],
      "text/markdown": [
       "\n",
       "A tibble: 1 × 4\n",
       "\n",
       "| koi_period &lt;dbl&gt; | koi_depth &lt;dbl&gt; | koi_duration &lt;dbl&gt; | koi_impact &lt;dbl&gt; |\n",
       "|---|---|---|---|\n",
       "| 28.12939 | 1187.205 | 4.318154 | 0.426088 |\n",
       "\n"
      ],
      "text/plain": [
       "  koi_period koi_depth koi_duration koi_impact\n",
       "1 28.12939   1187.205  4.318154     0.426088  "
      ]
     },
     "metadata": {},
     "output_type": "display_data"
    },
    {
     "data": {
      "text/html": [
       "<table class=\"dataframe\">\n",
       "<caption>A tibble: 1 × 4</caption>\n",
       "<thead>\n",
       "\t<tr><th scope=col>koi_period</th><th scope=col>koi_depth</th><th scope=col>koi_duration</th><th scope=col>koi_impact</th></tr>\n",
       "\t<tr><th scope=col>&lt;dbl&gt;</th><th scope=col>&lt;dbl&gt;</th><th scope=col>&lt;dbl&gt;</th><th scope=col>&lt;dbl&gt;</th></tr>\n",
       "</thead>\n",
       "<tbody>\n",
       "\t<tr><td>72.85858</td><td>45638.96</td><td>6.483819</td><td>1.004392</td></tr>\n",
       "</tbody>\n",
       "</table>\n"
      ],
      "text/latex": [
       "A tibble: 1 × 4\n",
       "\\begin{tabular}{llll}\n",
       " koi\\_period & koi\\_depth & koi\\_duration & koi\\_impact\\\\\n",
       " <dbl> & <dbl> & <dbl> & <dbl>\\\\\n",
       "\\hline\n",
       "\t 72.85858 & 45638.96 & 6.483819 & 1.004392\\\\\n",
       "\\end{tabular}\n"
      ],
      "text/markdown": [
       "\n",
       "A tibble: 1 × 4\n",
       "\n",
       "| koi_period &lt;dbl&gt; | koi_depth &lt;dbl&gt; | koi_duration &lt;dbl&gt; | koi_impact &lt;dbl&gt; |\n",
       "|---|---|---|---|\n",
       "| 72.85858 | 45638.96 | 6.483819 | 1.004392 |\n",
       "\n"
      ],
      "text/plain": [
       "  koi_period koi_depth koi_duration koi_impact\n",
       "1 72.85858   45638.96  6.483819     1.004392  "
      ]
     },
     "metadata": {},
     "output_type": "display_data"
    }
   ],
   "source": [
    "\n",
    "##Reaing the data \n",
    "exoplanet <- read_csv(\"https://raw.githubusercontent.com/QuwackJ/dsci-100-group-37/main/Data/cumulative.csv?token=GHSAT0AAAAAACJLMITMUOT2CGMLL6QR2PRAZJ4CN6A\")\n",
    "\n",
    "\n",
    "\n",
    "\n",
    "\n",
    "##Selecting for our predictors\n",
    "exoplanet_selected <- exoplanet |>\n",
    "                        select(koi_disposition, koi_period, koi_depth, koi_duration, koi_impact)\n",
    "\n",
    "\n",
    "head(exoplanet_selected)\n",
    "\n",
    "##splitting into training and testing data\n",
    "exoplanet_split <- initial_split(exoplanet_selected, prop = 0.75, strata = koi_disposition)\n",
    "training_data <- training(exoplanet_split)   \n",
    "testing_data <- testing(exoplanet_split)\n",
    "\n",
    "##MEAN value of all predictors for the whole dataset\n",
    "summary_table <- training_data |>\n",
    "                    select(-koi_disposition) |>\n",
    "                    map_df(mean, na.rm = TRUE)\n",
    "\n",
    "\n",
    "##MEAN value of all predictors for confirmed exoplanets\n",
    "summary_table_confirmed <- training_data |>\n",
    "                    filter(koi_disposition == \"CONFIRMED\") |>\n",
    "                    select(-koi_disposition) |>\n",
    "                    map_df(mean, na.rm = TRUE)\n",
    "\n",
    "##MEAN value of all predictors for false positives\n",
    "summary_table_false <- training_data |>\n",
    "                    filter(koi_disposition == \"FALSE POSITIVE\") |>\n",
    "                    select(-koi_disposition) |>\n",
    "                    map_df(mean, na.rm = TRUE)\n",
    "summary_table\n",
    "summary_table_confirmed\n",
    "summary_table_false\n",
    "\n",
    "summary_plot <- training_data |>\n",
    "                    ggplot(aes(x = , y = , color = )) +\n",
    "                    geom_point(alpha = 0.3) +\n",
    "                    labs(\n",
    "                        x = ,\n",
    "                        y = ,\n",
    "                        color = ,)"
   ]
  },
  {
   "cell_type": "code",
   "execution_count": null,
   "id": "dac98811-402b-4dbd-a97e-c24ea9ba6e0e",
   "metadata": {},
   "outputs": [],
   "source": []
  }
 ],
 "metadata": {
  "kernelspec": {
   "display_name": "R",
   "language": "R",
   "name": "ir"
  },
  "language_info": {
   "codemirror_mode": "r",
   "file_extension": ".r",
   "mimetype": "text/x-r-source",
   "name": "R",
   "pygments_lexer": "r",
   "version": "4.2.2"
  },
  "toc-autonumbering": false,
  "toc-showcode": false,
  "toc-showmarkdowntxt": false,
  "widgets": {
   "application/vnd.jupyter.widget-state+json": {
    "state": {},
    "version_major": 2,
    "version_minor": 0
   }
  }
 },
 "nbformat": 4,
 "nbformat_minor": 5
}
